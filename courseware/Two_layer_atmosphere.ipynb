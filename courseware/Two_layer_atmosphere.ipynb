{
 "cells": [
  {
   "cell_type": "markdown",
   "metadata": {},
   "source": [
    "# The two-layer grey radiation model (aka the leaky greenhouse)"
   ]
  },
  {
   "cell_type": "markdown",
   "metadata": {},
   "source": [
    "### I think this notebook needs updating to account for the reversal of the vertical pressure axis that happened awhile back in `climlab`."
   ]
  },
  {
   "cell_type": "markdown",
   "metadata": {},
   "source": [
    "- Surface temperature is $T_s$\n",
    "- Atm. temperatures are $T_1, T_2$ where $T_1$ is closest to the surface.\n",
    "- absorptivity of atm layers is $\\epsilon_1, \\epsilon_2$\n",
    "- Surface emission is $\\sigma T_s^4$\n",
    "- Atm emission is $\\epsilon_1 \\sigma T_1^4, \\epsilon_2 \\sigma T_2^4$ (up and down)\n",
    "- Abs = emissivity for atm layers\n",
    "- Transmissivity for atm layers is $\\tau_1, \\tau_2$ where $\\tau_i = (1-\\epsilon_i)$\n",
    "\n",
    "### Emission\n",
    "$$ E_s = \\sigma T_s^4 $$\n",
    "\n",
    "$$ E_1 = \\epsilon_1 \\sigma T_1^4 $$\n",
    "\n",
    "$$ E_2 = \\epsilon_2 \\sigma T_2^4 $$\n",
    "\n",
    "### Incident radiation\n",
    "\n",
    "$$ F_s = \\tau_1 E_2 + E_1 $$\n",
    "\n",
    "$$ F_1 = E_s + E_2 $$\n",
    "\n",
    "$$ F_2 = \\tau_1 E_s + E_1 $$\n",
    "\n",
    "### Net radiation\n",
    "(absorptivity) * incident - emission\n",
    "\n",
    "$$ R_s = F_s - E_s $$\n",
    "\n",
    "$$ R_1 = \\epsilon_1 F_1 - 2 E_1 $$\n",
    "\n",
    "$$ R_2 = \\epsilon_2 F_2 - 2 E_2 $$\n",
    "\n",
    "### OLR\n",
    "\n",
    "$$ OLR = \\tau_2 F_2 + E_2 $$\n",
    "\n",
    "$$ = \\tau_1 \\tau_2 E_s + \\tau_2 E_1 + E_2 $$\n",
    "$$ = \\tau_1 \\tau_2 \\sigma T_s^4 + \\tau_2 \\epsilon_1 \\sigma T_1^4 + \\epsilon_2 \\sigma T_2^4 $$\n",
    "\n",
    "### Net radiation in terms of emissions\n",
    "\n",
    "$$ R_s = \\tau_1 E_2 + E_1 - E_s $$\n",
    "\n",
    "$$ R_1 = \\epsilon_1 (E_s + E_2) - 2 E_1 $$\n",
    "\n",
    "$$ R_2 = \\epsilon_2 (\\tau_1 E_s + E_1) - 2 E_2 $$\n",
    "\n",
    "### Net radiation in terms of temperatures\n",
    "\n",
    "$$ R_s = \\tau_1 \\epsilon_2 \\sigma T_2^4 + \\epsilon_1 \\sigma T_1^4 - \\sigma T_s^4 $$\n",
    "\n",
    "$$ R_1 = \\epsilon_1 (\\sigma T_s^4 + \\epsilon_2 \\sigma T_2^4) - 2 \\epsilon_1 \\sigma T_1^4 $$\n",
    "\n",
    "$$ R_2 = \\epsilon_2 (\\tau_1 \\sigma T_s^4 + \\epsilon_1 \\sigma T_1^4) - 2 \\epsilon_2 \\sigma T_2^4 $$\n",
    "\n",
    "### Net radiation in terms of temperatures and absorptivities\n",
    "\n",
    "$$ R_s = (1-\\epsilon_1) \\epsilon_2 \\sigma T_2^4 + \\epsilon_1 \\sigma T_1^4 - \\sigma T_s^4 $$\n",
    "\n",
    "$$ R_1 = \\epsilon_1 (\\sigma T_s^4 + \\epsilon_2 \\sigma T_2^4) - 2 \\epsilon_1 \\sigma T_1^4 $$\n",
    "\n",
    "$$ R_2 = \\epsilon_2 ((1-\\epsilon_1) \\sigma T_s^4 + \\epsilon_1 \\sigma T_1^4) - 2 \\epsilon_2 \\sigma T_2^4 $$\n",
    "\n",
    "## Solve for radiative equilibrium\n",
    "Need to add the solar energy source. We assume atm is transparent, solar is all absorbed at the surface.\n",
    "\n",
    "$$ R_1 = R_2 = 0$$\n",
    "\n",
    "$$ R_s = - (1-\\alpha) Q $$\n",
    "\n",
    "Introduce useful notation shorthand:\n",
    "\n",
    "$$ (1-\\alpha) Q = \\sigma T_e^4 $$\n",
    "\n",
    "This gives a 3x3 system which is **linear in $T^4$** (divide through by $\\sigma$)\n",
    "\n",
    "$$ - T_s^4 + \\epsilon_1 T_1^4 + (1-\\epsilon_1) \\epsilon_2  T_2^4 + T_e^4 = 0 $$\n",
    "\n",
    "$$ \\epsilon_1 T_s^4 - 2 \\epsilon_1 T_1^4 + \\epsilon_1 \\epsilon_2  T_2^4 = 0$$\n",
    "\n",
    "$$ \\epsilon_2 (1-\\epsilon_1) T_s^4 + \\epsilon_1 \\epsilon_2 T_1^4 - 2 \\epsilon_2 T_2^4 = 0$$\n",
    "\n",
    "Here we use the `sympy` module to solve the algebraic system symbolically."
   ]
  },
  {
   "cell_type": "code",
   "execution_count": null,
   "metadata": {},
   "outputs": [],
   "source": [
    "import sympy\n",
    "sympy.init_printing()\n",
    "T_s, T_1, T_2, T_e, e_1, e_2 = sympy.symbols('T_s, T_1, T_2, T_e, e_1, e_2', positive=True )\n",
    "system = [-T_s**4 + e_1*T_1**4 + e_2*(1-e_1)*T_2**4 + T_e**4,\n",
    "              e_1*T_s**4 - 2*e_1*T_1**4 + e_1*e_2*T_2**4,\n",
    "              e_2*(1-e_1)*T_s**4 + e_1*e_2*T_1**4 - 2*e_2*T_2**4]\n",
    "out1 = sympy.solve( system, [T_s**4, T_1**4, T_2**4])\n",
    "out1"
   ]
  },
  {
   "cell_type": "code",
   "execution_count": null,
   "metadata": {},
   "outputs": [],
   "source": [
    "quarter = sympy.Rational(1,4)\n",
    "out2 = {}\n",
    "for var4, formula in out1.items():\n",
    "    var = (var4)**quarter\n",
    "    out2[var] = sympy.simplify(formula**quarter)\n",
    "out2"
   ]
  },
  {
   "cell_type": "code",
   "execution_count": null,
   "metadata": {},
   "outputs": [],
   "source": [
    "#  The special case of equal absorptivities\n",
    "e = sympy.symbols('e')\n",
    "out3 = {}\n",
    "for var4, formula in out1.items():\n",
    "    var = (var4)**quarter\n",
    "    simple_formula = sympy.cancel(formula.subs([(e_2, e),(e_1, e)]))\n",
    "    out3[var] = sympy.simplify( simple_formula**quarter )\n",
    "out3"
   ]
  },
  {
   "cell_type": "markdown",
   "metadata": {},
   "source": [
    "The solution is\n",
    "\n",
    "\\begin{align} \n",
    "T_s^4 &= T_e^4 \\frac{4 - \\epsilon_1 \\epsilon_2}{4 + \\epsilon_1 \\epsilon_2 - 2 \\epsilon_1 - 2 \\epsilon_2}  \\\\\n",
    "T_1^4 &= T_e^4 \\frac{2 -\\epsilon_1 \\epsilon_2 + \\epsilon_2}{4 + \\epsilon_1 \\epsilon_2 - 2 \\epsilon_1 - 2 \\epsilon_2} \\\\\n",
    "T_2^4 &= T_e^4 \\frac{ 1}{2 - \\epsilon_2}\n",
    "\\end{align}"
   ]
  },
  {
   "cell_type": "markdown",
   "metadata": {},
   "source": [
    "In the special case $\\epsilon_1 = \\epsilon_2$ this reduces to\n",
    "\n",
    "\\begin{align} \n",
    "T_s^4 &= T_e^4 \\frac{2+\\epsilon}{2-\\epsilon}  \\\\\n",
    "T_1^4 &= T_e^4 \\frac{1+\\epsilon}{2-\\epsilon} \\\\\n",
    "T_2^4 &= T_e^4 \\frac{ 1}{2 - \\epsilon}\n",
    "\\end{align}"
   ]
  },
  {
   "cell_type": "code",
   "execution_count": null,
   "metadata": {},
   "outputs": [],
   "source": [
    "out2[T_s].subs([(T_e, 255), (e_1, 0.4), (e_2, 0.4)])"
   ]
  },
  {
   "cell_type": "code",
   "execution_count": null,
   "metadata": {},
   "outputs": [],
   "source": [
    "for var, formula in out2.items():\n",
    "    print(formula.subs([(T_e, 255), (e_1, 0.4), (e_2, 0.4)]))"
   ]
  },
  {
   "cell_type": "code",
   "execution_count": null,
   "metadata": {},
   "outputs": [],
   "source": [
    "# Coding up the analytical solutions for radiative equilibrium\n",
    "#  These use the analytical results returned by sympy and wrap them in callable functions\n",
    "\n",
    "def Ts(Te, e1, e2):\n",
    "    #return Te*((4-e1*e2)/(4+e1*e2-2*(e1+e2)))**0.25\n",
    "    return out2[T_s].subs([(T_e, Te), (e_1, e1), (e_2, e2)])\n",
    "def T1(Te, e1, e2):\n",
    "    #return Te*((2+e2-e1*e2)/(4+e1*e2-2*(e1+e2)))**0.25\n",
    "    return out2[T_1].subs([(T_e, Te), (e_1, e1), (e_2, e2)])\n",
    "def T2(Te, e1, e2):\n",
    "    #return Te*(1/(2-e2))**0.25\n",
    "    return out2[T_2].subs([(T_e, Te), (e_1, e1), (e_2, e2)])"
   ]
  },
  {
   "cell_type": "code",
   "execution_count": null,
   "metadata": {},
   "outputs": [],
   "source": [
    "%matplotlib inline\n",
    "import numpy as np\n",
    "from climlab import constants as const\n",
    "import climlab"
   ]
  },
  {
   "cell_type": "code",
   "execution_count": null,
   "metadata": {},
   "outputs": [],
   "source": [
    "mycolumn = climlab.GreyRadiationModel( num_lev=2 )"
   ]
  },
  {
   "cell_type": "code",
   "execution_count": null,
   "metadata": {},
   "outputs": [],
   "source": [
    "print(mycolumn)"
   ]
  },
  {
   "cell_type": "code",
   "execution_count": null,
   "metadata": {},
   "outputs": [],
   "source": [
    "mycolumn.integrate_years(10.)"
   ]
  },
  {
   "cell_type": "code",
   "execution_count": null,
   "metadata": {},
   "outputs": [],
   "source": [
    "print(mycolumn.Ts)\n",
    "print(mycolumn.Tatm)"
   ]
  },
  {
   "cell_type": "code",
   "execution_count": null,
   "metadata": {},
   "outputs": [],
   "source": [
    "(e1, e2)= mycolumn.subprocess['LW'].absorptivity\n",
    "print(e1, e2)"
   ]
  },
  {
   "cell_type": "code",
   "execution_count": null,
   "metadata": {},
   "outputs": [],
   "source": [
    "ASR = (1-mycolumn.param['albedo_sfc'])*mycolumn.param['Q']\n",
    "Te = (ASR/const.sigma)**0.25\n",
    "print(Te)"
   ]
  },
  {
   "cell_type": "markdown",
   "metadata": {},
   "source": [
    "## Check numerical versus analytical results\n",
    "\n",
    "Use a tolerance value to test if the results are the same."
   ]
  },
  {
   "cell_type": "code",
   "execution_count": null,
   "metadata": {},
   "outputs": [],
   "source": [
    "tol = 0.01\n",
    "\n",
    "def test_2level(col):\n",
    "    (e1, e2)= col.subprocess['LW'].absorptivity\n",
    "    ASR = (1-col.param['albedo_sfc'])*col.param['Q']\n",
    "    Te = (ASR/const.sigma)**0.25\n",
    "    print('Surface:')\n",
    "    num = col.Ts\n",
    "    anal = Ts(Te,e1,e2)\n",
    "    print('  Numerical: %.2f   Analytical: %.2f    Same:' %(num, anal) , abs(num - anal)<tol)\n",
    "    print('Level 1')\n",
    "    num = col.Tatm[0]\n",
    "    anal = T1(Te,e1,e2)\n",
    "    print('  Numerical: %.2f   Analytical: %.2f    Same:' %(num, anal) , abs(num - anal)<tol)\n",
    "    print('Level 2')\n",
    "    num = col.Tatm[1]\n",
    "    anal = T2(Te,e1,e2)\n",
    "    print('  Numerical: %.2f   Analytical: %.2f    Same:' %(num, anal) , abs(num - anal)<tol)"
   ]
  },
  {
   "cell_type": "code",
   "execution_count": null,
   "metadata": {},
   "outputs": [],
   "source": [
    "test_2level(mycolumn)"
   ]
  },
  {
   "cell_type": "code",
   "execution_count": null,
   "metadata": {},
   "outputs": [],
   "source": [
    "e1 = 0.3\n",
    "e2 = 0.4\n",
    "mycolumn.subprocess['LW'].absorptivity = np.array([e1,e2])\n",
    "mycolumn.integrate_years(10.)"
   ]
  },
  {
   "cell_type": "code",
   "execution_count": null,
   "metadata": {},
   "outputs": [],
   "source": [
    "test_2level(mycolumn)"
   ]
  },
  {
   "cell_type": "code",
   "execution_count": null,
   "metadata": {},
   "outputs": [],
   "source": [
    "e1 = 0.6\n",
    "e2 = 0.6\n",
    "mycolumn.subprocess['LW'].absorptivity = np.array([e1,e2])\n",
    "mycolumn.integrate_years(10.)\n",
    "test_2level(mycolumn)"
   ]
  },
  {
   "cell_type": "code",
   "execution_count": null,
   "metadata": {},
   "outputs": [],
   "source": [
    "col1 = climlab.GreyRadiationModel(num_lev=2, abs_coeff=1.9E-4)\n",
    "(e1, e2) = col1.subprocess['LW'].absorptivity\n",
    "print(e1, e2)\n",
    "col1.integrate_years(10.)\n",
    "test_2level(col1)"
   ]
  },
  {
   "cell_type": "code",
   "execution_count": null,
   "metadata": {},
   "outputs": [],
   "source": [
    "col1 = climlab.GreyRadiationModel(num_lev=2, abs_coeff=1.9E-4)\n",
    "lw = col1.subprocess['LW']\n",
    "(e1, e2) = lw.absorptivity\n",
    "e1 *= 1.2\n",
    "lw.absorptivity = np.array([e1, e2])\n",
    "col1.integrate_years(10.)\n",
    "test_2level(col1)"
   ]
  },
  {
   "cell_type": "markdown",
   "metadata": {},
   "source": [
    "### Conclusion: The Two-level model works"
   ]
  },
  {
   "cell_type": "markdown",
   "metadata": {},
   "source": [
    "## Three-layer model\n",
    "\n",
    "Extend the analysis to three layers.\n",
    "Start numbering the layers from 0 to be consistent with array indexing."
   ]
  },
  {
   "cell_type": "code",
   "execution_count": null,
   "metadata": {},
   "outputs": [],
   "source": [
    "T_s, T_0, T_1, T_2, T_e, epsilon_0, epsilon_1, epsilon_2, sigma = \\\n",
    "    sympy.symbols('T_s, T_0, T_1, T_2, T_e, epsilon_0, epsilon_1, epsilon_2, sigma', positive=True )"
   ]
  },
  {
   "cell_type": "markdown",
   "metadata": {},
   "source": [
    "Define the transmissivities $\\tau_i$ for layers $i=0, 1, \\dots, N-1$"
   ]
  },
  {
   "cell_type": "code",
   "execution_count": null,
   "metadata": {},
   "outputs": [],
   "source": [
    "tau_0 = (1-epsilon_0)\n",
    "tau_1 = (1-epsilon_1)\n",
    "tau_2 = (1-epsilon_2)\n",
    "tau_0, tau_1, tau_2"
   ]
  },
  {
   "cell_type": "markdown",
   "metadata": {},
   "source": [
    "Note that if the atmosphere has $N$ layers then $\\epsilon_N = 0$\n",
    "\n",
    "Define the emissions for each layer:"
   ]
  },
  {
   "cell_type": "code",
   "execution_count": null,
   "metadata": {},
   "outputs": [],
   "source": [
    "E_s = sigma*T_s**4\n",
    "E_0 = epsilon_0*sigma*T_0**4\n",
    "E_1 = epsilon_1*sigma*T_1**4\n",
    "E_2 = epsilon_2*sigma*T_2**4\n",
    "E_s, E_0, E_1, E_2"
   ]
  },
  {
   "cell_type": "markdown",
   "metadata": {},
   "source": [
    "Define the longwave fluxes incident on each layer, $F_{i}$\n",
    "\n",
    "Note that if the atmosphere has $N$ layers then $F_{N}$ is the OLR (emission to space)"
   ]
  },
  {
   "cell_type": "code",
   "execution_count": null,
   "metadata": {},
   "outputs": [],
   "source": [
    "F_s = E_0 + tau_0*E_1 + tau_0*tau_1*E_2\n",
    "F_0 = E_s + E_1 + tau_1*E_2\n",
    "F_1 = tau_0*E_s + E_0 + E_2\n",
    "F_2 = tau_1*tau_0*E_s + tau_1*E_0 + E_1\n",
    "F_3 = tau_2*tau_1*tau_0*E_s + tau_2*tau_1*E_0 + tau_2*E_1 + E_2\n",
    "\n",
    "F_s, F_0, F_1, F_2, F_3"
   ]
  },
  {
   "cell_type": "markdown",
   "metadata": {},
   "source": [
    "Now define the net absorbed longwave radiation (flux divergence) in each layer."
   ]
  },
  {
   "cell_type": "code",
   "execution_count": null,
   "metadata": {},
   "outputs": [],
   "source": [
    "R_s = F_s - E_s\n",
    "R_0 = epsilon_0*F_0 - 2*E_0\n",
    "R_1 = epsilon_1*F_1 - 2*E_1\n",
    "R_2 = epsilon_2*F_2 - 2*E_2\n",
    "\n",
    "R_s, R_0, R_1, R_2"
   ]
  },
  {
   "cell_type": "markdown",
   "metadata": {},
   "source": [
    "### Solve for radiative equilibrium\n",
    "\n",
    "Use `sympy.solve` to automatically solve the algebraic system.\n",
    "\n",
    "We will solve for the **radiative equilibrium temperatures** in two steps:\n",
    "\n",
    "- First solve for $T_i^4$, which is a purely linear problem.\n",
    "- Then take the fourth roots to solve for the temperatures."
   ]
  },
  {
   "cell_type": "code",
   "execution_count": null,
   "metadata": {},
   "outputs": [],
   "source": [
    "out1 = sympy.solve([R_s + sigma*T_e**4, R_0, R_1, R_2],\n",
    "            [T_s**4, T_0**4, T_1**4, T_2**4])\n",
    "out1"
   ]
  },
  {
   "cell_type": "code",
   "execution_count": null,
   "metadata": {},
   "outputs": [],
   "source": [
    "quarter = sympy.Rational(1,4)\n",
    "out2 = {}\n",
    "for var4, formula in out1.items():\n",
    "    var = (var4)**quarter\n",
    "    out2[var] = sympy.simplify(formula**quarter)\n",
    "out2"
   ]
  },
  {
   "cell_type": "markdown",
   "metadata": {},
   "source": [
    "Now wrap these analytical radiative equilibrium solutions in callable functions:"
   ]
  },
  {
   "cell_type": "code",
   "execution_count": null,
   "metadata": {},
   "outputs": [],
   "source": [
    "def Ts(Te, e0, e1, e2):\n",
    "    return out2[T_s].subs([(T_e, Te), (epsilon_0, e0), (epsilon_1, e1), (epsilon_2, e2)])\n",
    "def T0(Te, e0, e1, e2):\n",
    "    return out2[T_0].subs([(T_e, Te), (epsilon_0, e0), (epsilon_1, e1), (epsilon_2, e2)])\n",
    "def T1(Te, e0, e1, e2):\n",
    "    return out2[T_1].subs([(T_e, Te), (epsilon_0, e0), (epsilon_1, e1), (epsilon_2, e2)])\n",
    "def T2(Te, e0, e1, e2):\n",
    "    return out2[T_2].subs([(T_e, Te), (epsilon_0, e0), (epsilon_1, e1), (epsilon_2, e2)])"
   ]
  },
  {
   "cell_type": "markdown",
   "metadata": {},
   "source": [
    "### Compare numerical and analytical solutions for radiative equilibrium\n",
    "\n",
    "Define a function that takes a `climlab.GreyRadiationModel` object (which should be first integrated out to equilibrium), and compares the numerical solution to our analytical solution."
   ]
  },
  {
   "cell_type": "code",
   "execution_count": null,
   "metadata": {},
   "outputs": [],
   "source": [
    "tol = 0.01\n",
    "\n",
    "def test_3level(col):\n",
    "    (e0, e1, e2)= col.subprocess['LW'].absorptivity\n",
    "    ASR = (1-col.param['albedo_sfc'])*col.param['Q']\n",
    "    Te = (ASR/const.sigma)**0.25\n",
    "    print('Surface:')\n",
    "    num = col.Ts\n",
    "    anal = Ts(Te,e0,e1,e2)\n",
    "    print('  Numerical: %.2f   Analytical: %.2f    Same:' %(num, anal) , abs(num - anal)<tol)\n",
    "    print('Level 0')\n",
    "    num = col.Tatm[0]\n",
    "    anal = T0(Te,e0,e1,e2)\n",
    "    print('  Numerical: %.2f   Analytical: %.2f    Same:' %(num, anal) , abs(num - anal)<tol)\n",
    "    print('Level 1')\n",
    "    num = col.Tatm[1]\n",
    "    anal = T1(Te,e0,e1,e2)\n",
    "    print('  Numerical: %.2f   Analytical: %.2f    Same:' %(num, anal) , abs(num - anal)<tol)\n",
    "    print('Level 2')\n",
    "    num = col.Tatm[2]\n",
    "    anal = T2(Te,e0,e1,e2)\n",
    "    print('  Numerical: %.2f   Analytical: %.2f    Same:' %(num, anal) , abs(num - anal)<tol)"
   ]
  },
  {
   "cell_type": "code",
   "execution_count": null,
   "metadata": {},
   "outputs": [],
   "source": [
    "col = climlab.GreyRadiationModel( num_lev=3 )\n",
    "col.integrate_years(10.)\n",
    "test_3level(col)"
   ]
  },
  {
   "cell_type": "code",
   "execution_count": null,
   "metadata": {},
   "outputs": [],
   "source": [
    "e0 = 0.3\n",
    "e1 = 0.6\n",
    "e2 = 0.2\n",
    "col.subprocess['LW'].absorptivity = np.array([e0,e1,e2])\n",
    "col.integrate_years(10.)\n",
    "test_3level(col)"
   ]
  },
  {
   "cell_type": "markdown",
   "metadata": {},
   "source": [
    "### Conclusion: The three-level model works"
   ]
  },
  {
   "cell_type": "code",
   "execution_count": null,
   "metadata": {},
   "outputs": [],
   "source": [
    "# The 3-layer solution reduces to two layer solution if we set e_2 = 0\n",
    "out3 = {}\n",
    "for var, formula in out2.items():\n",
    "    if var is not T_2:\n",
    "        out3[var] = sympy.simplify(formula.subs(epsilon_2,0))\n",
    "out3"
   ]
  },
  {
   "cell_type": "markdown",
   "metadata": {},
   "source": [
    "## Generalizing to N layers\n",
    "\n",
    "\\begin{align}\n",
    "E_i &= \\epsilon_i \\sigma T_i^4  \\\\\n",
    "F_i &= ... + \\tau_{i+2} \\tau_{i+1} E_{i+3} + \\tau_{i+1} E_{i+2} + E_{i+1} + E_{i-1} + \\tau_{i-1} E_{i-2} + \\tau_{i-1} \\tau_{i-2} E_{i-3} + ... \\\\\n",
    "F_i &= \\sum_{n=2}^{N-i} \\bigg( \\prod_{j=1}^{n-1} \\tau_{i+j} \\bigg) E_{i+n} + E_{i+1} + E_{i-1} + \\sum_{n=2}^{i-1} \\bigg( \\prod_{j=1}^{n-1} \\tau_{i-j} \\bigg) E_{i-n}  \\\\\n",
    " &= \\sum_{n=1}^{N-i} \\bigg( \\prod_{j=0}^{n-1} \\tau_{i+j} \\bigg) E_{i+n} / \\tau_{i}  + \\sum_{n=1}^{i-1} \\bigg( \\prod_{j=0}^{n-1} \\tau_{i-j} \\bigg) E_{i-n} / \\tau_i \\\\\n",
    " &= \\frac{1}{\\tau_i} \\left\\{ \\sum_{n=1}^{N-i} \\bigg( \\prod_{j=0}^{n-1} \\tau_{i+j} \\bigg) E_{i+n} + \\sum_{n=1}^{i-1} \\bigg( \\prod_{j=0}^{n-1} \\tau_{i-j} \\bigg) E_{i-n}  \\right\\} \n",
    "\\end{align}\n",
    "\n",
    "Now substitute $n \\rightarrow -n$ in the second summation.\n",
    "\n",
    "\\begin{align}\n",
    "F_i &= \\frac{1}{\\tau_i} \\left\\{ \\sum_{n=1}^{N-i} \\bigg( \\prod_{j=0}^{n-1} \\tau_{i+j} \\bigg) E_{i+n} + \\sum_{-n=1}^{i-1} \\bigg( \\prod_{j=0}^{-n-1} \\tau_{i-j} \\bigg) E_{i+n}  \\right\\}  \\\\\n",
    " &= \\frac{1}{\\tau_i} \\left\\{ \\sum_{n=1}^{N-i} \\bigg( \\prod_{j=0}^{n-1} \\tau_{i+j} \\bigg) E_{i+n} + \\sum_{n=1-i}^{-1} \\bigg( \\prod_{j=0}^{-n-1} \\tau_{i-j} \\bigg) E_{i+n}  \\right\\} \n",
    "\\end{align}\n",
    "\n",
    "And substitude $j \\rightarrow -j$ in the second product.\n",
    "\n",
    "\\begin{align}\n",
    "F_i &= \\frac{1}{\\tau_i} \\left\\{ \\sum_{n=1}^{N-i} \\bigg( \\prod_{j=0}^{n-1} \\tau_{i+j} \\bigg) E_{i+n} + \\sum_{n=1-i}^{-1} \\bigg( \\prod_{-j=0}^{-n-1} \\tau_{i+j} \\bigg) E_{i+n}  \\right\\} \\\\\n",
    "  &= \\frac{1}{\\tau_i} \\left\\{ \\sum_{n=1}^{N-i} \\bigg( \\prod_{j=0}^{n-1} \\tau_{i+j} \\bigg) E_{i+n} + \\sum_{n=1-i}^{-1} \\bigg( \\prod_{j=0}^{1+n} \\tau_{i+j} \\bigg) E_{i+n}  \\right\\} \\\\\n",
    "  &= \\frac{1}{\\tau_i} \\left\\{ \\sum_{n=1}^{N-i} \\bigg( \\prod_{j=0}^{|n|-1} \\tau_{i+j} \\bigg) E_{i+n} + \\sum_{n=1-i}^{-1} \\bigg( \\prod_{j=0}^{1- |n|} \\tau_{i+j} \\bigg) E_{i+n}  \\right\\} \\\\\n",
    "  &= \\frac{1}{\\tau_i} \\left\\{ \\sum_{n=1}^{N-i} \\bigg( \\prod_{j=0}^{|n|-1} \\tau_{i+j} \\bigg) E_{i+n} + \\sum_{n=1-i}^{-1} \\bigg( \\prod_{j=0}^{sign(n) (|n|-1)} \\tau_{i+j} \\bigg) E_{i+n}  \\right\\} \n",
    "\\end{align}\n",
    "\n",
    "Now combine both sums together\n",
    "\n",
    "\\begin{align}\n",
    "F_i &= \\frac{1}{\\tau_i} \\left\\{ \\sum_{n=1}^{N-i} \\bigg( \\prod_{j=0}^{|n|-1} \\tau_{i+j} \\bigg) E_{i+n} + E_i + \\sum_{n=1-i}^{-1} \\bigg( \\prod_{j=0}^{sign(n) (|n|-1)} \\tau_{i+j} \\bigg) E_{i+n}  \\right\\} - \\frac{E_i}{\\tau_i} \\\\\n",
    "   &= \\frac{1}{\\tau_i} \\left\\{ \\sum_{n=1-i}^{N-i} \\bigg( \\prod_{j=0}^{sign(n) \\big(|n|-1\\big)} \\tau_{i+j} \\bigg) E_{i+n}  - E_i \\right\\} \n",
    "\\end{align}\n",
    "\n",
    "with the convention that $\\prod_{j=0}^{-1} = 1$.\n",
    "\n",
    "Alternatively if we set $\\prod_{j=0}^{-1} = 0$ then\n",
    "\n",
    "$$ F_i = \\frac{1}{\\tau_i} \\left\\{ \\sum_{n=1-i}^{N-i} \\bigg( \\prod_{j=0}^{sign(n) \\big(|n|-1\\big)} \\tau_{i+j} \\bigg) E_{i+n} \\right\\} $$\n",
    "\n",
    "Let's use this notation since it simplifies our expressions.\n",
    "\n",
    "### Net radiation\n",
    "(absorptivity) * incident - emission\n",
    "\n",
    "\\begin{align}\n",
    "R_i &= \\epsilon_i F_i - 2 E_i  \\\\\n",
    "  &= \\frac{\\epsilon_i}{\\tau_i}  \\left\\{ \\sum_{n=1-i}^{N-i} \\bigg( \\prod_{j=0}^{sign(n) \\big(|n|-1\\big)} \\tau_{i+j} \\bigg) E_{i+n} \\right\\}  - 2 E_i\n",
    "\\end{align}"
   ]
  },
  {
   "cell_type": "markdown",
   "metadata": {},
   "source": [
    "### Alternative...\n",
    "\n",
    "We will define the **transmissivity between layer i and layer i+n **\n",
    "\n",
    "$$ T_{in} = \\left\\{ \\begin{array}{cc} \n",
    " \\prod_{j=1}^{n-1} \\tau_{i+j} &  n > 1 \\\\\n",
    " 1 &  n = 1 \\\\\n",
    " 0  &  n = 0 \\\\\n",
    " 1 & n = -1 \\\\\n",
    " \\prod_{j=1}^{-n-1} \\tau_{i-j} &  n < -1\n",
    " \\end{array} \\right\\}\n",
    " $$\n",
    "\n",
    "Then the incident flux follows directly\n",
    "\n",
    "$$ F_i = \\sum_{n=1-i}^{N-i} T_{in} E_{i+n} $$\n",
    "\n",
    "and the net radiation is\n",
    "\n",
    "\\begin{align}\n",
    "R_i &= \\epsilon_i F_i - 2 E_i  \\\\\n",
    " &= \\epsilon_i \\sum_{n=1-i}^{N-i} T_{in} E_{i+n} - 2 E_i \n",
    "\\end{align}\n",
    "\n",
    "Now make the substitution $i+n \\rightarrow m$\n",
    "\n",
    "\\begin{align}\n",
    "F_i &= \\sum_{m=1}^{N} T_{im} E_{m}  \\\\\n",
    "T_{im} &= \\left\\{ \\begin{array}{cc} \n",
    " \\prod_{j=1}^{m-i-1} \\tau_{i+j} &  m > 1+i \\\\\n",
    " 1 &  m = i+1 \\\\\n",
    " 0  &  m = i \\\\\n",
    " 1 & m = i-1 \\\\\n",
    " \\prod_{j=1}^{i-m-1} \\tau_{i-j} &  m < i-1\n",
    " \\end{array} \\right\\}\n",
    "\\end{align}\n",
    "\n",
    "Or using the Einstein summation notation, since $m$ is a repeated index, we can just write\n",
    "\n",
    "$$ F_i = T_{im} E_{m} $$\n",
    "\n",
    "and the net radiation is\n",
    "\n",
    "$$ R_i = \\epsilon_i F_i - 2 E_i $$"
   ]
  },
  {
   "cell_type": "markdown",
   "metadata": {},
   "source": [
    "## Reformulating in terms of flux between layers\n",
    "\n",
    "Let the upwelling flux be a vector ${\\bf{U}} = [U_0, U_1, ..., U_{N-1}, U_N]$.\n",
    "\n",
    "If there are $N$ levels then $\\bf{U}$ has $N+1$ elements. We will number the layers starting from 0 following `numpy` index conventions.\n",
    "\n",
    "- $U_0$ is the upwelling flux from surface to layer 0.\n",
    "- $U_1$ is the upwelling flux layer 0 to layer 1, etc.\n",
    "- $U_N$ is the upwelling flux from layer N-1 (the top level) to space.\n",
    "\n",
    "Same for the downwelling flux ${\\bf{D}} = [D_0, D_1, ..., D_N]$. So $D_N$ is the flux down from space and $D_0$ is the backradiation to the surface.\n",
    "\n",
    "The absorptivity vector is ${\\bf{\\epsilon}} = [\\epsilon_0, \\epsilon_1, ..., \\epsilon_{N-1}]$ ($N$ elements)"
   ]
  },
  {
   "cell_type": "code",
   "execution_count": null,
   "metadata": {},
   "outputs": [],
   "source": [
    "epsilon, epsilon_i, N = sympy.symbols('epsilon, epsilon_i, N', nonnegative=True )"
   ]
  },
  {
   "cell_type": "markdown",
   "metadata": {},
   "source": [
    "##  Will do the 3 layer version first"
   ]
  },
  {
   "cell_type": "code",
   "execution_count": null,
   "metadata": {},
   "outputs": [],
   "source": [
    "# vector of emissions\n",
    "E = sympy.Matrix([E_0, E_1, E_2])\n",
    "E"
   ]
  },
  {
   "cell_type": "code",
   "execution_count": null,
   "metadata": {},
   "outputs": [],
   "source": [
    "# upwelling flux\n",
    "fromsurface = E_s\n",
    "U = sympy.Matrix([fromsurface, tau_0*fromsurface + E_0, tau_1*(tau_0*fromsurface + E_0) + E_1, \n",
    "                  tau_2*(tau_1*(tau_0*fromsurface + E_0) + E_1) + E_2])\n",
    "U"
   ]
  },
  {
   "cell_type": "code",
   "execution_count": null,
   "metadata": {},
   "outputs": [],
   "source": [
    "# downwelling flux...\n",
    "fromspace = 0\n",
    "D = sympy.Matrix([ tau_0*(tau_1*(tau_2*fromspace + E_2) + E_1) + E_0, \n",
    "                 tau_1*(tau_2*fromspace + E_2) + E_1, tau_2*fromspace + E_2, fromspace])\n",
    "D"
   ]
  },
  {
   "cell_type": "code",
   "execution_count": null,
   "metadata": {},
   "outputs": [],
   "source": [
    "# Net flux, positive up\n",
    "F = U - D\n",
    "F"
   ]
  },
  {
   "cell_type": "code",
   "execution_count": null,
   "metadata": {},
   "outputs": [],
   "source": [
    "# The absorption is then simply the flux convergence in each layer\n",
    "\n",
    "# define a vector of absorbed radiation -- same size as emissions\n",
    "A = E.copy()\n",
    "\n",
    "# Get the convergence\n",
    "for n in range(3):\n",
    "    A[n] = -(F[n+1]-F[n])\n",
    "\n",
    "A"
   ]
  },
  {
   "cell_type": "code",
   "execution_count": null,
   "metadata": {},
   "outputs": [],
   "source": [
    "# this should reduce to zero if I did it right\n",
    "sympy.simplify(A - sympy.Matrix([R_0, R_1, R_2]))"
   ]
  },
  {
   "cell_type": "markdown",
   "metadata": {},
   "source": [
    "## So that works. I can formulate the tests against numerical code this way"
   ]
  },
  {
   "cell_type": "code",
   "execution_count": null,
   "metadata": {},
   "outputs": [],
   "source": []
  }
 ],
 "metadata": {
  "jupytext": {
   "formats": "ipynb,md:myst,py:percent"
  },
  "kernelspec": {
   "display_name": "Python [default]",
   "language": "python",
   "name": "python2"
  }
 },
 "nbformat": 4,
 "nbformat_minor": 4
}
