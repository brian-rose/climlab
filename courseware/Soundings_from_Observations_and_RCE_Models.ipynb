{
 "cells": [
  {
   "cell_type": "markdown",
   "metadata": {},
   "source": [
    "# Comparing soundings from NCEP Reanalysis and various models"
   ]
  },
  {
   "cell_type": "markdown",
   "metadata": {},
   "source": [
    "We are going to plot the global, annual mean sounding (vertical temperature profile) from observations.\n",
    "\n",
    "Read in the necessary NCEP reanalysis data from the online server.\n",
    "\n",
    "The catalog is here: <http://www.esrl.noaa.gov/psd/thredds/dodsC/Datasets/ncep.reanalysis.derived/catalog.html>"
   ]
  },
  {
   "cell_type": "code",
   "execution_count": null,
   "metadata": {},
   "outputs": [],
   "source": [
    "from __future__ import division, print_function\n",
    "%matplotlib inline\n",
    "import numpy as np\n",
    "import matplotlib.pyplot as plt\n",
    "import netCDF4 as nc\n",
    "\n",
    "ncep_url = \"http://www.esrl.noaa.gov/psd/thredds/dodsC/Datasets/ncep.reanalysis.derived/\"\n",
    "ncep_air = nc.Dataset( ncep_url + \"pressure/air.mon.1981-2010.ltm.nc\" )\n",
    "level = ncep_air.variables['level'][:]\n",
    "lat = ncep_air.variables['lat'][:]"
   ]
  },
  {
   "cell_type": "markdown",
   "metadata": {},
   "source": [
    "Take global averages and time averages."
   ]
  },
  {
   "cell_type": "code",
   "execution_count": null,
   "metadata": {},
   "outputs": [],
   "source": [
    "Tzon = np.mean(ncep_air.variables['air'],axis=(0,3))\n",
    "Tglobal = np.sum( Tzon * np.cos(np.deg2rad(lat)), axis=1 ) / np.sum( np.cos(np.deg2rad(lat) ) )"
   ]
  },
  {
   "cell_type": "markdown",
   "metadata": {},
   "source": [
    "Here is code to make a nicely labeled sounding plot."
   ]
  },
  {
   "cell_type": "code",
   "execution_count": null,
   "metadata": {},
   "outputs": [],
   "source": [
    "fig = plt.figure( figsize=(10,8) )\n",
    "ax = fig.add_subplot(111)\n",
    "ax.plot( Tglobal + 273.15, np.log(level/1000) )\n",
    "ax.invert_yaxis()\n",
    "ax.set_xlabel('Temperature (K)', fontsize=16)\n",
    "ax.set_ylabel('Pressure (hPa)', fontsize=16 )\n",
    "ax.set_yticks( np.log(level/1000) )\n",
    "ax.set_yticklabels( level )\n",
    "ax.set_title('Global, annual mean sounding from NCEP Reanalysis', fontsize = 24)\n",
    "ax2 = ax.twinx()\n",
    "ax2.plot( Tglobal + 273.15, -8*np.log(level/1000) );\n",
    "ax2.set_ylabel('Approx. height above surface (km)', fontsize=16 );\n",
    "ax.grid()"
   ]
  },
  {
   "cell_type": "markdown",
   "metadata": {},
   "source": [
    "## Now compute the Radiative Equilibrium solution for the grey-gas column model"
   ]
  },
  {
   "cell_type": "code",
   "execution_count": null,
   "metadata": {},
   "outputs": [],
   "source": [
    "import climlab\n",
    "from climlab import constants as const"
   ]
  },
  {
   "cell_type": "code",
   "execution_count": null,
   "metadata": {},
   "outputs": [],
   "source": [
    "col = climlab.GreyRadiationModel()\n",
    "print(col)"
   ]
  },
  {
   "cell_type": "code",
   "execution_count": null,
   "metadata": {},
   "outputs": [],
   "source": [
    "col.subprocess['LW'].diagnostics"
   ]
  },
  {
   "cell_type": "code",
   "execution_count": null,
   "metadata": {},
   "outputs": [],
   "source": [
    "col.integrate_years(1)\n",
    "\n",
    "print(\"Surface temperature is \" + str(col.Ts) + \" K.\")\n",
    "print(\"Net energy in to the column is \" + str(col.ASR - col.OLR) + \" W / m2.\")"
   ]
  },
  {
   "cell_type": "markdown",
   "metadata": {},
   "source": [
    "### Plot the radiative equilibrium temperature on the same plot with NCEP reanalysis"
   ]
  },
  {
   "cell_type": "code",
   "execution_count": null,
   "metadata": {},
   "outputs": [],
   "source": [
    "pcol = col.lev\n",
    "\n",
    "fig = plt.figure( figsize=(10,8) )\n",
    "ax = fig.add_subplot(111)\n",
    "ax.plot( Tglobal + 273.15, np.log(level/1000), 'b-', col.Tatm, np.log( pcol/const.ps ), 'r-' )\n",
    "ax.plot( col.Ts, 0, 'ro', markersize=20 )\n",
    "ax.invert_yaxis()\n",
    "ax.set_xlabel('Temperature (K)', fontsize=16)\n",
    "ax.set_ylabel('Pressure (hPa)', fontsize=16 )\n",
    "ax.set_yticks( np.log(level/1000) )\n",
    "ax.set_yticklabels( level )\n",
    "ax.set_title('Temperature profiles: observed (blue) and radiative equilibrium in grey gas model (red)', fontsize = 18)\n",
    "ax2 = ax.twinx()\n",
    "ax2.plot( Tglobal + const.tempCtoK, -8*np.log(level/1000) );\n",
    "ax2.set_ylabel('Approx. height above surface (km)', fontsize=16 );\n",
    "ax.grid()"
   ]
  },
  {
   "cell_type": "markdown",
   "metadata": {},
   "source": [
    "## Now use convective adjustment to compute a Radiative-Convective Equilibrium temperature profile"
   ]
  },
  {
   "cell_type": "code",
   "execution_count": null,
   "metadata": {},
   "outputs": [],
   "source": [
    "dalr_col = climlab.RadiativeConvectiveModel(adj_lapse_rate='DALR')\n",
    "print(dalr_col)"
   ]
  },
  {
   "cell_type": "code",
   "execution_count": null,
   "metadata": {},
   "outputs": [],
   "source": [
    "dalr_col.integrate_years(2.)\n",
    "\n",
    "print(\"After \" + str(dalr_col.time['days_elapsed']) + \" days of integration:\")\n",
    "print(\"Surface temperature is \" + str(dalr_col.Ts) + \" K.\")\n",
    "print(\"Net energy in to the column is \" + str(dalr_col.ASR - dalr_col.OLR) + \" W / m2.\")"
   ]
  },
  {
   "cell_type": "code",
   "execution_count": null,
   "metadata": {},
   "outputs": [],
   "source": [
    "dalr_col.param"
   ]
  },
  {
   "cell_type": "markdown",
   "metadata": {},
   "source": [
    "Now plot this \"Radiative-Convective Equilibrium\" on the same graph:"
   ]
  },
  {
   "cell_type": "code",
   "execution_count": null,
   "metadata": {},
   "outputs": [],
   "source": [
    "fig = plt.figure( figsize=(10,8) )\n",
    "ax = fig.add_subplot(111)\n",
    "ax.plot( Tglobal + 273.15, np.log(level/1000), 'b-', col.Tatm, np.log( pcol/const.ps ), 'r-' )\n",
    "ax.plot( col.Ts, 0, 'ro', markersize=16 )\n",
    "ax.plot( dalr_col.Tatm, np.log( pcol / const.ps ), 'k-' )\n",
    "ax.plot( dalr_col.Ts, 0, 'ko', markersize=16 )\n",
    "ax.invert_yaxis()\n",
    "ax.set_xlabel('Temperature (K)', fontsize=16)\n",
    "ax.set_ylabel('Pressure (hPa)', fontsize=16 )\n",
    "ax.set_yticks( np.log(level/1000) )\n",
    "ax.set_yticklabels( level )\n",
    "ax.set_title('Temperature profiles: observed (blue), RE (red) and dry RCE (black)', fontsize = 18)\n",
    "ax2 = ax.twinx()\n",
    "ax2.plot( Tglobal + const.tempCtoK, -8*np.log(level/1000) );\n",
    "ax2.set_ylabel('Approx. height above surface (km)', fontsize=16 );\n",
    "ax.grid()"
   ]
  },
  {
   "cell_type": "markdown",
   "metadata": {},
   "source": [
    "The convective adjustment gets rid of the unphysical temperature difference between the surface and the overlying air.\n",
    "\n",
    "But now the surface is colder! Convection acts to move heat upward, away from the surface.\n",
    "\n",
    "Also, we note that the observed lapse rate (blue) is always shallower than $\\Gamma_d$ (temperatures decrease more slowly with height)."
   ]
  },
  {
   "cell_type": "markdown",
   "metadata": {},
   "source": [
    "## \"Moist\" Convective Adjustment"
   ]
  },
  {
   "cell_type": "markdown",
   "metadata": {},
   "source": [
    "To approximately account for the effects of latent heat release in rising air parcels, we can just adjust to a lapse rate that is a little shallow than $\\Gamma_d$.\n",
    "\n",
    "We will choose 6 K / km, which gets close to the observed mean lapse rate.\n",
    "\n",
    "We will also re-tune the longwave absorptivity of the column to get a realistic surface temperature of 288 K:"
   ]
  },
  {
   "cell_type": "code",
   "execution_count": null,
   "metadata": {},
   "outputs": [],
   "source": [
    "rce_col = climlab.RadiativeConvectiveModel(adj_lapse_rate=6, abs_coeff=1.7E-4)\n",
    "print(rce_col)"
   ]
  },
  {
   "cell_type": "code",
   "execution_count": null,
   "metadata": {},
   "outputs": [],
   "source": [
    "rce_col.integrate_years(2.)\n",
    "\n",
    "print(\"After \" + str(rce_col.time['days_elapsed']) + \" days of integration:\")\n",
    "print(\"Surface temperature is \" + str(rce_col.Ts) + \" K.\")\n",
    "print(\"Net energy in to the column is \" + str(rce_col.ASR - rce_col.OLR) + \" W / m2.\")"
   ]
  },
  {
   "cell_type": "markdown",
   "metadata": {},
   "source": [
    "Now add this new temperature profile to the graph:"
   ]
  },
  {
   "cell_type": "code",
   "execution_count": null,
   "metadata": {},
   "outputs": [],
   "source": [
    "fig = plt.figure( figsize=(10,8) )\n",
    "ax = fig.add_subplot(111)\n",
    "ax.plot( Tglobal + 273.15, np.log(level/1000), 'b-', col.Tatm, np.log( pcol/const.ps ), 'r-' )\n",
    "ax.plot( col.Ts, 0, 'ro', markersize=16 )\n",
    "ax.plot( dalr_col.Tatm, np.log( pcol / const.ps ), 'k-' )\n",
    "ax.plot( dalr_col.Ts, 0, 'ko', markersize=16 )\n",
    "ax.plot( rce_col.Tatm, np.log( pcol / const.ps ), 'm-' )\n",
    "ax.plot( rce_col.Ts, 0, 'mo', markersize=16 )\n",
    "ax.invert_yaxis()\n",
    "ax.set_xlabel('Temperature (K)', fontsize=16)\n",
    "ax.set_ylabel('Pressure (hPa)', fontsize=16 )\n",
    "ax.set_yticks( np.log(level/1000) )\n",
    "ax.set_yticklabels( level )\n",
    "ax.set_title('Temperature profiles: observed (blue), RE (red), dry RCE (black), and moist RCE (magenta)', fontsize = 18)\n",
    "ax2 = ax.twinx()\n",
    "ax2.plot( Tglobal + const.tempCtoK, -8*np.log(level/1000) );\n",
    "ax2.set_ylabel('Approx. height above surface (km)', fontsize=16 );\n",
    "ax.grid()"
   ]
  },
  {
   "cell_type": "markdown",
   "metadata": {},
   "source": [
    "## Adding stratospheric ozone"
   ]
  },
  {
   "cell_type": "markdown",
   "metadata": {},
   "source": [
    "Our model has no equivalent of the stratosphere, where temperature increases with height. That's because our model has been completely transparent to shortwave radiation up until now.\n",
    "\n",
    "We can load the observed ozone climatology from the input files for the CESM model:"
   ]
  },
  {
   "cell_type": "code",
   "execution_count": null,
   "metadata": {},
   "outputs": [],
   "source": [
    "datapath = \"http://ramadda.atmos.albany.edu:8080/repository/opendap/latest/Top/Users/BrianRose/CESM_runs/\"\n",
    "endstr = \"/entry.das\"\n",
    "ozone = nc.Dataset( datapath + 'som_input/ozone_1.9x2.5_L26_2000clim_c091112.nc' + endstr )"
   ]
  },
  {
   "cell_type": "code",
   "execution_count": null,
   "metadata": {},
   "outputs": [],
   "source": [
    "print(ozone.variables['O3'])"
   ]
  },
  {
   "cell_type": "code",
   "execution_count": null,
   "metadata": {},
   "outputs": [],
   "source": [
    "lat = ozone.variables['lat'][:]\n",
    "lon = ozone.variables['lon'][:]\n",
    "lev = ozone.variables['lev'][:]"
   ]
  },
  {
   "cell_type": "markdown",
   "metadata": {},
   "source": [
    "The pressure levels in this dataset are:"
   ]
  },
  {
   "cell_type": "code",
   "execution_count": null,
   "metadata": {},
   "outputs": [],
   "source": [
    "print(lev)"
   ]
  },
  {
   "cell_type": "markdown",
   "metadata": {},
   "source": [
    "Take the global average of the ozone climatology, and plot it as a function of pressure (or height)"
   ]
  },
  {
   "cell_type": "code",
   "execution_count": null,
   "metadata": {},
   "outputs": [],
   "source": [
    "O3_zon = np.mean( ozone.variables['O3'],axis=(0,3) )\n",
    "O3_global = np.sum( O3_zon * np.cos(np.deg2rad(lat)), axis=1 ) / np.sum( np.cos(np.deg2rad(lat) ) )"
   ]
  },
  {
   "cell_type": "code",
   "execution_count": null,
   "metadata": {},
   "outputs": [],
   "source": [
    "O3_global.shape"
   ]
  },
  {
   "cell_type": "code",
   "execution_count": null,
   "metadata": {},
   "outputs": [],
   "source": [
    "ax = plt.figure(figsize=(10,8)).add_subplot(111)\n",
    "ax.plot( O3_global * 1.E6, np.log(lev/const.ps) )\n",
    "ax.invert_yaxis()\n",
    "ax.set_xlabel('Ozone (ppm)', fontsize=16)\n",
    "ax.set_ylabel('Pressure (hPa)', fontsize=16 )\n",
    "yticks = np.array([1000., 500., 250., 100., 50., 20., 10., 5.])\n",
    "ax.set_yticks( np.log(yticks/1000.) )\n",
    "ax.set_yticklabels( yticks )\n",
    "ax.set_title('Global, annual mean ozone concentration', fontsize = 24);"
   ]
  },
  {
   "cell_type": "markdown",
   "metadata": {},
   "source": [
    "This shows that most of the ozone is indeed in the stratosphere, and peaks near the top of the stratosphere.\n",
    "\n",
    "Now create a new column model object **on the same pressure levels as the ozone data**.  We are also going set an adjusted lapse rate of 6 K / km, and tune the longwave absorption"
   ]
  },
  {
   "cell_type": "code",
   "execution_count": null,
   "metadata": {},
   "outputs": [],
   "source": [
    "oz_col = climlab.RadiativeConvectiveModel(lev = lev, abs_coeff=1.82E-4, adj_lapse_rate=6, albedo=0.315)"
   ]
  },
  {
   "cell_type": "markdown",
   "metadata": {},
   "source": [
    "Now we will do something new: let the column absorb some shortwave radiation. We will assume that the shortwave absorptivity is proportional to the ozone concentration we plotted above.  We need to weight the absorptivity by the pressure (mass) of each layer."
   ]
  },
  {
   "cell_type": "code",
   "execution_count": null,
   "metadata": {},
   "outputs": [],
   "source": [
    "ozonefactor = 75\n",
    "dp = oz_col.Tatm.domain.axes['lev'].delta\n",
    "sw_abs = O3_global * dp * ozonefactor\n",
    "oz_col.subprocess.SW.absorptivity = sw_abs\n",
    "oz_col.compute()\n",
    "oz_col.compute()\n",
    "print(oz_col.SW_absorbed_atm)"
   ]
  },
  {
   "cell_type": "markdown",
   "metadata": {},
   "source": [
    "Now run it out to Radiative-Convective Equilibrium, and plot"
   ]
  },
  {
   "cell_type": "code",
   "execution_count": null,
   "metadata": {},
   "outputs": [],
   "source": [
    "oz_col.integrate_years(2.)\n",
    "\n",
    "print(\"After \" + str(oz_col.time['days_elapsed']) + \" days of integration:\")\n",
    "print(\"Surface temperature is \" + str(oz_col.Ts) + \" K.\")\n",
    "print(\"Net energy in to the column is \" + str(oz_col.ASR - oz_col.OLR) + \" W / m2.\")"
   ]
  },
  {
   "cell_type": "code",
   "execution_count": null,
   "metadata": {},
   "outputs": [],
   "source": [
    "pozcol = oz_col.lev\n",
    "\n",
    "fig = plt.figure( figsize=(10,8) )\n",
    "ax = fig.add_subplot(111)\n",
    "ax.plot( Tglobal + const.tempCtoK, np.log(level/1000), 'b-', col.Tatm, np.log( pcol/const.ps ), 'r-' )\n",
    "ax.plot( col.Ts, 0, 'ro', markersize=16 )\n",
    "ax.plot( dalr_col.Tatm, np.log( pcol / const.ps ), 'k-' )\n",
    "ax.plot( dalr_col.Ts, 0, 'ko', markersize=16 )\n",
    "ax.plot( rce_col.Tatm, np.log( pcol / const.ps ), 'm-' )\n",
    "ax.plot( rce_col.Ts, 0, 'mo', markersize=16 )\n",
    "ax.plot( oz_col.Tatm, np.log( pozcol / const.ps ), 'c-' )\n",
    "ax.plot( oz_col.Ts, 0, 'co', markersize=16 )\n",
    "ax.invert_yaxis()\n",
    "ax.set_xlabel('Temperature (K)', fontsize=16)\n",
    "ax.set_ylabel('Pressure (hPa)', fontsize=16 )\n",
    "ax.set_yticks( np.log(level/1000) )\n",
    "ax.set_yticklabels( level )\n",
    "ax.set_title('Temperature profiles: observed (blue), RE (red), dry RCE (black), moist RCE (magenta), RCE with ozone (cyan)', fontsize = 18)\n",
    "ax.grid()"
   ]
  },
  {
   "cell_type": "markdown",
   "metadata": {},
   "source": [
    "And we finally have something that looks looks like the tropopause, with temperature increasing above at about the correct rate. Though the tropopause temperature is off by 15 degrees or so."
   ]
  },
  {
   "cell_type": "markdown",
   "metadata": {},
   "source": [
    "## Greenhouse warming in the RCE model with ozone"
   ]
  },
  {
   "cell_type": "code",
   "execution_count": null,
   "metadata": {},
   "outputs": [],
   "source": [
    "oz_col2 = climlab.process_like( oz_col )"
   ]
  },
  {
   "cell_type": "code",
   "execution_count": null,
   "metadata": {},
   "outputs": [],
   "source": [
    "oz_col2.subprocess['LW'].absorptivity *= 1.2 "
   ]
  },
  {
   "cell_type": "code",
   "execution_count": null,
   "metadata": {},
   "outputs": [],
   "source": [
    "oz_col2.integrate_years(2.)"
   ]
  },
  {
   "cell_type": "code",
   "execution_count": null,
   "metadata": {},
   "outputs": [],
   "source": [
    "fig = plt.figure( figsize=(10,8) )\n",
    "ax = fig.add_subplot(111)\n",
    "ax.plot( Tglobal + const.tempCtoK, np.log(level/const.ps), 'b-' )\n",
    "ax.plot( oz_col.Tatm, np.log( pozcol / const.ps ), 'c-' )\n",
    "ax.plot( oz_col.Ts, 0, 'co', markersize=16 )\n",
    "ax.plot( oz_col2.Tatm, np.log( pozcol / const.ps ), 'c--' )\n",
    "ax.plot( oz_col2.Ts, 0, 'co', markersize=16 )\n",
    "ax.invert_yaxis()\n",
    "ax.set_xlabel('Temperature (K)', fontsize=16)\n",
    "ax.set_ylabel('Pressure (hPa)', fontsize=16 )\n",
    "ax.set_yticks( np.log(level/const.ps) )\n",
    "ax.set_yticklabels( level )\n",
    "ax.set_title('Temperature profiles: observed (blue), RCE with ozone (cyan)', fontsize = 18)\n",
    "ax.grid()"
   ]
  },
  {
   "cell_type": "markdown",
   "metadata": {},
   "source": [
    "And we find that the troposphere warms, while the stratosphere cools!"
   ]
  },
  {
   "cell_type": "markdown",
   "metadata": {},
   "source": [
    "### Vertical structure of greenhouse warming in CESM model"
   ]
  },
  {
   "cell_type": "code",
   "execution_count": null,
   "metadata": {},
   "outputs": [],
   "source": [
    "atmstr = \".cam.h0.clim.nc\"\n",
    "cesm_ctrl = nc.Dataset( datapath + 'som_control/som_control' + atmstr + endstr )\n",
    "cesm_2xCO2 = nc.Dataset( datapath + 'som_2xCO2/som_2xCO2' + atmstr + endstr )"
   ]
  },
  {
   "cell_type": "code",
   "execution_count": null,
   "metadata": {},
   "outputs": [],
   "source": [
    "T_cesm_ctrl = cesm_ctrl.variables['T'][:]\n",
    "T_cesm_2xCO2 = cesm_2xCO2.variables['T'][:]\n",
    "print(T_cesm_ctrl.shape)"
   ]
  },
  {
   "cell_type": "code",
   "execution_count": null,
   "metadata": {},
   "outputs": [],
   "source": [
    "T_cesm_ctrl_zon = np.mean( T_cesm_ctrl, axis=(0,3) )\n",
    "T_cesm_2xCO2_zon = np.mean( T_cesm_2xCO2, axis=(0,3) )"
   ]
  },
  {
   "cell_type": "code",
   "execution_count": null,
   "metadata": {},
   "outputs": [],
   "source": [
    "T_cesm_2xCO2_glob = np.empty_like( lev )\n",
    "T_cesm_ctrl_glob = np.empty_like( lev )\n",
    "for n in range( lev.size ):\n",
    "    T_cesm_ctrl_glob[n] = np.sum( T_cesm_ctrl_zon[n,:] * np.cos( np.deg2rad( lat ) ) ) / np.sum( np.cos( np.deg2rad( lat ) ) )\n",
    "    T_cesm_2xCO2_glob[n] = np.sum( T_cesm_2xCO2_zon[n,:] * np.cos( np.deg2rad( lat ) ) ) / np.sum( np.cos( np.deg2rad( lat ) ) )"
   ]
  },
  {
   "cell_type": "code",
   "execution_count": null,
   "metadata": {},
   "outputs": [],
   "source": [
    "fig = plt.figure( figsize=(10,8) )\n",
    "ax = fig.add_subplot(111)\n",
    "ax.plot( Tglobal + const.tempCtoK, np.log(level/const.ps), 'b-' )\n",
    "ax.plot( oz_col.Tatm, np.log( pozcol / const.ps ), 'c-' )\n",
    "ax.plot( oz_col.Ts, 0, 'co', markersize=16 )\n",
    "ax.plot( oz_col2.Tatm, np.log( pozcol / const.ps ), 'c--' )\n",
    "ax.plot( oz_col2.Ts, 0, 'co', markersize=16 )\n",
    "ax.plot( T_cesm_ctrl_glob, np.log( lev/const.ps ), 'r-' )\n",
    "ax.plot( T_cesm_2xCO2_glob, np.log( lev/const.ps ), 'r--' )\n",
    "ax.invert_yaxis()\n",
    "ax.set_xlabel('Temperature (K)', fontsize=16)\n",
    "ax.set_ylabel('Pressure (hPa)', fontsize=16 )\n",
    "ax.set_yticks( np.log(level/const.ps) )\n",
    "ax.set_yticklabels( level )\n",
    "ax.set_title('Temperature profiles: observed (blue), RCE with ozone (cyan), CESM (red)', fontsize = 18)\n",
    "ax.grid()"
   ]
  },
  {
   "cell_type": "markdown",
   "metadata": {},
   "source": [
    "And we find that CESM has the same tendency for increased CO2: warmer troposphere, colder stratosphere."
   ]
  },
  {
   "cell_type": "code",
   "execution_count": null,
   "metadata": {},
   "outputs": [],
   "source": []
  }
 ],
 "metadata": {
  "jupytext": {
   "formats": "ipynb,md:myst,py:percent"
  },
  "kernelspec": {
   "display_name": "Python 3",
   "language": "python",
   "name": "python3"
  }
 },
 "nbformat": 4,
 "nbformat_minor": 4
}
