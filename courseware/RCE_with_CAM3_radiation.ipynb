{
 "cells": [
  {
   "cell_type": "markdown",
   "metadata": {},
   "source": [
    "# Radiative-Convective Equilibrium with CAM3 scheme"
   ]
  },
  {
   "cell_type": "code",
   "execution_count": 1,
   "metadata": {},
   "outputs": [],
   "source": [
    "from __future__ import division, print_function\n",
    "%matplotlib inline\n",
    "import numpy as np\n",
    "import matplotlib.pyplot as plt\n",
    "import climlab\n",
    "from climlab import constants as const"
   ]
  },
  {
   "cell_type": "markdown",
   "metadata": {},
   "source": [
    "##  Here is how to set a simple RCE in `climlab`\n",
    "\n",
    "By initializing each component with the same state object, the components are already effectively coupled. They all act to modify the same state object.\n",
    "\n",
    "No extra coupling code is necessary."
   ]
  },
  {
   "cell_type": "code",
   "execution_count": 2,
   "metadata": {},
   "outputs": [],
   "source": [
    "# initial state (temperatures)\n",
    "state = climlab.column_state(num_lev=20, num_lat=1, water_depth=5.)"
   ]
  },
  {
   "cell_type": "code",
   "execution_count": 3,
   "metadata": {},
   "outputs": [
    {
     "name": "stdout",
     "output_type": "stream",
     "text": [
      "Getting ozone data from /Users/br546577/anaconda3/lib/python3.6/site-packages/climlab/radiation/data/ozone/apeozone_cam3_5_54.nc\n"
     ]
    }
   ],
   "source": [
    "#  Create a parent process\n",
    "rce = climlab.TimeDependentProcess(state=state)\n",
    "## Create individual physical process models:\n",
    "#  fixed relative humidity\n",
    "h2o = climlab.radiation.ManabeWaterVapor(state=state)\n",
    "#  Hard convective adjustment\n",
    "convadj = climlab.convection.ConvectiveAdjustment(state=state, adj_lapse_rate=6.5)\n",
    "# CAM3 radiation with default parameters and interactive water vapor\n",
    "rad = climlab.radiation.CAM3(state=state, specific_humidity=h2o.q)\n",
    "\n",
    "# Couple the models\n",
    "rce.add_subprocess('Radiation', rad)\n",
    "rce.add_subprocess('ConvectiveAdjustment', convadj)\n",
    "rce.add_subprocess('H2O', h2o)"
   ]
  },
  {
   "cell_type": "code",
   "execution_count": 4,
   "metadata": {},
   "outputs": [
    {
     "name": "stdout",
     "output_type": "stream",
     "text": [
      "climlab Process of type <class 'climlab.process.time_dependent_process.TimeDependentProcess'>. \n",
      "State variables and domain shapes: \n",
      "  Ts: (1,) \n",
      "  Tatm: (20,) \n",
      "The subprocess tree: \n",
      "top: <class 'climlab.process.time_dependent_process.TimeDependentProcess'>\n",
      "   Radiation: <class 'climlab.radiation.cam3.cam3.CAM3'>\n",
      "   ConvectiveAdjustment: <class 'climlab.convection.convadj.ConvectiveAdjustment'>\n",
      "   H2O: <class 'climlab.radiation.water_vapor.ManabeWaterVapor'>\n",
      "\n"
     ]
    }
   ],
   "source": [
    "print(rce)"
   ]
  },
  {
   "cell_type": "code",
   "execution_count": 5,
   "metadata": {},
   "outputs": [
    {
     "data": {
      "text/plain": [
       "{'Tatm': Field([ 200.        ,  204.10526316,  208.21052632,  212.31578947,\n",
       "         216.42105263,  220.52631579,  224.63157895,  228.73684211,\n",
       "         232.84210526,  236.94736842,  241.05263158,  245.15789474,\n",
       "         249.26315789,  253.36842105,  257.47368421,  261.57894737,\n",
       "         265.68421053,  269.78947368,  273.89473684,  278.        ]),\n",
       " 'Ts': Field([ 288.])}"
      ]
     },
     "execution_count": 5,
     "metadata": {},
     "output_type": "execute_result"
    }
   ],
   "source": [
    "#  Current state\n",
    "rce.state"
   ]
  },
  {
   "cell_type": "code",
   "execution_count": 6,
   "metadata": {},
   "outputs": [
    {
     "name": "stdout",
     "output_type": "stream",
     "text": [
      "Integrating for 1826 steps, 1826.2110000000002 days, or 5 years.\n",
      "Total elapsed time is 4.999422301147019 years.\n"
     ]
    }
   ],
   "source": [
    "#  Integrate the model forward\n",
    "rce.integrate_years(5)"
   ]
  },
  {
   "cell_type": "code",
   "execution_count": 7,
   "metadata": {},
   "outputs": [
    {
     "data": {
      "text/plain": [
       "{'Tatm': Field([ 233.26150428,  215.95044945,  210.60589023,  211.45113437,\n",
       "         212.04321205,  216.46759988,  223.46187556,  229.6327028 ,\n",
       "         235.16956012,  240.2017945 ,  244.8218937 ,  249.09842749,\n",
       "         253.08373297,  256.81872305,  260.33602553,  263.66210602,\n",
       "         266.81874721,  269.82410613,  272.69348696,  275.43991673]),\n",
       " 'Ts': Field([ 276.77058287])}"
      ]
     },
     "execution_count": 7,
     "metadata": {},
     "output_type": "execute_result"
    }
   ],
   "source": [
    "#  Current state\n",
    "rce.state"
   ]
  },
  {
   "cell_type": "code",
   "execution_count": 8,
   "metadata": {},
   "outputs": [
    {
     "data": {
      "text/plain": [
       "Field([  1.87420483e-05,   9.64556905e-06,   5.58553481e-06,\n",
       "         6.57792987e-06,   7.30688198e-06,   1.30016777e-05,\n",
       "         3.02115363e-05,   6.04582768e-05,   1.08656640e-04,\n",
       "         1.80140927e-04,   2.80533313e-04,   4.15636693e-04,\n",
       "         5.91349145e-04,   8.13596531e-04,   1.08827995e-03,\n",
       "         1.42123518e-03,   1.81820176e-03,   2.28479967e-03,\n",
       "         2.82651219e-03,   3.44867359e-03])"
      ]
     },
     "execution_count": 8,
     "metadata": {},
     "output_type": "execute_result"
    }
   ],
   "source": [
    "#  Current specific humidity\n",
    "rce.q"
   ]
  },
  {
   "cell_type": "code",
   "execution_count": 9,
   "metadata": {},
   "outputs": [
    {
     "data": {
      "text/plain": [
       "{'S0': 1365.2,\n",
       " 'absorber_vmr': {'CCL4': 0.0,\n",
       "  'CFC11': 0.0,\n",
       "  'CFC12': 0.0,\n",
       "  'CFC22': 0.0,\n",
       "  'CH4': 1.65e-06,\n",
       "  'CO2': 0.000348,\n",
       "  'N2O': 3.06e-07,\n",
       "  'O2': 0.21,\n",
       "  'O3': array([  5.38853507e-06,   9.86362297e-07,   3.46334801e-07,\n",
       "           1.90806332e-07,   1.19700066e-07,   7.69083554e-08,\n",
       "           5.97316411e-08,   5.27011190e-08,   4.80406196e-08,\n",
       "           4.44967931e-08,   4.18202246e-08,   3.99595858e-08,\n",
       "           3.83838549e-08,   3.66179869e-08,   3.42885526e-08,\n",
       "           3.18505117e-08,   2.93003951e-08,   2.69906527e-08,\n",
       "           2.49122466e-08,   2.28798533e-08])},\n",
       " 'aldif': 0.3,\n",
       " 'aldir': 0.3,\n",
       " 'asdif': 0.3,\n",
       " 'asdir': 0.3,\n",
       " 'ciwp': 0.0,\n",
       " 'cldfrac': 0.0,\n",
       " 'clwp': 0.0,\n",
       " 'coszen': 0.25,\n",
       " 'eccentricity_factor': 1.0,\n",
       " 'emissivity': 1.0,\n",
       " 'insolation': 341.3,\n",
       " 'r_ice': 0.0,\n",
       " 'r_liq': 0.0,\n",
       " 'specific_humidity': Field([  1.87420483e-05,   9.64556905e-06,   5.58553481e-06,\n",
       "          6.57792987e-06,   7.30688198e-06,   1.30016777e-05,\n",
       "          3.02115363e-05,   6.04582768e-05,   1.08656640e-04,\n",
       "          1.80140927e-04,   2.80533313e-04,   4.15636693e-04,\n",
       "          5.91349145e-04,   8.13596531e-04,   1.08827995e-03,\n",
       "          1.42123518e-03,   1.81820176e-03,   2.28479967e-03,\n",
       "          2.82651219e-03,   3.44867359e-03])}"
      ]
     },
     "execution_count": 9,
     "metadata": {},
     "output_type": "execute_result"
    }
   ],
   "source": [
    "#  Here is the dictionary of input fields for the CAM3 radiation module\n",
    "rce.subprocess.Radiation.input"
   ]
  },
  {
   "cell_type": "markdown",
   "metadata": {},
   "source": [
    "## Latitudinally, seasonally varying RCE"
   ]
  },
  {
   "cell_type": "code",
   "execution_count": 10,
   "metadata": {},
   "outputs": [],
   "source": [
    "# initial state (temperatures)\n",
    "state2 = climlab.column_state(num_lev=20, num_lat=30, water_depth=10.)"
   ]
  },
  {
   "cell_type": "code",
   "execution_count": 11,
   "metadata": {},
   "outputs": [
    {
     "name": "stdout",
     "output_type": "stream",
     "text": [
      "Getting ozone data from /Users/br546577/anaconda3/lib/python3.6/site-packages/climlab/radiation/data/ozone/apeozone_cam3_5_54.nc\n"
     ]
    }
   ],
   "source": [
    "#  Create a parent process\n",
    "rcelat = climlab.TimeDependentProcess(state=state2)\n",
    "## Create individual physical process models:\n",
    "#  seasonal insolation\n",
    "insol = climlab.radiation.DailyInsolation(domains=rcelat.Ts.domain)\n",
    "#  fixed relative humidity\n",
    "h2o = climlab.radiation.ManabeWaterVapor(state=state2)\n",
    "#  Hard convective adjustment\n",
    "convadj = climlab.convection.ConvectiveAdjustment(state=state2, adj_lapse_rate=6.5)\n",
    "# CAM3 radiation with interactive insolation and interactive water vapor\n",
    "rad = climlab.radiation.CAM3(state=state2, \n",
    "                             specific_humidity=h2o.q,\n",
    "                             S0 = insol.S0,\n",
    "                             insolation=insol.insolation,\n",
    "                             coszen=insol.coszen)\n",
    "# Add all subprocesses to the parent process\n",
    "rcelat.add_subprocess('Insolation', insol)\n",
    "rcelat.add_subprocess('Radiation', rad)\n",
    "rcelat.add_subprocess('ConvectiveAdjustment', convadj)\n",
    "rcelat.add_subprocess('H2O', h2o)"
   ]
  },
  {
   "cell_type": "code",
   "execution_count": 12,
   "metadata": {},
   "outputs": [
    {
     "name": "stdout",
     "output_type": "stream",
     "text": [
      "Integrating for 1826 steps, 1826.2110000000002 days, or 5 years.\n",
      "Total elapsed time is 4.999422301147019 years.\n"
     ]
    }
   ],
   "source": [
    "rcelat.integrate_years(5)"
   ]
  },
  {
   "cell_type": "code",
   "execution_count": 13,
   "metadata": {},
   "outputs": [
    {
     "name": "stdout",
     "output_type": "stream",
     "text": [
      "Integrating for 365 steps, 365.2422 days, or 1 years.\n",
      "Total elapsed time is 5.9987591795252575 years.\n"
     ]
    }
   ],
   "source": [
    "rcelat.integrate_years(1)"
   ]
  },
  {
   "cell_type": "code",
   "execution_count": 14,
   "metadata": {},
   "outputs": [],
   "source": [
    "def plot_temp_section(model, timeave=True):\n",
    "    fig = plt.figure()\n",
    "    ax = fig.add_subplot(111)\n",
    "    if timeave:\n",
    "        field = model.timeave['Tatm'].transpose()\n",
    "    else:\n",
    "        field = model.Tatm.transpose()\n",
    "    cax = ax.contourf(model.lat, model.lev, field)\n",
    "    ax.invert_yaxis()\n",
    "    ax.set_xlim(-90,90)\n",
    "    ax.set_xticks([-90, -60, -30, 0, 30, 60, 90])\n",
    "    fig.colorbar(cax)"
   ]
  },
  {
   "cell_type": "code",
   "execution_count": 15,
   "metadata": {},
   "outputs": [
    {
     "data": {
      "image/png": "[encoded data removed]",
      "text/plain": [
       "<matplotlib.figure.Figure at 0x1179275c0>"
      ]
     },
     "metadata": {},
     "output_type": "display_data"
    }
   ],
   "source": [
    "plot_temp_section(rcelat)"
   ]
  },
  {
   "cell_type": "markdown",
   "metadata": {
    "collapsed": true
   },
   "source": [
    "## Same thing, but also including meridional temperature diffusion"
   ]
  },
  {
   "cell_type": "code",
   "execution_count": 16,
   "metadata": {},
   "outputs": [],
   "source": [
    "#  Create and exact clone of the previous model\n",
    "diffmodel = climlab.process_like(rcelat)"
   ]
  },
  {
   "cell_type": "code",
   "execution_count": 17,
   "metadata": {},
   "outputs": [
    {
     "name": "stdout",
     "output_type": "stream",
     "text": [
      "9.7609561753e-08\n"
     ]
    }
   ],
   "source": [
    "# thermal diffusivity in W/m**2/degC\n",
    "D = 0.05\n",
    "# meridional diffusivity in 1/s\n",
    "K = D / diffmodel.Tatm.domain.heat_capacity[0]\n",
    "print(K)"
   ]
  },
  {
   "cell_type": "code",
   "execution_count": 18,
   "metadata": {},
   "outputs": [],
   "source": [
    "d = climlab.dynamics.MeridionalDiffusion(K=K, state={'Tatm': diffmodel.Tatm}, **diffmodel.param)"
   ]
  },
  {
   "cell_type": "code",
   "execution_count": 19,
   "metadata": {},
   "outputs": [],
   "source": [
    "diffmodel.add_subprocess('diffusion', d)"
   ]
  },
  {
   "cell_type": "code",
   "execution_count": 20,
   "metadata": {},
   "outputs": [
    {
     "name": "stdout",
     "output_type": "stream",
     "text": [
      "Integrating for 1826 steps, 1826.2110000000002 days, or 5 years.\n",
      "Total elapsed time is 10.998181480672276 years.\n"
     ]
    }
   ],
   "source": [
    "diffmodel.integrate_years(5)"
   ]
  },
  {
   "cell_type": "code",
   "execution_count": 21,
   "metadata": {},
   "outputs": [
    {
     "name": "stdout",
     "output_type": "stream",
     "text": [
      "Integrating for 365 steps, 365.2422 days, or 1 years.\n",
      "Total elapsed time is 11.997518359050515 years.\n"
     ]
    }
   ],
   "source": [
    "diffmodel.integrate_years(1)"
   ]
  },
  {
   "cell_type": "code",
   "execution_count": 22,
   "metadata": {},
   "outputs": [
    {
     "data": {
      "image/png": "[encoded data removed]",
      "text/plain": [
       "<matplotlib.figure.Figure at 0x120ee3d68>"
      ]
     },
     "metadata": {},
     "output_type": "display_data"
    },
    {
     "data": {
      "image/png": "[encoded data removed]",
      "text/plain": [
       "<matplotlib.figure.Figure at 0x120ee3710>"
      ]
     },
     "metadata": {},
     "output_type": "display_data"
    }
   ],
   "source": [
    "plot_temp_section(rcelat)\n",
    "plot_temp_section(diffmodel)"
   ]
  },
  {
   "cell_type": "code",
   "execution_count": 23,
   "metadata": {},
   "outputs": [],
   "source": [
    "def inferred_heat_transport( energy_in, lat_deg ):\n",
    "    '''Returns the inferred heat transport (in PW) by integrating the net energy imbalance from pole to pole.'''\n",
    "    from scipy import integrate\n",
    "    from climlab import constants as const\n",
    "    lat_rad = np.deg2rad( lat_deg )\n",
    "    return ( 1E-15 * 2 * np.math.pi * const.a**2 * integrate.cumtrapz( np.cos(lat_rad)*energy_in,\n",
    "            x=lat_rad, initial=0. ) )"
   ]
  },
  {
   "cell_type": "code",
   "execution_count": 24,
   "metadata": {},
   "outputs": [
    {
     "data": {
      "text/plain": [
       "[<matplotlib.lines.Line2D at 0x120e8f8d0>]"
      ]
     },
     "execution_count": 24,
     "metadata": {},
     "output_type": "execute_result"
    },
    {
     "data": {
      "image/png": "[encoded data removed]",
      "text/plain": [
       "<matplotlib.figure.Figure at 0x11799eeb8>"
      ]
     },
     "metadata": {},
     "output_type": "display_data"
    }
   ],
   "source": [
    "#  Plot the northward heat transport in this model\n",
    "Rtoa = np.squeeze(diffmodel.timeave['ASR'] - diffmodel.timeave['OLR'])\n",
    "plt.plot(diffmodel.lat, inferred_heat_transport(Rtoa, diffmodel.lat))"
   ]
  },
  {
   "cell_type": "markdown",
   "metadata": {
    "collapsed": true
   },
   "source": [
    "## If you want explicit surface fluxes...\n",
    "\n",
    "All the models above use a convective adjustment that simultaneously adjustments `Tatm` and `Ts` to the prescribed lapse rate.\n",
    "\n",
    "We can instead limit the convective adjustment to just the atmosphere. To do this, we just have to change the `state` variable dictionary in the convective adjustment process.\n",
    "\n",
    "Then we can invoke process models for **sensible and latent heat fluxes** that use simple bulk formulae. Tunable parameters for these include drag coefficient and surface wind speed."
   ]
  },
  {
   "cell_type": "code",
   "execution_count": 25,
   "metadata": {},
   "outputs": [
    {
     "name": "stdout",
     "output_type": "stream",
     "text": [
      "climlab Process of type <class 'climlab.process.time_dependent_process.TimeDependentProcess'>. \n",
      "State variables and domain shapes: \n",
      "  Ts: (30, 1) \n",
      "  Tatm: (30, 20) \n",
      "The subprocess tree: \n",
      "top: <class 'climlab.process.time_dependent_process.TimeDependentProcess'>\n",
      "   Insolation: <class 'climlab.radiation.insolation.DailyInsolation'>\n",
      "   Radiation: <class 'climlab.radiation.cam3.cam3.CAM3'>\n",
      "   ConvectiveAdjustment: <class 'climlab.convection.convadj.ConvectiveAdjustment'>\n",
      "   H2O: <class 'climlab.radiation.water_vapor.ManabeWaterVapor'>\n",
      "   diffusion: <class 'climlab.dynamics.diffusion.MeridionalDiffusion'>\n",
      "\n"
     ]
    }
   ],
   "source": [
    "diffmodel2 = climlab.process_like(diffmodel)\n",
    "\n",
    "#  Hard convective adjustment -- ATMOSPHERE ONLY\n",
    "convadj2 = climlab.convection.ConvectiveAdjustment(state={'Tatm':diffmodel2.Tatm}, adj_lapse_rate=6.5)\n",
    "diffmodel2.add_subprocess('ConvectiveAdjustment', convadj2)\n",
    "\n",
    "print(diffmodel2)"
   ]
  },
  {
   "cell_type": "code",
   "execution_count": 26,
   "metadata": {},
   "outputs": [
    {
     "name": "stdout",
     "output_type": "stream",
     "text": [
      "climlab Process of type <class 'climlab.process.time_dependent_process.TimeDependentProcess'>. \n",
      "State variables and domain shapes: \n",
      "  Ts: (30, 1) \n",
      "  Tatm: (30, 20) \n",
      "The subprocess tree: \n",
      "top: <class 'climlab.process.time_dependent_process.TimeDependentProcess'>\n",
      "   Insolation: <class 'climlab.radiation.insolation.DailyInsolation'>\n",
      "   Radiation: <class 'climlab.radiation.cam3.cam3.CAM3'>\n",
      "   ConvectiveAdjustment: <class 'climlab.convection.convadj.ConvectiveAdjustment'>\n",
      "   H2O: <class 'climlab.radiation.water_vapor.ManabeWaterVapor'>\n",
      "   diffusion: <class 'climlab.dynamics.diffusion.MeridionalDiffusion'>\n",
      "   SHF: <class 'climlab.surface.turbulent.SensibleHeatFlux'>\n",
      "   LHF: <class 'climlab.surface.turbulent.LatentHeatFlux'>\n",
      "\n"
     ]
    }
   ],
   "source": [
    "#  Now add surface flux processes\n",
    "#  Add surface heat fluxes\n",
    "\n",
    "shf = climlab.surface.SensibleHeatFlux(state=diffmodel2.state, Cd=0.5E-3)\n",
    "lhf = climlab.surface.LatentHeatFlux(state=diffmodel2.state, Cd=0.5E-3)\n",
    "#  set the water vapor input field for LHF process\n",
    "lhf.q = diffmodel2.subprocess['H2O'].q\n",
    "diffmodel2.add_subprocess('SHF', shf)\n",
    "diffmodel2.add_subprocess('LHF', lhf)\n",
    "\n",
    "print(diffmodel2)"
   ]
  },
  {
   "cell_type": "code",
   "execution_count": 27,
   "metadata": {},
   "outputs": [
    {
     "name": "stdout",
     "output_type": "stream",
     "text": [
      "Integrating for 1826 steps, 1826.2110000000002 days, or 5 years.\n",
      "Total elapsed time is 16.996940660197534 years.\n"
     ]
    }
   ],
   "source": [
    "diffmodel2.integrate_years(5)"
   ]
  },
  {
   "cell_type": "code",
   "execution_count": 28,
   "metadata": {},
   "outputs": [
    {
     "name": "stdout",
     "output_type": "stream",
     "text": [
      "Integrating for 365 steps, 365.2422 days, or 1 years.\n",
      "Total elapsed time is 17.99627753857577 years.\n"
     ]
    }
   ],
   "source": [
    "diffmodel2.integrate_years(1)"
   ]
  },
  {
   "cell_type": "code",
   "execution_count": 29,
   "metadata": {},
   "outputs": [
    {
     "data": {
      "image/png": "[encoded data removed]",
      "text/plain": [
       "<matplotlib.figure.Figure at 0x121089710>"
      ]
     },
     "metadata": {},
     "output_type": "display_data"
    },
    {
     "data": {
      "image/png": "[encoded data removed]",
      "text/plain": [
       "<matplotlib.figure.Figure at 0x121089c18>"
      ]
     },
     "metadata": {},
     "output_type": "display_data"
    }
   ],
   "source": [
    "plot_temp_section(rcelat)\n",
    "plot_temp_section(diffmodel2)"
   ]
  },
  {
   "cell_type": "code",
   "execution_count": 30,
   "metadata": {},
   "outputs": [
    {
     "data": {
      "text/plain": [
       "[<matplotlib.lines.Line2D at 0x1213a4080>]"
      ]
     },
     "execution_count": 30,
     "metadata": {},
     "output_type": "execute_result"
    },
    {
     "data": {
      "image/png": "[encoded data removed]",
      "text/plain": [
       "<matplotlib.figure.Figure at 0x1211646a0>"
      ]
     },
     "metadata": {},
     "output_type": "display_data"
    }
   ],
   "source": [
    "#  Plot the northward heat transport in this model\n",
    "Rtoa = np.squeeze(diffmodel2.timeave['ASR'] - diffmodel2.timeave['OLR'])\n",
    "plt.plot(diffmodel2.lat, inferred_heat_transport(Rtoa, diffmodel2.lat))"
   ]
  },
  {
   "cell_type": "code",
   "execution_count": null,
   "metadata": {},
   "outputs": [],
   "source": []
  }
 ],
 "metadata": {
  "anaconda-cloud": {},
  "kernelspec": {
   "display_name": "Python 3",
   "language": "python",
   "name": "python3"
  },
  "language_info": {
   "codemirror_mode": {
    "name": "ipython",
    "version": 3
   },
   "file_extension": ".py",
   "mimetype": "text/x-python",
   "name": "python",
   "nbconvert_exporter": "python",
   "pygments_lexer": "ipython3",
   "version": "3.6.2"
  }
 },
 "nbformat": 4,
 "nbformat_minor": 1
}
