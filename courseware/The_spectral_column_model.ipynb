{
 "cells": [
  {
   "cell_type": "markdown",
   "metadata": {},
   "source": [
    "# Modeling spectral bands with `climlab`"
   ]
  },
  {
   "cell_type": "markdown",
   "metadata": {},
   "source": [
    "Here is a brief introduction to the `climlab.BandRCModel` process.\n",
    "\n",
    "This is a model that divides the spectrum into 7 distinct bands: three shortwave and four longwave.\n",
    "\n",
    "As we will see, the process works much like the familiar `climlab.RadiativeConvectiveModel`."
   ]
  },
  {
   "cell_type": "markdown",
   "metadata": {},
   "source": [
    "## About the spectra"
   ]
  },
  {
   "cell_type": "markdown",
   "metadata": {},
   "source": [
    "The shortwave is divided into three channels:\n",
    "\n",
    "- Channel 0 is the Hartley and Huggins band (extreme UV, 200 - 340 nm, 1% of total flux, strong ozone absorption)\n",
    "- Channel 1 is Chappuis band (450 - 800 nm, 27% of total flux, moderate ozone absorption)\n",
    "- Channel 2 is remaining radiation (72% of total flux, largely in the visible range, no ozone absorption)\n",
    "\n",
    "The longwave is divided into four bands:\n",
    "\n",
    "- Band 0 is the window region (between 8.5 and 11 $\\mu$m), 17% of total flux.\n",
    "- Band 1 is the CO2 absorption channel (the band of strong absorption by CO2 around 15 $\\mu$m), 15% of total flux\n",
    "- Band 2 is a weak water vapor absorption channel, 35% of total flux\n",
    "- Band 3 is a strong water vapor absorption channel, 33% of total flux\n",
    "\n",
    "The longwave decomposition is not as easily related to specific wavelengths, as in reality there is a lot of overlap between H$_2$O and CO$_2$ absorption features (as well as absorption by other greenhouse gases such as CH$_4$ and N$_2$O that we are not representing)."
   ]
  },
  {
   "cell_type": "markdown",
   "metadata": {},
   "source": [
    "### Example usage of the spectral model"
   ]
  },
  {
   "cell_type": "code",
   "execution_count": 1,
   "metadata": {},
   "outputs": [],
   "source": [
    "from __future__ import division, print_function\n",
    "%matplotlib inline\n",
    "import numpy as np\n",
    "import matplotlib.pyplot as plt\n",
    "import climlab\n",
    "from climlab import constants as const"
   ]
  },
  {
   "cell_type": "markdown",
   "metadata": {},
   "source": [
    "First try a model with all default parameters. Usage is very similar to the familiar `RadiativeConvectiveModel`."
   ]
  },
  {
   "cell_type": "code",
   "execution_count": 2,
   "metadata": {},
   "outputs": [
    {
     "name": "stdout",
     "output_type": "stream",
     "text": [
      "climlab Process of type <class 'climlab.model.column.BandRCModel'>. \n",
      "State variables and domain shapes: \n",
      "  Ts: (1,) \n",
      "  Tatm: (30,) \n",
      "The subprocess tree: \n",
      "Untitled: <class 'climlab.model.column.BandRCModel'>\n",
      "   LW: <class 'climlab.radiation.nband.FourBandLW'>\n",
      "   SW: <class 'climlab.radiation.nband.ThreeBandSW'>\n",
      "   insolation: <class 'climlab.radiation.insolation.FixedInsolation'>\n",
      "   convective adjustment: <class 'climlab.convection.convadj.ConvectiveAdjustment'>\n",
      "   H2O: <class 'climlab.radiation.water_vapor.ManabeWaterVapor'>\n",
      "\n"
     ]
    }
   ],
   "source": [
    "col1 = climlab.BandRCModel()\n",
    "print(col1)"
   ]
  },
  {
   "cell_type": "markdown",
   "metadata": {},
   "source": [
    "Check out the list of subprocesses.\n",
    "\n",
    "We now have a process called `H2O`, in addition to things we've seen before.\n",
    "\n",
    "This model keeps track of water vapor. We see the specific humidity in the list of state variables:"
   ]
  },
  {
   "cell_type": "code",
   "execution_count": 3,
   "metadata": {},
   "outputs": [
    {
     "data": {
      "text/plain": [
       "AttrDict({'Ts': Field([288.]), 'Tatm': Field([200.        , 202.68965517, 205.37931034, 208.06896552,\n",
       "       210.75862069, 213.44827586, 216.13793103, 218.82758621,\n",
       "       221.51724138, 224.20689655, 226.89655172, 229.5862069 ,\n",
       "       232.27586207, 234.96551724, 237.65517241, 240.34482759,\n",
       "       243.03448276, 245.72413793, 248.4137931 , 251.10344828,\n",
       "       253.79310345, 256.48275862, 259.17241379, 261.86206897,\n",
       "       264.55172414, 267.24137931, 269.93103448, 272.62068966,\n",
       "       275.31034483, 278.        ])})"
      ]
     },
     "execution_count": 3,
     "metadata": {},
     "output_type": "execute_result"
    }
   ],
   "source": [
    "col1.state"
   ]
  },
  {
   "cell_type": "markdown",
   "metadata": {},
   "source": [
    "The water vapor field is initialized to zero. The `H2O` process will set the specific humidity field at every timestep to a specified profile. More on that below. For now, let's compute a radiative equilibrium state."
   ]
  },
  {
   "cell_type": "code",
   "execution_count": 4,
   "metadata": {},
   "outputs": [
    {
     "name": "stdout",
     "output_type": "stream",
     "text": [
      "Integrating for 730 steps, 730.4844 days, or 2 years.\n",
      "Total elapsed time is 1.9986737567564754 years.\n"
     ]
    }
   ],
   "source": [
    "col1.integrate_years(2)"
   ]
  },
  {
   "cell_type": "code",
   "execution_count": 5,
   "metadata": {},
   "outputs": [
    {
     "data": {
      "text/plain": [
       "Field([-0.00148377])"
      ]
     },
     "execution_count": 5,
     "metadata": {},
     "output_type": "execute_result"
    }
   ],
   "source": [
    "# Check for energy balance\n",
    "col1.ASR - col1.OLR"
   ]
  },
  {
   "cell_type": "code",
   "execution_count": 6,
   "metadata": {},
   "outputs": [
    {
     "data": {
      "image/png": "[encoded data removed]",
      "text/plain": [
       "<Figure size 432x288 with 1 Axes>"
      ]
     },
     "metadata": {
      "needs_background": "light"
     },
     "output_type": "display_data"
    }
   ],
   "source": [
    "fig = plt.figure()\n",
    "ax = fig.add_subplot(111)\n",
    "ax.plot( col1.Tatm, col1.lev, 'c-', label='default' )\n",
    "ax.plot( col1.Ts, climlab.constants.ps, 'co', markersize=16 )\n",
    "ax.invert_yaxis()\n",
    "ax.set_xlabel('Temperature (K)', fontsize=16)\n",
    "ax.set_ylabel('Pressure (hPa)', fontsize=16 )\n",
    "ax.set_title('Temperature profiles', fontsize = 18)\n",
    "ax.grid()"
   ]
  },
  {
   "cell_type": "markdown",
   "metadata": {},
   "source": [
    "By default this model has convective adjustment.  We can set the adjusted lapse rate by passing a parameter when we create the model.\n",
    "\n",
    "The model currently has no ozone (so there is no stratosphere). Not very realistic!"
   ]
  },
  {
   "cell_type": "markdown",
   "metadata": {},
   "source": [
    "More reasonable-looking troposphere, but still no stratosphere."
   ]
  },
  {
   "cell_type": "markdown",
   "metadata": {},
   "source": [
    "### About the radiatively active gases"
   ]
  },
  {
   "cell_type": "markdown",
   "metadata": {},
   "source": [
    "The Band model is aware of three different absorbing gases: O3 (ozone), CO2, and H2O (water vapor). The abundances of these gases are stored in a dictionary of arrays as follows:"
   ]
  },
  {
   "cell_type": "code",
   "execution_count": 7,
   "metadata": {},
   "outputs": [
    {
     "data": {
      "text/plain": [
       "{'CO2': Field([0.00038, 0.00038, 0.00038, 0.00038, 0.00038, 0.00038, 0.00038,\n",
       "        0.00038, 0.00038, 0.00038, 0.00038, 0.00038, 0.00038, 0.00038,\n",
       "        0.00038, 0.00038, 0.00038, 0.00038, 0.00038, 0.00038, 0.00038,\n",
       "        0.00038, 0.00038, 0.00038, 0.00038, 0.00038, 0.00038, 0.00038,\n",
       "        0.00038, 0.00038]),\n",
       " 'O3': Field([0., 0., 0., 0., 0., 0., 0., 0., 0., 0., 0., 0., 0., 0., 0., 0., 0.,\n",
       "        0., 0., 0., 0., 0., 0., 0., 0., 0., 0., 0., 0., 0.]),\n",
       " 'H2O': Field([5.00000000e-06, 5.00000000e-06, 5.00000000e-06, 5.00000000e-06,\n",
       "        5.00000000e-06, 5.00000000e-06, 6.38590233e-06, 9.08848690e-06,\n",
       "        1.33273826e-05, 2.34389689e-05, 3.84220914e-05, 5.95564299e-05,\n",
       "        8.82144990e-05, 1.25843839e-04, 1.73951159e-04, 2.34088411e-04,\n",
       "        3.07840683e-04, 3.96815735e-04, 5.02635028e-04, 6.26926041e-04,\n",
       "        7.71315753e-04, 9.37425100e-04, 1.12686431e-03, 1.34122899e-03,\n",
       "        1.58209684e-03, 1.85102493e-03, 2.14954752e-03, 2.47917415e-03,\n",
       "        2.84138824e-03, 3.23764591e-03])}"
      ]
     },
     "execution_count": 7,
     "metadata": {},
     "output_type": "execute_result"
    }
   ],
   "source": [
    "col1.absorber_vmr"
   ]
  },
  {
   "cell_type": "markdown",
   "metadata": {},
   "source": [
    "Ozone and CO2 are both specified in the model. The default, as you see above, is zero ozone, and constant (well-mixed) CO2 at a volume mixing ratio of 3.8E-4 or 380 ppm.\n",
    "\n",
    "Water vapor is handled differently: it is determined by the model at each timestep. We make the following assumptions, following a classic paper on radiative-convective equilibrium by Manabe and Wetherald (J. Atmos. Sci. 1967):\n",
    "\n",
    "- the relative humidity just above the surface is fixed at 77% (can be changed of course... see the parameter `col1.relative_humidity`\n",
    "- water vapor drops off linearly with pressure\n",
    "- there is a small specified amount of water vapor in the stratosphere."
   ]
  },
  {
   "cell_type": "markdown",
   "metadata": {},
   "source": [
    "## Putting in some ozone"
   ]
  },
  {
   "cell_type": "markdown",
   "metadata": {},
   "source": [
    "We need to provide some ozone data to the model in order to simulate a stratosphere. As we did with the original column model, we will use the ozone climatology data provided with the CESM model.\n",
    "\n",
    "See here for more information, including some plots of the ozone data:\n",
    "<http://www.atmos.albany.edu/facstaff/brose/classes/ENV480_Spring2014/styled-5/code-3/index.html>"
   ]
  },
  {
   "cell_type": "code",
   "execution_count": 8,
   "metadata": {},
   "outputs": [],
   "source": [
    "import netCDF4 as nc\n",
    "from pathlib import Path\n",
    "\n",
    "datapath = Path() / \"ozone_1.9x2.5_L26_2000clim_c091112.nc\"\n",
    "ozone = nc.Dataset(datapath)"
   ]
  },
  {
   "cell_type": "code",
   "execution_count": 9,
   "metadata": {},
   "outputs": [],
   "source": [
    "#  Dimensions of the ozone file\n",
    "lat = ozone.variables['lat'][:]\n",
    "lon = ozone.variables['lon'][:]\n",
    "lev = ozone.variables['lev'][:]"
   ]
  },
  {
   "cell_type": "code",
   "execution_count": 10,
   "metadata": {},
   "outputs": [],
   "source": [
    "# Taking annual, zonal, and global averages of the ozone data\n",
    "O3_zon = np.mean( ozone.variables['O3'],axis=(0,3) )\n",
    "O3_global = np.sum( O3_zon * np.cos(np.deg2rad(lat)), axis=1 ) / sum( np.cos(np.deg2rad(lat) ) )"
   ]
  },
  {
   "cell_type": "code",
   "execution_count": 11,
   "metadata": {
    "scrolled": true
   },
   "outputs": [
    {
     "data": {
      "image/png": "[encoded data removed]",
      "text/plain": [
       "<Figure size 432x288 with 1 Axes>"
      ]
     },
     "metadata": {
      "needs_background": "light"
     },
     "output_type": "display_data"
    }
   ],
   "source": [
    "fig = plt.figure()\n",
    "ax = fig.add_subplot(111)\n",
    "ax.plot( O3_global*1E6, lev)\n",
    "ax.invert_yaxis()"
   ]
  },
  {
   "cell_type": "markdown",
   "metadata": {},
   "source": [
    "We are going to create another instance of the model, this time using the same vertical coordinates as the ozone data."
   ]
  },
  {
   "cell_type": "code",
   "execution_count": 12,
   "metadata": {},
   "outputs": [
    {
     "name": "stdout",
     "output_type": "stream",
     "text": [
      "climlab Process of type <class 'climlab.model.column.BandRCModel'>. \n",
      "State variables and domain shapes: \n",
      "  Ts: (1,) \n",
      "  Tatm: (26,) \n",
      "The subprocess tree: \n",
      "Untitled: <class 'climlab.model.column.BandRCModel'>\n",
      "   LW: <class 'climlab.radiation.nband.FourBandLW'>\n",
      "   SW: <class 'climlab.radiation.nband.ThreeBandSW'>\n",
      "   insolation: <class 'climlab.radiation.insolation.FixedInsolation'>\n",
      "   convective adjustment: <class 'climlab.convection.convadj.ConvectiveAdjustment'>\n",
      "   H2O: <class 'climlab.radiation.water_vapor.ManabeWaterVapor'>\n",
      "\n"
     ]
    }
   ],
   "source": [
    "#  Create the column with appropriate vertical coordinate, surface albedo and convective adjustment\n",
    "col2 = climlab.BandRCModel(lev=lev)\n",
    "print(col2)"
   ]
  },
  {
   "cell_type": "code",
   "execution_count": 13,
   "metadata": {},
   "outputs": [],
   "source": [
    "#  Set the ozone mixing ratio\n",
    "col2.absorber_vmr['O3'] = O3_global"
   ]
  },
  {
   "cell_type": "code",
   "execution_count": 14,
   "metadata": {},
   "outputs": [
    {
     "name": "stdout",
     "output_type": "stream",
     "text": [
      "Integrating for 730 steps, 730.4844 days, or 2.0 years.\n",
      "Total elapsed time is 1.9986737567564754 years.\n"
     ]
    }
   ],
   "source": [
    "#  Run the model out to equilibrium!\n",
    "col2.integrate_years(2.)"
   ]
  },
  {
   "cell_type": "code",
   "execution_count": 15,
   "metadata": {},
   "outputs": [
    {
     "data": {
      "text/plain": [
       "<matplotlib.legend.Legend at 0x7f823a9769a0>"
      ]
     },
     "execution_count": 15,
     "metadata": {},
     "output_type": "execute_result"
    },
    {
     "data": {
      "image/png": "[encoded data removed]",
      "text/plain": [
       "<Figure size 432x288 with 1 Axes>"
      ]
     },
     "metadata": {
      "needs_background": "light"
     },
     "output_type": "display_data"
    }
   ],
   "source": [
    "fig = plt.figure()\n",
    "ax = fig.add_subplot(111)\n",
    "ax.plot( col1.Tatm, np.log(col1.lev/1000), 'c-', label='RCE' )\n",
    "ax.plot( col1.Ts, 0, 'co', markersize=16 )\n",
    "ax.plot(col2.Tatm, np.log(col2.lev/1000), 'r-', label='RCE O3' )\n",
    "ax.plot(col2.Ts, 0, 'ro', markersize=16 )\n",
    "ax.invert_yaxis()\n",
    "ax.set_xlabel('Temperature (K)', fontsize=16)\n",
    "ax.set_ylabel('log(Pressure)', fontsize=16 )\n",
    "ax.set_title('Temperature profiles', fontsize = 18)\n",
    "ax.grid()\n",
    "ax.legend()"
   ]
  },
  {
   "cell_type": "markdown",
   "metadata": {},
   "source": [
    "Once we include ozone we get a well-defined stratosphere. We can also a slight cooling effect in the troposphere.\n",
    "\n",
    "Things to consider / try:\n",
    "\n",
    "- Here we used the global annual mean Q = 341.3 W m$^{-2}$. We might want to consider latitudinal or seasonal variations in Q.\n",
    "- We also used the global annual mean ozone profile! Ozone varies tremendously in latitude and by season. That information is all contained in the ozone data file we opened above. We might explore the effects of those variations.\n",
    "- We can calculate climate sensitivity in this model by doubling the CO2 concentration and re-running out to the new equilibrium. Does the amount of ozone affect the climate sensitivity?  (example below)\n",
    "- An important shortcoming of the model: there are no clouds! (that would be the next step in the hierarchy of column models)\n",
    "- Clouds would act both in the shortwave (increasing the albedo, cooling the climate) and in the longwave (greenhouse effect, warming the climate). Which effect is stronger depends on the vertical structure of the clouds (high or low clouds) and their optical properties (e.g. thin cirrus clouds are nearly transparent to solar radiation but are good longwave absorbers)."
   ]
  },
  {
   "cell_type": "code",
   "execution_count": 16,
   "metadata": {},
   "outputs": [
    {
     "name": "stdout",
     "output_type": "stream",
     "text": [
      "climlab Process of type <class 'climlab.model.column.BandRCModel'>. \n",
      "State variables and domain shapes: \n",
      "  Ts: (1,) \n",
      "  Tatm: (26,) \n",
      "The subprocess tree: \n",
      "Untitled: <class 'climlab.model.column.BandRCModel'>\n",
      "   LW: <class 'climlab.radiation.nband.FourBandLW'>\n",
      "   SW: <class 'climlab.radiation.nband.ThreeBandSW'>\n",
      "   insolation: <class 'climlab.radiation.insolation.FixedInsolation'>\n",
      "   convective adjustment: <class 'climlab.convection.convadj.ConvectiveAdjustment'>\n",
      "   H2O: <class 'climlab.radiation.water_vapor.ManabeWaterVapor'>\n",
      "\n"
     ]
    }
   ],
   "source": [
    "col3 = climlab.process_like(col2)\n",
    "print(col3)"
   ]
  },
  {
   "cell_type": "code",
   "execution_count": 17,
   "metadata": {},
   "outputs": [],
   "source": [
    "# Let's double CO2.\n",
    "col3.absorber_vmr['CO2'] *= 2."
   ]
  },
  {
   "cell_type": "code",
   "execution_count": 18,
   "metadata": {},
   "outputs": [
    {
     "name": "stdout",
     "output_type": "stream",
     "text": [
      "The radiative forcing for doubling CO2 is 1.390262 W/m2.\n"
     ]
    }
   ],
   "source": [
    "col3.compute_diagnostics()\n",
    "print('The radiative forcing for doubling CO2 is %f W/m2.' % (col2.OLR - col3.OLR))"
   ]
  },
  {
   "cell_type": "code",
   "execution_count": 19,
   "metadata": {},
   "outputs": [
    {
     "name": "stdout",
     "output_type": "stream",
     "text": [
      "Integrating for 1095 steps, 1095.7266 days, or 3 years.\n",
      "Total elapsed time is 4.996684391891189 years.\n"
     ]
    }
   ],
   "source": [
    "col3.integrate_years(3)"
   ]
  },
  {
   "cell_type": "code",
   "execution_count": 20,
   "metadata": {},
   "outputs": [
    {
     "data": {
      "text/plain": [
       "Field([4.25508631e-07])"
      ]
     },
     "execution_count": 20,
     "metadata": {},
     "output_type": "execute_result"
    }
   ],
   "source": [
    "col3.ASR - col3.OLR"
   ]
  },
  {
   "cell_type": "code",
   "execution_count": 21,
   "metadata": {},
   "outputs": [
    {
     "name": "stdout",
     "output_type": "stream",
     "text": [
      "The Equilibrium Climate Sensitivity is 2.790202 K.\n"
     ]
    }
   ],
   "source": [
    "print('The Equilibrium Climate Sensitivity is %f K.' % (col3.Ts - col2.Ts))"
   ]
  },
  {
   "cell_type": "code",
   "execution_count": 22,
   "metadata": {},
   "outputs": [
    {
     "name": "stdout",
     "output_type": "stream",
     "text": [
      "climlab Process of type <class 'climlab.model.column.BandRCModel'>. \n",
      "State variables and domain shapes: \n",
      "  Ts: (1,) \n",
      "  Tatm: (30,) \n",
      "The subprocess tree: \n",
      "Untitled: <class 'climlab.model.column.BandRCModel'>\n",
      "   LW: <class 'climlab.radiation.nband.FourBandLW'>\n",
      "   SW: <class 'climlab.radiation.nband.ThreeBandSW'>\n",
      "   insolation: <class 'climlab.radiation.insolation.FixedInsolation'>\n",
      "   convective adjustment: <class 'climlab.convection.convadj.ConvectiveAdjustment'>\n",
      "   H2O: <class 'climlab.radiation.water_vapor.ManabeWaterVapor'>\n",
      "\n"
     ]
    }
   ],
   "source": [
    "col4 = climlab.process_like(col1)\n",
    "print(col4)"
   ]
  },
  {
   "cell_type": "code",
   "execution_count": 23,
   "metadata": {},
   "outputs": [
    {
     "data": {
      "text/plain": [
       "{'CO2': Field([0.00038, 0.00038, 0.00038, 0.00038, 0.00038, 0.00038, 0.00038,\n",
       "        0.00038, 0.00038, 0.00038, 0.00038, 0.00038, 0.00038, 0.00038,\n",
       "        0.00038, 0.00038, 0.00038, 0.00038, 0.00038, 0.00038, 0.00038,\n",
       "        0.00038, 0.00038, 0.00038, 0.00038, 0.00038, 0.00038, 0.00038,\n",
       "        0.00038, 0.00038]),\n",
       " 'O3': Field([0., 0., 0., 0., 0., 0., 0., 0., 0., 0., 0., 0., 0., 0., 0., 0., 0.,\n",
       "        0., 0., 0., 0., 0., 0., 0., 0., 0., 0., 0., 0., 0.]),\n",
       " 'H2O': Field([5.00000000e-06, 5.00000000e-06, 5.00000000e-06, 5.00000000e-06,\n",
       "        5.00000000e-06, 5.00000000e-06, 6.38590233e-06, 9.08848690e-06,\n",
       "        1.33273826e-05, 2.34389689e-05, 3.84220914e-05, 5.95564299e-05,\n",
       "        8.82144990e-05, 1.25843839e-04, 1.73951159e-04, 2.34088411e-04,\n",
       "        3.07840683e-04, 3.96815735e-04, 5.02635028e-04, 6.26926041e-04,\n",
       "        7.71315753e-04, 9.37425100e-04, 1.12686431e-03, 1.34122899e-03,\n",
       "        1.58209684e-03, 1.85102493e-03, 2.14954752e-03, 2.47917415e-03,\n",
       "        2.84138824e-03, 3.23764591e-03])}"
      ]
     },
     "execution_count": 23,
     "metadata": {},
     "output_type": "execute_result"
    }
   ],
   "source": [
    "col4.absorber_vmr"
   ]
  },
  {
   "cell_type": "code",
   "execution_count": 24,
   "metadata": {},
   "outputs": [
    {
     "name": "stdout",
     "output_type": "stream",
     "text": [
      "The radiative forcing for doubling CO2 is 4.421081 W/m2.\n"
     ]
    }
   ],
   "source": [
    "col4.absorber_vmr['CO2'] *= 2.\n",
    "col4.compute_diagnostics()\n",
    "print('The radiative forcing for doubling CO2 is %f W/m2.' % (col1.OLR - col4.OLR))"
   ]
  },
  {
   "cell_type": "code",
   "execution_count": 25,
   "metadata": {},
   "outputs": [
    {
     "name": "stdout",
     "output_type": "stream",
     "text": [
      "Integrating for 1095 steps, 1095.7266 days, or 3.0 years.\n",
      "Total elapsed time is 4.996684391891189 years.\n"
     ]
    },
    {
     "data": {
      "text/plain": [
       "Field([-5.2565548e-07])"
      ]
     },
     "execution_count": 25,
     "metadata": {},
     "output_type": "execute_result"
    }
   ],
   "source": [
    "col4.integrate_years(3.)\n",
    "col4.ASR - col4.OLR"
   ]
  },
  {
   "cell_type": "code",
   "execution_count": 26,
   "metadata": {},
   "outputs": [
    {
     "name": "stdout",
     "output_type": "stream",
     "text": [
      "The Equilibrium Climate Sensitivity is 3.180993 K.\n"
     ]
    }
   ],
   "source": [
    "print('The Equilibrium Climate Sensitivity is %f K.' % (col4.Ts - col1.Ts))"
   ]
  },
  {
   "cell_type": "markdown",
   "metadata": {},
   "source": [
    "Interesting that the model is MORE sensitive when ozone is set to zero."
   ]
  },
  {
   "cell_type": "code",
   "execution_count": null,
   "metadata": {},
   "outputs": [],
   "source": []
  }
 ],
 "metadata": {
  "jupytext": {
   "notebook_metadata_filter": "all,-language_info,-toc,-latex_envs"
  },
  "kernelspec": {
   "display_name": "Python 3",
   "language": "python",
   "name": "python3"
  },
  "language_info": {
   "codemirror_mode": {
    "name": "ipython",
    "version": 3
   },
   "file_extension": ".py",
   "mimetype": "text/x-python",
   "name": "python",
   "nbconvert_exporter": "python",
   "pygments_lexer": "ipython3",
   "version": "3.8.6"
  }
 },
 "nbformat": 4,
 "nbformat_minor": 1
}
