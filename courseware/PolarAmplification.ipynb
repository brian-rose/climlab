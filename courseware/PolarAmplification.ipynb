{
 "cells": [
  {
   "cell_type": "markdown",
   "metadata": {},
   "source": [
    "#  Polar amplification in simple models"
   ]
  },
  {
   "cell_type": "code",
   "execution_count": null,
   "metadata": {},
   "outputs": [],
   "source": [
    "from __future__ import division, print_function\n",
    "%matplotlib inline\n",
    "import numpy as np\n",
    "import matplotlib.pyplot as plt\n",
    "import climlab\n",
    "from climlab import constants as const"
   ]
  },
  {
   "cell_type": "markdown",
   "metadata": {},
   "source": [
    "##  EBM with surface and atm layers"
   ]
  },
  {
   "cell_type": "code",
   "execution_count": null,
   "metadata": {},
   "outputs": [],
   "source": [
    "ebm = climlab.GreyRadiationModel(num_lev=1, num_lat=90)\n",
    "insolation = climlab.radiation.AnnualMeanInsolation(domains=ebm.Ts.domain)\n",
    "ebm.add_subprocess('insolation', insolation)\n",
    "ebm.subprocess.SW.flux_from_space = ebm.subprocess.insolation.insolation\n",
    "print(ebm)"
   ]
  },
  {
   "cell_type": "code",
   "execution_count": null,
   "metadata": {},
   "outputs": [],
   "source": [
    "#  add a fixed relative humidity process\n",
    "#  (will only affect surface evaporation)\n",
    "h2o = climlab.radiation.ManabeWaterVapor(state=ebm.state, **ebm.param)\n",
    "ebm.add_subprocess('H2O', h2o)"
   ]
  },
  {
   "cell_type": "code",
   "execution_count": null,
   "metadata": {},
   "outputs": [],
   "source": [
    "#  Add surface heat fluxes\n",
    "shf = climlab.surface.SensibleHeatFlux(state=ebm.state, Cd=3E-4)\n",
    "lhf = climlab.surface.LatentHeatFlux(state=ebm.state, Cd=3E-4)\n",
    "# couple water vapor to latent heat flux process\n",
    "lhf.q = h2o.q\n",
    "ebm.add_subprocess('SHF', shf)\n",
    "ebm.add_subprocess('LHF', lhf)"
   ]
  },
  {
   "cell_type": "code",
   "execution_count": null,
   "metadata": {},
   "outputs": [],
   "source": [
    "ebm.integrate_years(1)"
   ]
  },
  {
   "cell_type": "code",
   "execution_count": null,
   "metadata": {},
   "outputs": [],
   "source": [
    "plt.plot(ebm.lat, ebm.Ts)\n",
    "plt.plot(ebm.lat, ebm.Tatm)"
   ]
  },
  {
   "cell_type": "code",
   "execution_count": null,
   "metadata": {},
   "outputs": [],
   "source": [
    "co2ebm = climlab.process_like(ebm)\n",
    "co2ebm.subprocess['LW'].absorptivity = ebm.subprocess['LW'].absorptivity*1.1"
   ]
  },
  {
   "cell_type": "code",
   "execution_count": null,
   "metadata": {},
   "outputs": [],
   "source": [
    "co2ebm.integrate_years(3.)"
   ]
  },
  {
   "cell_type": "code",
   "execution_count": null,
   "metadata": {},
   "outputs": [],
   "source": [
    "#  no heat transport but with evaporation -- no polar amplification\n",
    "plt.plot(ebm.lat, co2ebm.Ts - ebm.Ts)\n",
    "plt.plot(ebm.lat, co2ebm.Tatm - ebm.Tatm)"
   ]
  },
  {
   "cell_type": "markdown",
   "metadata": {},
   "source": [
    "### Now with meridional heat transport"
   ]
  },
  {
   "cell_type": "code",
   "execution_count": null,
   "metadata": {},
   "outputs": [],
   "source": [
    "diffebm = climlab.process_like(ebm)\n",
    "# thermal diffusivity in W/m**2/degC\n",
    "D = 0.6\n",
    "# meridional diffusivity in 1/s\n",
    "K = D / diffebm.Tatm.domain.heat_capacity\n",
    "d = climlab.dynamics.MeridionalDiffusion(K=K, state={'Tatm': diffebm.Tatm}, **diffebm.param)\n",
    "diffebm.add_subprocess('diffusion', d)\n",
    "print(diffebm)"
   ]
  },
  {
   "cell_type": "code",
   "execution_count": null,
   "metadata": {},
   "outputs": [],
   "source": [
    "diffebm.integrate_years(3)"
   ]
  },
  {
   "cell_type": "code",
   "execution_count": null,
   "metadata": {},
   "outputs": [],
   "source": [
    "plt.plot(diffebm.lat, diffebm.Ts)\n",
    "plt.plot(diffebm.lat, diffebm.Tatm)"
   ]
  },
  {
   "cell_type": "code",
   "execution_count": null,
   "metadata": {},
   "outputs": [],
   "source": [
    "def inferred_heat_transport( energy_in, lat_deg ):\n",
    "    '''Returns the inferred heat transport (in PW) by integrating the net energy imbalance from pole to pole.'''\n",
    "    from scipy import integrate\n",
    "    from climlab import constants as const\n",
    "    lat_rad = np.deg2rad( lat_deg )\n",
    "    return ( 1E-15 * 2 * np.math.pi * const.a**2 * integrate.cumtrapz( np.cos(lat_rad)*energy_in,\n",
    "            x=lat_rad, initial=0. ) )"
   ]
  },
  {
   "cell_type": "code",
   "execution_count": null,
   "metadata": {},
   "outputs": [],
   "source": [
    "#  Plot the northward heat transport in this model\n",
    "Rtoa = np.squeeze(diffebm.timeave['ASR'] - diffebm.timeave['OLR'])\n",
    "plt.plot(diffebm.lat, inferred_heat_transport(Rtoa, diffebm.lat))"
   ]
  },
  {
   "cell_type": "code",
   "execution_count": null,
   "metadata": {},
   "outputs": [],
   "source": [
    "##  Now warm it up!\n",
    "co2diffebm = climlab.process_like(diffebm)\n",
    "co2diffebm.subprocess['LW'].absorptivity = diffebm.subprocess['LW'].absorptivity*1.1"
   ]
  },
  {
   "cell_type": "code",
   "execution_count": null,
   "metadata": {},
   "outputs": [],
   "source": [
    "co2diffebm.integrate_years(5)"
   ]
  },
  {
   "cell_type": "code",
   "execution_count": null,
   "metadata": {},
   "outputs": [],
   "source": [
    "#  with heat transport and evaporation \n",
    "#   Get some modest polar amplifcation of surface warming\n",
    "#    but larger equatorial amplification of atmospheric warming\n",
    "#    Increased atmospheric gradient = increased poleward flux.\n",
    "plt.plot(diffebm.lat, co2diffebm.Ts - diffebm.Ts, label='Ts')\n",
    "plt.plot(diffebm.lat, co2diffebm.Tatm - diffebm.Tatm, label='Tatm')\n",
    "plt.legend()"
   ]
  },
  {
   "cell_type": "code",
   "execution_count": null,
   "metadata": {},
   "outputs": [],
   "source": [
    "Rtoa = np.squeeze(diffebm.timeave['ASR'] - diffebm.timeave['OLR'])\n",
    "Rtoa_co2 = np.squeeze(co2diffebm.timeave['ASR'] - co2diffebm.timeave['OLR'])\n",
    "plt.plot(diffebm.lat, inferred_heat_transport(Rtoa, diffebm.lat), label='1xCO2')\n",
    "plt.plot(diffebm.lat, inferred_heat_transport(Rtoa_co2, diffebm.lat), label='2xCO2')\n",
    "plt.legend()"
   ]
  },
  {
   "cell_type": "markdown",
   "metadata": {},
   "source": [
    "## Same thing but with NO EVAPORATION"
   ]
  },
  {
   "cell_type": "code",
   "execution_count": null,
   "metadata": {},
   "outputs": [],
   "source": [
    "diffebm2 = climlab.process_like(diffebm)\n",
    "diffebm2.remove_subprocess('LHF')\n",
    "diffebm2.integrate_years(3)\n",
    "co2diffebm2 = climlab.process_like(co2diffebm)\n",
    "co2diffebm2.remove_subprocess('LHF')\n",
    "co2diffebm2.integrate_years(3)\n",
    "#  With transport and no evaporation...\n",
    "#  No polar amplification, either of surface or air temperature!\n",
    "plt.plot(diffebm2.lat, co2diffebm2.Ts - diffebm2.Ts, label='Ts')\n",
    "plt.plot(diffebm2.lat, co2diffebm2.Tatm[:,0] - diffebm2.Tatm[:,0], label='Tatm')\n",
    "plt.legend()\n",
    "plt.figure()\n",
    "#  And in this case, the lack of polar amplification is DESPITE an increase in the poleward heat transport.\n",
    "Rtoa = np.squeeze(diffebm2.timeave['ASR'] - diffebm2.timeave['OLR'])\n",
    "Rtoa_co2 = np.squeeze(co2diffebm2.timeave['ASR'] - co2diffebm2.timeave['OLR'])\n",
    "plt.plot(diffebm2.lat, inferred_heat_transport(Rtoa, diffebm2.lat), label='1xCO2')\n",
    "plt.plot(diffebm2.lat, inferred_heat_transport(Rtoa_co2, diffebm2.lat), label='2xCO2')\n",
    "plt.legend()"
   ]
  },
  {
   "cell_type": "markdown",
   "metadata": {},
   "source": [
    "## A column model approach"
   ]
  },
  {
   "cell_type": "code",
   "execution_count": null,
   "metadata": {},
   "outputs": [],
   "source": [
    "model = climlab.GreyRadiationModel(num_lev=30, num_lat=90, abs_coeff=1.6E-4)\n",
    "insolation = climlab.radiation.AnnualMeanInsolation(domains=model.Ts.domain)\n",
    "model.add_subprocess('insolation', insolation)\n",
    "model.subprocess.SW.flux_from_space = model.subprocess.insolation.insolation\n",
    "print(model)"
   ]
  },
  {
   "cell_type": "code",
   "execution_count": null,
   "metadata": {},
   "outputs": [],
   "source": [
    "#  Convective adjustment for atmosphere only\n",
    "conv = climlab.convection.ConvectiveAdjustment(state={'Tatm':model.Tatm}, adj_lapse_rate=6.5,\n",
    "                                                       **model.param)\n",
    "model.add_subprocess('convective adjustment', conv)"
   ]
  },
  {
   "cell_type": "code",
   "execution_count": null,
   "metadata": {},
   "outputs": [],
   "source": [
    "#  add a fixed relative humidity process\n",
    "#  (will only affect surface evaporation)\n",
    "h2o = climlab.radiation.water_vapor.ManabeWaterVapor(state=model.state, **model.param)\n",
    "model.add_subprocess('H2O', h2o)"
   ]
  },
  {
   "cell_type": "code",
   "execution_count": null,
   "metadata": {},
   "outputs": [],
   "source": [
    "#  Add surface heat fluxes\n",
    "shf = climlab.surface.SensibleHeatFlux(state=model.state, Cd=1E-3)\n",
    "lhf = climlab.surface.LatentHeatFlux(state=model.state, Cd=1E-3)\n",
    "lhf.q = model.subprocess.H2O.q\n",
    "model.add_subprocess('SHF', shf)\n",
    "model.add_subprocess('LHF', lhf)"
   ]
  },
  {
   "cell_type": "code",
   "execution_count": null,
   "metadata": {},
   "outputs": [],
   "source": [
    "model.integrate_years(3.)"
   ]
  },
  {
   "cell_type": "code",
   "execution_count": null,
   "metadata": {},
   "outputs": [],
   "source": [
    "def plot_temp_section(model, timeave=True):\n",
    "    fig = plt.figure()\n",
    "    ax = fig.add_subplot(111)\n",
    "    if timeave:\n",
    "        field = model.timeave['Tatm'].transpose()\n",
    "    else:\n",
    "        field = model.Tatm.transpose()\n",
    "    cax = ax.contourf(model.lat, model.lev, field)\n",
    "    ax.invert_yaxis()\n",
    "    ax.set_xlim(-90,90)\n",
    "    ax.set_xticks([-90, -60, -30, 0, 30, 60, 90])\n",
    "    fig.colorbar(cax)"
   ]
  },
  {
   "cell_type": "code",
   "execution_count": null,
   "metadata": {},
   "outputs": [],
   "source": [
    "plot_temp_section(model, timeave=False)"
   ]
  },
  {
   "cell_type": "code",
   "execution_count": null,
   "metadata": {},
   "outputs": [],
   "source": [
    "co2model = climlab.process_like(model)\n",
    "co2model.subprocess['LW'].absorptivity = model.subprocess['LW'].absorptivity*1.1"
   ]
  },
  {
   "cell_type": "code",
   "execution_count": null,
   "metadata": {},
   "outputs": [],
   "source": [
    "co2model.integrate_years(3)"
   ]
  },
  {
   "cell_type": "code",
   "execution_count": null,
   "metadata": {},
   "outputs": [],
   "source": [
    "plot_temp_section(co2model, timeave=False)"
   ]
  },
  {
   "cell_type": "code",
   "execution_count": null,
   "metadata": {},
   "outputs": [],
   "source": [
    "#  Without transport, get equatorial amplification\n",
    "plt.plot(model.lat, co2model.Ts - model.Ts, label='Ts')\n",
    "plt.plot(model.lat, co2model.Tatm[:,0] - model.Tatm[:,0], label='Tatm')\n",
    "plt.legend()"
   ]
  },
  {
   "cell_type": "markdown",
   "metadata": {},
   "source": [
    "##  Now with meridional heat tranpsort!"
   ]
  },
  {
   "cell_type": "code",
   "execution_count": null,
   "metadata": {},
   "outputs": [],
   "source": [
    "diffmodel = climlab.process_like(model)"
   ]
  },
  {
   "cell_type": "code",
   "execution_count": null,
   "metadata": {},
   "outputs": [],
   "source": [
    "# thermal diffusivity in W/m**2/degC\n",
    "D = 0.05\n",
    "# meridional diffusivity in 1/s\n",
    "K = D / diffmodel.Tatm.domain.heat_capacity[0]\n",
    "print(K)"
   ]
  },
  {
   "cell_type": "code",
   "execution_count": null,
   "metadata": {},
   "outputs": [],
   "source": [
    "d = climlab.dynamics.MeridionalDiffusion(K=K, state={'Tatm':diffmodel.Tatm}, **diffmodel.param)\n",
    "diffmodel.add_subprocess('diffusion', d)\n",
    "print(diffmodel)"
   ]
  },
  {
   "cell_type": "code",
   "execution_count": null,
   "metadata": {},
   "outputs": [],
   "source": [
    "diffmodel.integrate_years(3)"
   ]
  },
  {
   "cell_type": "code",
   "execution_count": null,
   "metadata": {},
   "outputs": [],
   "source": [
    "plot_temp_section(diffmodel)"
   ]
  },
  {
   "cell_type": "code",
   "execution_count": null,
   "metadata": {},
   "outputs": [],
   "source": [
    "#  Plot the northward heat transport in this model\n",
    "Rtoa = np.squeeze(diffmodel.timeave['ASR'] - diffmodel.timeave['OLR'])\n",
    "plt.plot(diffmodel.lat, inferred_heat_transport(Rtoa, diffmodel.lat))"
   ]
  },
  {
   "cell_type": "code",
   "execution_count": null,
   "metadata": {},
   "outputs": [],
   "source": [
    "##  Now warm it up!\n",
    "co2diffmodel = climlab.process_like(diffmodel)\n",
    "co2diffmodel.subprocess['LW'].absorptivity = diffmodel.subprocess['LW'].absorptivity*1.1"
   ]
  },
  {
   "cell_type": "code",
   "execution_count": null,
   "metadata": {},
   "outputs": [],
   "source": [
    "co2diffmodel.integrate_years(3)"
   ]
  },
  {
   "cell_type": "code",
   "execution_count": null,
   "metadata": {},
   "outputs": [],
   "source": [
    "#  With transport, get polar amplification...\n",
    "#   of surface temperature, but not of air temperature!\n",
    "plt.plot(diffmodel.lat, co2diffmodel.Ts - diffmodel.Ts, label='Ts')\n",
    "plt.plot(diffmodel.lat, co2diffmodel.Tatm[:,0] - diffmodel.Tatm[:,0], label='Tatm')\n",
    "plt.legend()"
   ]
  },
  {
   "cell_type": "code",
   "execution_count": null,
   "metadata": {},
   "outputs": [],
   "source": [
    "Rtoa = np.squeeze(diffmodel.timeave['ASR'] - diffmodel.timeave['OLR'])\n",
    "Rtoa_co2 = np.squeeze(co2diffmodel.timeave['ASR'] - co2diffmodel.timeave['OLR'])\n",
    "plt.plot(diffmodel.lat, inferred_heat_transport(Rtoa, diffmodel.lat), label='1xCO2')\n",
    "plt.plot(diffmodel.lat, inferred_heat_transport(Rtoa_co2, diffmodel.lat), label='2xCO2')"
   ]
  },
  {
   "cell_type": "markdown",
   "metadata": {},
   "source": [
    "## Same thing but with NO EVAPORATION"
   ]
  },
  {
   "cell_type": "code",
   "execution_count": null,
   "metadata": {},
   "outputs": [],
   "source": [
    "diffmodel2 = climlab.process_like(diffmodel)\n",
    "diffmodel2.remove_subprocess('LHF')\n",
    "print(diffmodel2)"
   ]
  },
  {
   "cell_type": "code",
   "execution_count": null,
   "metadata": {},
   "outputs": [],
   "source": [
    "diffmodel2.integrate_years(3)"
   ]
  },
  {
   "cell_type": "code",
   "execution_count": null,
   "metadata": {},
   "outputs": [],
   "source": [
    "co2diffmodel2 = climlab.process_like(co2diffmodel)\n",
    "co2diffmodel2.remove_subprocess('LHF')\n",
    "co2diffmodel2.integrate_years(3)"
   ]
  },
  {
   "cell_type": "code",
   "execution_count": null,
   "metadata": {},
   "outputs": [],
   "source": [
    "#  With transport and no evaporation...\n",
    "#  No polar amplification, either of surface or air temperature!\n",
    "plt.plot(diffmodel2.lat, co2diffmodel2.Ts - diffmodel2.Ts, label='Ts')\n",
    "plt.plot(diffmodel2.lat, co2diffmodel2.Tatm[:,0] - diffmodel2.Tatm[:,0], label='Tatm')\n",
    "plt.legend()"
   ]
  },
  {
   "cell_type": "code",
   "execution_count": null,
   "metadata": {},
   "outputs": [],
   "source": [
    "Rtoa = np.squeeze(diffmodel2.timeave['ASR'] - diffmodel2.timeave['OLR'])\n",
    "Rtoa_co2 = np.squeeze(co2diffmodel2.timeave['ASR'] - co2diffmodel2.timeave['OLR'])\n",
    "plt.plot(diffmodel2.lat, inferred_heat_transport(Rtoa, diffmodel2.lat), label='1xCO2')\n",
    "plt.plot(diffmodel2.lat, inferred_heat_transport(Rtoa_co2, diffmodel2.lat), label='2xCO2')"
   ]
  },
  {
   "cell_type": "markdown",
   "metadata": {},
   "source": [
    "## Warming effect of a DECREASE IN EVAPORATION EFFICIENCY\n",
    "\n",
    "Take a column model that includes evaporation and heat transport, and reduce the drag coefficient by a factor of 2.\n",
    "\n",
    "How does the surface temperature change?"
   ]
  },
  {
   "cell_type": "code",
   "execution_count": null,
   "metadata": {},
   "outputs": [],
   "source": [
    "diffmodel3 = climlab.process_like(diffmodel)\n",
    "diffmodel3.subprocess['LHF'].Cd *= 0.5\n",
    "diffmodel3.integrate_years(5.)"
   ]
  },
  {
   "cell_type": "code",
   "execution_count": null,
   "metadata": {},
   "outputs": [],
   "source": [
    "#  Reduced evaporation gives equatorially enhanced warming of surface\n",
    "#  and cooling of near-surface air temperature\n",
    "plt.plot(diffmodel.lat, diffmodel3.Ts - diffmodel.Ts, label='Ts')\n",
    "plt.plot(diffmodel.lat, diffmodel3.Tatm[:,0] - diffmodel.Tatm[:,0], label='Tatm')\n",
    "plt.legend()"
   ]
  },
  {
   "cell_type": "markdown",
   "metadata": {},
   "source": [
    "### Same calculation in a two-layer EBM"
   ]
  },
  {
   "cell_type": "code",
   "execution_count": null,
   "metadata": {},
   "outputs": [],
   "source": [
    "diffebm3 = climlab.process_like(diffebm)\n",
    "diffebm3.subprocess['LHF'].Cd *= 0.5\n",
    "diffebm3.integrate_years(5.)"
   ]
  },
  {
   "cell_type": "code",
   "execution_count": null,
   "metadata": {},
   "outputs": [],
   "source": [
    "#  Reduced evaporation gives equatorially enhanced warming of surface\n",
    "#  and cooling of near-surface air temperature\n",
    "plt.plot(diffebm.lat, diffebm3.Ts - diffebm.Ts, label='Ts')\n",
    "plt.plot(diffebm.lat, diffebm3.Tatm[:,0] - diffebm.Tatm[:,0], label='Tatm')"
   ]
  },
  {
   "cell_type": "markdown",
   "metadata": {},
   "source": [
    "Pretty much the same result."
   ]
  },
  {
   "cell_type": "markdown",
   "metadata": {},
   "source": [
    "## Some stuff with Band models"
   ]
  },
  {
   "cell_type": "code",
   "execution_count": null,
   "metadata": {},
   "outputs": [],
   "source": [
    "#  Put in some ozone\n",
    "import netCDF4 as nc\n",
    "\n",
    "datapath = \"http://ramadda.atmos.albany.edu:8080/repository/opendap/latest/Top/Users/BrianRose/CESM_runs/\"\n",
    "endstr = \"/entry.das\"\n",
    "\n",
    "ozone = nc.Dataset( datapath + 'som_input/ozone_1.9x2.5_L26_2000clim_c091112.nc' + endstr )\n",
    "\n",
    "#  Dimensions of the ozone file\n",
    "lat = ozone.variables['lat'][:]\n",
    "lon = ozone.variables['lon'][:]\n",
    "lev = ozone.variables['lev'][:]\n",
    "\n",
    "# Taking annual, zonal average of the ozone data\n",
    "O3_zon = np.mean( ozone.variables['O3'],axis=(0,3) )"
   ]
  },
  {
   "cell_type": "code",
   "execution_count": null,
   "metadata": {},
   "outputs": [],
   "source": [
    "#  make a model on the same grid as the ozone\n",
    "model1 = climlab.BandRCModel(lev=lev, lat=lat)\n",
    "insolation = climlab.radiation.AnnualMeanInsolation(domains=model1.Ts.domain)\n",
    "model1.add_subprocess('insolation', insolation)\n",
    "model1.subprocess.SW.flux_from_space = model1.subprocess.insolation.insolation\n",
    "print(model1)"
   ]
  },
  {
   "cell_type": "code",
   "execution_count": null,
   "metadata": {},
   "outputs": [],
   "source": [
    "#  Set the ozone mixing ratio\n",
    "O3_trans = np.transpose(O3_zon)\n",
    "# Put in the ozone\n",
    "model1.absorber_vmr['O3'] = O3_trans"
   ]
  },
  {
   "cell_type": "code",
   "execution_count": null,
   "metadata": {},
   "outputs": [],
   "source": [
    "model1.param"
   ]
  },
  {
   "cell_type": "code",
   "execution_count": null,
   "metadata": {},
   "outputs": [],
   "source": [
    "#  Convective adjustment for atmosphere only\n",
    "model1.remove_subprocess('convective adjustment')\n",
    "conv = climlab.convection.ConvectiveAdjustment(state={'Tatm':model1.Tatm}, **model1.param)\n",
    "model1.add_subprocess('convective adjustment', conv)"
   ]
  },
  {
   "cell_type": "code",
   "execution_count": null,
   "metadata": {},
   "outputs": [],
   "source": [
    "#  Add surface heat fluxes\n",
    "shf = climlab.surface.SensibleHeatFlux(state=model1.state, Cd=0.5E-3)\n",
    "lhf = climlab.surface.LatentHeatFlux(state=model1.state, Cd=0.5E-3)\n",
    "#  set the water vapor input field for LHF process\n",
    "lhf.q = model1.q\n",
    "model1.add_subprocess('SHF', shf)\n",
    "model1.add_subprocess('LHF', lhf)"
   ]
  },
  {
   "cell_type": "code",
   "execution_count": null,
   "metadata": {},
   "outputs": [],
   "source": [
    "model1.step_forward()"
   ]
  },
  {
   "cell_type": "code",
   "execution_count": null,
   "metadata": {},
   "outputs": [],
   "source": [
    "model1.integrate_years(1.)"
   ]
  },
  {
   "cell_type": "code",
   "execution_count": null,
   "metadata": {},
   "outputs": [],
   "source": [
    "model1.integrate_years(1.)"
   ]
  },
  {
   "cell_type": "code",
   "execution_count": null,
   "metadata": {},
   "outputs": [],
   "source": [
    "plot_temp_section(model1, timeave=False)"
   ]
  },
  {
   "cell_type": "code",
   "execution_count": null,
   "metadata": {},
   "outputs": [],
   "source": [
    "co2model1 = climlab.process_like(model1)\n",
    "co2model1.absorber_vmr['CO2'] *= 2"
   ]
  },
  {
   "cell_type": "code",
   "execution_count": null,
   "metadata": {},
   "outputs": [],
   "source": [
    "co2model1.integrate_years(3.)"
   ]
  },
  {
   "cell_type": "code",
   "execution_count": null,
   "metadata": {},
   "outputs": [],
   "source": [
    "plot_temp_section(co2model1, timeave=False)"
   ]
  },
  {
   "cell_type": "markdown",
   "metadata": {},
   "source": [
    "Model gets very very hot near equator. Very large equator-to-pole gradient."
   ]
  },
  {
   "cell_type": "markdown",
   "metadata": {},
   "source": [
    "## Band model with heat transport and evaporation"
   ]
  },
  {
   "cell_type": "code",
   "execution_count": null,
   "metadata": {},
   "outputs": [],
   "source": [
    "diffmodel1 = climlab.process_like(model1)\n",
    "# thermal diffusivity in W/m**2/degC\n",
    "D = 0.01\n",
    "# meridional diffusivity in 1/s\n",
    "K = D / diffmodel1.Tatm.domain.heat_capacity[0]\n",
    "d = climlab.dynamics.MeridionalDiffusion(K=K, state={'Tatm': diffmodel1.Tatm}, **diffmodel1.param)\n",
    "diffmodel1.add_subprocess('diffusion', d)\n",
    "diffmodel1.absorber_vmr['CO2'] *= 4.\n",
    "print(diffmodel1)"
   ]
  },
  {
   "cell_type": "code",
   "execution_count": null,
   "metadata": {},
   "outputs": [],
   "source": [
    "diffmodel1.integrate_years(3.)\n",
    "plot_temp_section(diffmodel1, timeave=False)"
   ]
  },
  {
   "cell_type": "code",
   "execution_count": null,
   "metadata": {},
   "outputs": [],
   "source": [
    "Rtoa = np.squeeze(diffmodel1.timeave['ASR'] - diffmodel1.timeave['OLR'])\n",
    "plt.plot(diffmodel1.lat, inferred_heat_transport(Rtoa, diffmodel1.lat))"
   ]
  },
  {
   "cell_type": "code",
   "execution_count": null,
   "metadata": {},
   "outputs": [],
   "source": [
    "plt.plot(diffmodel1.lat, diffmodel1.Ts-273.15)"
   ]
  },
  {
   "cell_type": "code",
   "execution_count": null,
   "metadata": {},
   "outputs": [],
   "source": [
    "#  Now double CO2\n",
    "co2diffmodel1 = climlab.process_like(diffmodel1)\n",
    "co2diffmodel1.absorber_vmr['CO2'] *= 2.\n",
    "co2diffmodel1.integrate_years(5)"
   ]
  },
  {
   "cell_type": "code",
   "execution_count": null,
   "metadata": {},
   "outputs": [],
   "source": [
    "#  No polar amplification in this model!\n",
    "plt.plot(diffmodel1.lat, co2diffmodel1.Ts - diffmodel1.Ts, label='Ts')\n",
    "plt.plot(diffmodel1.lat, co2diffmodel1.Tatm[:,0] - diffmodel1.Tatm[:,0], label='Tatm')\n",
    "plt.legend()\n",
    "plt.figure()\n",
    "Rtoa = np.squeeze(diffmodel1.timeave['ASR'] - diffmodel1.timeave['OLR'])\n",
    "Rtoa_co2 = np.squeeze(co2diffmodel1.timeave['ASR'] - co2diffmodel1.timeave['OLR'])\n",
    "plt.plot(diffmodel1.lat, inferred_heat_transport(Rtoa, diffmodel1.lat), label='1xCO2')\n",
    "plt.plot(diffmodel1.lat, inferred_heat_transport(Rtoa_co2, diffmodel1.lat), label='2xCO2')\n",
    "plt.legend()"
   ]
  },
  {
   "cell_type": "code",
   "execution_count": null,
   "metadata": {},
   "outputs": [],
   "source": []
  }
 ],
 "metadata": {
  "jupytext": {
   "formats": "ipynb,md:myst,py:percent"
  },
  "kernelspec": {
   "display_name": "Python 3",
   "language": "python",
   "name": "python3"
  }
 },
 "nbformat": 4,
 "nbformat_minor": 4
}
