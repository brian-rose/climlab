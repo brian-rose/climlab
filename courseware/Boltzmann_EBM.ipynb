{
 "cells": [
  {
   "cell_type": "markdown",
   "metadata": {},
   "source": [
    "# Boltzmann Outgoing Longwave Radiation"
   ]
  },
  {
   "cell_type": "markdown",
   "metadata": {},
   "source": [
    "In this document an Energy Balance Model (EBM) is set up with the Outgoing Longwave Radiation (OLR) parametrized through the Stefan Boltzmann radiation of a grey body."
   ]
  },
  {
   "cell_type": "markdown",
   "metadata": {},
   "source": [
    "$$ OLR(\\varphi) = \\sigma \\cdot \\varepsilon \\cdot T_s(\\varphi)^4$$"
   ]
  },
  {
   "cell_type": "code",
   "execution_count": null,
   "metadata": {},
   "outputs": [],
   "source": [
    "from __future__ import division, print_function\n",
    "import numpy as np\n",
    "import matplotlib.pyplot as plt\n",
    "import climlab\n",
    "from climlab import constants as const"
   ]
  },
  {
   "cell_type": "markdown",
   "metadata": {},
   "source": [
    "### Model Creation"
   ]
  },
  {
   "cell_type": "markdown",
   "metadata": {},
   "source": [
    "An EBM model instance is created through"
   ]
  },
  {
   "cell_type": "code",
   "execution_count": null,
   "metadata": {},
   "outputs": [],
   "source": [
    "# model creation\n",
    "ebm_boltz = climlab.EBM(D=0.8, Tf=-2)"
   ]
  },
  {
   "cell_type": "markdown",
   "metadata": {},
   "source": [
    "The model is set up by default with a linearized OLR parametrization (A+BT)."
   ]
  },
  {
   "cell_type": "code",
   "execution_count": null,
   "metadata": {},
   "outputs": [],
   "source": [
    "# print model states and suprocesses\n",
    "print(ebm_boltz)"
   ]
  },
  {
   "cell_type": "markdown",
   "metadata": {},
   "source": [
    "### Create new subprocess"
   ]
  },
  {
   "cell_type": "markdown",
   "metadata": {},
   "source": [
    "The creation of a subprocess needs some information from the model, especially on which model state the subprocess should be defined on."
   ]
  },
  {
   "cell_type": "code",
   "execution_count": null,
   "metadata": {},
   "outputs": [],
   "source": [
    "# create Boltzmann subprocess\n",
    "LW_boltz = climlab.radiation.Boltzmann(eps=0.65, tau=0.95,\n",
    "                                       state=ebm_boltz.state,\n",
    "                                       **ebm_boltz.param)"
   ]
  },
  {
   "cell_type": "markdown",
   "metadata": {},
   "source": [
    "Note that the model's **whole state dictionary** is given as **input** to the subprocess. In case only the temperature field ``ebm_boltz.state['Ts']`` would be given, a new state dictionary would be created which holds the surface temperature with the key ``'default'``. That raises an error as the Boltzmann process refers the temperature with key ``'Ts'``."
   ]
  },
  {
   "cell_type": "markdown",
   "metadata": {},
   "source": [
    "Now the new OLR subprocess has to be merged into the model. Therefore, the `AplusBT` subprocess has to be removed first."
   ]
  },
  {
   "cell_type": "code",
   "execution_count": null,
   "metadata": {},
   "outputs": [],
   "source": [
    "# remove the old longwave subprocess\n",
    "ebm_boltz.remove_subprocess('LW')\n",
    "\n",
    "# add the new longwave subprocess\n",
    "ebm_boltz.add_subprocess('LW',LW_boltz)"
   ]
  },
  {
   "cell_type": "markdown",
   "metadata": {},
   "source": [
    "Note that the new OLR subprocess has to have the **same key `'LW'`** as the old one, as the model refers to this key for radiation balance computation.\n",
    "\n",
    "That is why the old process has to be removed before the new one is added."
   ]
  },
  {
   "cell_type": "code",
   "execution_count": null,
   "metadata": {},
   "outputs": [],
   "source": [
    "print(ebm_boltz)"
   ]
  },
  {
   "cell_type": "markdown",
   "metadata": {},
   "source": [
    "### Model integration & Plotting"
   ]
  },
  {
   "cell_type": "markdown",
   "metadata": {},
   "source": [
    "To visualize the model state at beginning of integration we first integrate the model only for one timestep:"
   ]
  },
  {
   "cell_type": "code",
   "execution_count": null,
   "metadata": {},
   "outputs": [],
   "source": [
    "# integrate model for a single timestep\n",
    "ebm_boltz.step_forward()"
   ]
  },
  {
   "cell_type": "markdown",
   "metadata": {},
   "source": [
    "The following code plots the current surface temperature, albedo and energy budget:"
   ]
  },
  {
   "cell_type": "code",
   "execution_count": null,
   "metadata": {},
   "outputs": [],
   "source": [
    "# creating plot figure\n",
    "fig = plt.figure(figsize=(15,10))\n",
    "\n",
    "# Temperature plot\n",
    "ax1 = fig.add_subplot(221)\n",
    "ax1.plot(ebm_boltz.lat,ebm_boltz.Ts)\n",
    "\n",
    "ax1.set_xticks([-90,-60,-30,0,30,60,90])\n",
    "ax1.set_xlim([-90,90])\n",
    "ax1.set_title('Surface Temperature', fontsize=14)\n",
    "ax1.set_ylabel('(degC)', fontsize=12)\n",
    "ax1.grid()\n",
    "\n",
    "# Albedo plot\n",
    "ax2 = fig.add_subplot(223, sharex = ax1)\n",
    "ax2.plot(ebm_boltz.lat,ebm_boltz.albedo)\n",
    "\n",
    "ax2.set_title('Albedo', fontsize=14)\n",
    "ax2.set_xlabel('latitude', fontsize=10)\n",
    "ax2.set_ylim([0,1])\n",
    "ax2.grid()\n",
    "\n",
    "# Net Radiation plot\n",
    "ax3 = fig.add_subplot(222, sharex = ax1)\n",
    "ax3.plot(ebm_boltz.lat, ebm_boltz.OLR, label='OLR', \n",
    "                                       color='cyan')\n",
    "ax3.plot(ebm_boltz.lat, ebm_boltz.ASR, label='ASR', \n",
    "                                       color='magenta')\n",
    "ax3.plot(ebm_boltz.lat, ebm_boltz.ASR-ebm_boltz.OLR,\n",
    "                                       label='net radiation',\n",
    "                                       color='red')\n",
    "\n",
    "ax3.set_title('Net Radiation', fontsize=14)\n",
    "ax3.set_ylabel('(W/m$^2$)', fontsize=12)\n",
    "ax3.legend(loc='best')\n",
    "ax3.grid()\n",
    "\n",
    "\n",
    "# Energy Balance plot\n",
    "net_rad = np.squeeze(ebm_boltz.net_radiation)\n",
    "transport = ebm_boltz.heat_transport_convergence\n",
    "\n",
    "ax4 = fig.add_subplot(224, sharex = ax1)\n",
    "ax4.plot(ebm_boltz.lat, net_rad, label='net radiation', \n",
    "                                 color='red')\n",
    "ax4.plot(ebm_boltz.lat, transport, label='diffusion transport',\n",
    "                                   color='blue')\n",
    "ax4.plot(ebm_boltz.lat, net_rad+transport, label='balance',\n",
    "                                           color='black')\n",
    "\n",
    "ax4.set_title('Energy', fontsize=14)\n",
    "ax4.set_xlabel('latitude', fontsize=10)\n",
    "ax4.set_ylabel('(W/m$^2$)', fontsize=12)\n",
    "ax4.legend(loc='best')\n",
    "ax4.grid()\n",
    "\n",
    "plt.show()"
   ]
  },
  {
   "cell_type": "markdown",
   "metadata": {},
   "source": [
    "The two right sided plots show that the model is not in equilibrium. The net radiation reveals that the model currently gains heat and therefore warms up at the poles and loses heat at the equator. From the Energy plot we can see that latitudinal energy balance is not met."
   ]
  },
  {
   "cell_type": "markdown",
   "metadata": {},
   "source": [
    "Now we integrate the model as long there are no more changes in the surface temperature and the model reached equilibrium:"
   ]
  },
  {
   "cell_type": "code",
   "execution_count": null,
   "metadata": {},
   "outputs": [],
   "source": [
    "# integrate model until solution converges\n",
    "ebm_boltz.integrate_converge()"
   ]
  },
  {
   "cell_type": "markdown",
   "metadata": {},
   "source": [
    "We run the same code as above to plot the results:"
   ]
  },
  {
   "cell_type": "code",
   "execution_count": null,
   "metadata": {},
   "outputs": [],
   "source": [
    "# creating plot figure\n",
    "fig = plt.figure(figsize=(15,10))\n",
    "\n",
    "# Temperature plot\n",
    "ax1 = fig.add_subplot(221)\n",
    "ax1.plot(ebm_boltz.lat,ebm_boltz.Ts)\n",
    "\n",
    "ax1.set_xticks([-90,-60,-30,0,30,60,90])\n",
    "ax1.set_xlim([-90,90])\n",
    "ax1.set_title('Surface Temperature', fontsize=14)\n",
    "ax1.set_ylabel('(degC)', fontsize=12)\n",
    "ax1.grid()\n",
    "\n",
    "# Albedo plot\n",
    "ax2 = fig.add_subplot(223, sharex = ax1)\n",
    "ax2.plot(ebm_boltz.lat,ebm_boltz.albedo)\n",
    "\n",
    "ax2.set_title('Albedo', fontsize=14)\n",
    "ax2.set_xlabel('latitude', fontsize=10)\n",
    "ax2.set_ylim([0,1])\n",
    "ax2.grid()\n",
    "\n",
    "# Net Radiation plot\n",
    "ax3 = fig.add_subplot(222, sharex = ax1)\n",
    "ax3.plot(ebm_boltz.lat, ebm_boltz.OLR, label='OLR', \n",
    "                                       color='cyan')\n",
    "ax3.plot(ebm_boltz.lat, ebm_boltz.ASR, label='ASR', \n",
    "                                       color='magenta')\n",
    "ax3.plot(ebm_boltz.lat, ebm_boltz.ASR-ebm_boltz.OLR,\n",
    "                                       label='net radiation',\n",
    "                                       color='red')\n",
    "\n",
    "ax3.set_title('Net Radiation', fontsize=14)\n",
    "ax3.set_ylabel('(W/m$^2$)', fontsize=12)\n",
    "ax3.legend(loc='best')\n",
    "ax3.grid()\n",
    "\n",
    "\n",
    "# Energy Balance plot\n",
    "net_rad = np.squeeze(ebm_boltz.net_radiation)\n",
    "transport = ebm_boltz.heat_transport_convergence\n",
    "\n",
    "ax4 = fig.add_subplot(224, sharex = ax1)\n",
    "ax4.plot(ebm_boltz.lat, net_rad, label='net radiation', \n",
    "                                 color='red')\n",
    "ax4.plot(ebm_boltz.lat, transport, label='diffusion transport',\n",
    "                                   color='blue')\n",
    "ax4.plot(ebm_boltz.lat, net_rad+transport, label='balance',\n",
    "                                           color='black')\n",
    "\n",
    "ax4.set_title('Energy', fontsize=14)\n",
    "ax4.set_xlabel('latitude', fontsize=10)\n",
    "ax4.set_ylabel('(W/m$^2$)', fontsize=12)\n",
    "ax4.legend(loc='best')\n",
    "ax4.grid()\n",
    "\n",
    "plt.show()"
   ]
  },
  {
   "cell_type": "markdown",
   "metadata": {},
   "source": [
    "Now we can see that the latitudinal energy balance is statisfied. Each latitude gains as much heat (net radiation) as is transported out of it (diffusion transport). There is a net radiation surplus in the equator region, so more shortwave radiation is absorbed there than is emitted through longwave radiation. At the poles there is a net radiation deficit. That imbalance is compensated by the diffusive energy transport term."
   ]
  },
  {
   "cell_type": "markdown",
   "metadata": {},
   "source": [
    "### Global mean temperature\n",
    "We use climlab to compute the global mean temperature and print the ice edge latitude:"
   ]
  },
  {
   "cell_type": "code",
   "execution_count": null,
   "metadata": {},
   "outputs": [],
   "source": [
    "print('The global mean temperature is %.2f deg C.' %climlab.global_mean(ebm_boltz.Ts))\n",
    "print('The modeled ice edge is at %.2f deg latitude.' %np.max(ebm_boltz.icelat))"
   ]
  },
  {
   "cell_type": "code",
   "execution_count": null,
   "metadata": {},
   "outputs": [],
   "source": []
  }
 ],
 "metadata": {
  "jupytext": {
   "formats": "ipynb,md:myst,py:percent",
   "notebook_metadata_filter": "all,-language_info,-toc,-latex_envs"
  },
  "kernelspec": {
   "display_name": "Python 3",
   "language": "python",
   "name": "python3"
  }
 },
 "nbformat": 4,
 "nbformat_minor": 4
}
