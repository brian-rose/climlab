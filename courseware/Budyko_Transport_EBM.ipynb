{
 "cells": [
  {
   "cell_type": "markdown",
   "metadata": {},
   "source": [
    "# Budyko Transport for Energy Balance Models"
   ]
  },
  {
   "cell_type": "markdown",
   "metadata": {},
   "source": [
    "In this document an Energy Balance Model (EBM) is set up with the energy tranport parametrized through the the **budyko type parametrization** term (instead of the default diffusion term), which characterizes the local energy flux through the difference between local temperature and global mean temperature."
   ]
  },
  {
   "cell_type": "markdown",
   "metadata": {},
   "source": [
    "$$H(\\varphi) = - b [T(\\varphi) - \\bar{T}]$$"
   ]
  },
  {
   "cell_type": "markdown",
   "metadata": {},
   "source": [
    "where $T(\\varphi)$ is the surface temperature across the latitude $\\varphi$, $\\bar{T}$ the global mean temperature and $H(\\varphi)$ is the transport of energy in an Energy Budget noted as:"
   ]
  },
  {
   "cell_type": "markdown",
   "metadata": {},
   "source": [
    "$$C(\\varphi) \\frac{dT(\\varphi)}{dt} = R\\downarrow (\\varphi) - R\\uparrow (\\varphi) + H(\\varphi)$$"
   ]
  },
  {
   "cell_type": "code",
   "execution_count": null,
   "metadata": {},
   "outputs": [],
   "source": [
    "from __future__ import division, print_function\n",
    "%matplotlib inline\n",
    "import numpy as np\n",
    "import matplotlib.pyplot as plt\n",
    "import climlab\n",
    "from climlab import constants as const"
   ]
  },
  {
   "cell_type": "markdown",
   "metadata": {},
   "source": [
    "### Model Creation"
   ]
  },
  {
   "cell_type": "markdown",
   "metadata": {},
   "source": [
    "An EBM model instance is created through"
   ]
  },
  {
   "cell_type": "code",
   "execution_count": null,
   "metadata": {},
   "outputs": [],
   "source": [
    "# model creation\n",
    "ebm_budyko = climlab.EBM()"
   ]
  },
  {
   "cell_type": "markdown",
   "metadata": {},
   "source": [
    "The model is set up by default with a meridional diffusion term."
   ]
  },
  {
   "cell_type": "code",
   "execution_count": null,
   "metadata": {},
   "outputs": [],
   "source": [
    "# print model states and suprocesses\n",
    "print(ebm_budyko)"
   ]
  },
  {
   "cell_type": "markdown",
   "metadata": {},
   "source": [
    "### Create new subprocess"
   ]
  },
  {
   "cell_type": "markdown",
   "metadata": {},
   "source": [
    "The creation of a subprocess needs some information from the model, especially on which model state the subprocess should be defined on."
   ]
  },
  {
   "cell_type": "code",
   "execution_count": null,
   "metadata": {},
   "outputs": [],
   "source": [
    "# create Budyko subprocess\n",
    "budyko_transp = climlab.dynamics.BudykoTransport(b=3.81,\n",
    "                                                 state=ebm_budyko.state,\n",
    "                                                 **ebm_budyko.param)"
   ]
  },
  {
   "cell_type": "markdown",
   "metadata": {},
   "source": [
    "Note that the model's **whole state dictionary** is given as **input** to the subprocess. In case only the temperature field ``ebm_budyko.state['Ts']`` is given, a new state dictionary would be created which holds the surface temperature with the key ``'default'``. That raises an error as the budyko transport process refers the temperature with key ``'Ts'``."
   ]
  },
  {
   "cell_type": "markdown",
   "metadata": {},
   "source": [
    "Now the new transport subprocess has to be merged into the model. The `diffusion` subprocess has to be removed."
   ]
  },
  {
   "cell_type": "code",
   "execution_count": null,
   "metadata": {},
   "outputs": [],
   "source": [
    "# add the new transport subprocess\n",
    "ebm_budyko.add_subprocess('budyko_transport',budyko_transp)\n",
    "\n",
    "# remove the old diffusion subprocess\n",
    "ebm_budyko.remove_subprocess('diffusion')"
   ]
  },
  {
   "cell_type": "code",
   "execution_count": null,
   "metadata": {},
   "outputs": [],
   "source": [
    "print(ebm_budyko)"
   ]
  },
  {
   "cell_type": "markdown",
   "metadata": {},
   "source": [
    "### Model integration & Plotting"
   ]
  },
  {
   "cell_type": "markdown",
   "metadata": {},
   "source": [
    "To visualize the model state at beginning of integration we first integrate the model only for one timestep:"
   ]
  },
  {
   "cell_type": "code",
   "execution_count": null,
   "metadata": {},
   "outputs": [],
   "source": [
    "# integrate model for a single timestep\n",
    "ebm_budyko.step_forward()"
   ]
  },
  {
   "cell_type": "markdown",
   "metadata": {},
   "source": [
    "The following code plots the current surface temperature, albedo and energy budget:"
   ]
  },
  {
   "cell_type": "code",
   "execution_count": null,
   "metadata": {},
   "outputs": [],
   "source": [
    "# creating plot figure\n",
    "fig = plt.figure(figsize=(15,10))\n",
    "\n",
    "# Temperature plot\n",
    "ax1 = fig.add_subplot(221)\n",
    "ax1.plot(ebm_budyko.lat,ebm_budyko.Ts)\n",
    "\n",
    "ax1.set_xticks([-90,-60,-30,0,30,60,90])\n",
    "ax1.set_xlim([-90,90])\n",
    "ax1.set_title('Surface Temperature', fontsize=14)\n",
    "ax1.set_ylabel('(degC)', fontsize=12)\n",
    "ax1.grid()\n",
    "\n",
    "\n",
    "# Albedo plot\n",
    "ax2 = fig.add_subplot(223, sharex = ax1)\n",
    "ax2.plot(ebm_budyko.lat,ebm_budyko.albedo)\n",
    "\n",
    "ax2.set_title('Albedo', fontsize=14)\n",
    "ax2.set_xlabel('latitude', fontsize=10)\n",
    "ax2.set_ylim([0,1])\n",
    "ax2.grid()\n",
    "\n",
    "# Net Radiation plot\n",
    "ax3 = fig.add_subplot(222, sharex = ax1)\n",
    "ax3.plot(ebm_budyko.lat, ebm_budyko.OLR, label='OLR',\n",
    "                                         color='cyan')\n",
    "ax3.plot(ebm_budyko.lat, ebm_budyko.ASR, label='ASR',\n",
    "                                         color='magenta')\n",
    "ax3.plot(ebm_budyko.lat, ebm_budyko.ASR-ebm_budyko.OLR, \n",
    "                                         label='net radiation',\n",
    "                                         color='red')\n",
    "\n",
    "ax3.set_title('Net Radiation', fontsize=14)\n",
    "ax3.set_ylabel('(W/m$^2$)', fontsize=12)\n",
    "ax3.legend(loc='best')\n",
    "ax3.grid()\n",
    "\n",
    "\n",
    "# Energy Balance plot\n",
    "net_rad = ebm_budyko.net_radiation\n",
    "transport = ebm_budyko.subprocess['budyko_transport'].heating_rate['Ts']\n",
    "\n",
    "ax4 = fig.add_subplot(224, sharex = ax1)\n",
    "ax4.plot(ebm_budyko.lat, net_rad, label='net radiation', \n",
    "                                             color='red')\n",
    "ax4.plot(ebm_budyko.lat, transport, label='heat transport', \n",
    "                                             color='blue')\n",
    "ax4.plot(ebm_budyko.lat, net_rad+transport, label='balance',\n",
    "                                             color='black')\n",
    "\n",
    "ax4.set_title('Energy', fontsize=14)\n",
    "ax4.set_xlabel('latitude', fontsize=10)\n",
    "ax4.set_ylabel('(W/m$^2$)', fontsize=12)\n",
    "ax4.legend(loc='best')\n",
    "ax4.grid()\n",
    "\n",
    "\n",
    "plt.show()"
   ]
  },
  {
   "cell_type": "markdown",
   "metadata": {},
   "source": [
    "The two right sided plots show that the model is not in equilibrium. The net radiation reveals that the model currently gains heat and therefore warms up at the poles and loses heat at the equator. From the Energy plot we can see that latitudinal energy balance is not met."
   ]
  },
  {
   "cell_type": "markdown",
   "metadata": {},
   "source": [
    "Now we integrate the model as long there are no more changes in the surface temperature and the model reached equilibrium:"
   ]
  },
  {
   "cell_type": "code",
   "execution_count": null,
   "metadata": {},
   "outputs": [],
   "source": [
    "# integrate model until solution converges\n",
    "ebm_budyko.integrate_converge()"
   ]
  },
  {
   "cell_type": "code",
   "execution_count": null,
   "metadata": {},
   "outputs": [],
   "source": [
    "# creating plot figure\n",
    "fig = plt.figure(figsize=(15,10))\n",
    "\n",
    "# Temperature plot\n",
    "ax1 = fig.add_subplot(221)\n",
    "ax1.plot(ebm_budyko.lat,ebm_budyko.Ts)\n",
    "\n",
    "ax1.set_xticks([-90,-60,-30,0,30,60,90])\n",
    "ax1.set_xlim([-90,90])\n",
    "ax1.set_title('Surface Temperature', fontsize=14)\n",
    "ax1.set_ylabel('(degC)', fontsize=12)\n",
    "ax1.grid()\n",
    "\n",
    "\n",
    "# Albedo plot\n",
    "ax2 = fig.add_subplot(223, sharex = ax1)\n",
    "ax2.plot(ebm_budyko.lat,ebm_budyko.albedo)\n",
    "\n",
    "ax2.set_title('Albedo', fontsize=14)\n",
    "ax2.set_xlabel('latitude', fontsize=10)\n",
    "ax2.set_ylim([0,1])\n",
    "ax2.grid()\n",
    "\n",
    "# Net Radiation plot\n",
    "ax3 = fig.add_subplot(222, sharex = ax1)\n",
    "ax3.plot(ebm_budyko.lat, ebm_budyko.OLR, label='OLR',\n",
    "                                         color='cyan')\n",
    "ax3.plot(ebm_budyko.lat, ebm_budyko.ASR, label='ASR',\n",
    "                                         color='magenta')\n",
    "ax3.plot(ebm_budyko.lat, ebm_budyko.ASR-ebm_budyko.OLR, \n",
    "                                         label='net radiation',\n",
    "                                         color='red')\n",
    "\n",
    "ax3.set_title('Net Radiation', fontsize=14)\n",
    "ax3.set_ylabel('(W/m$^2$)', fontsize=12)\n",
    "ax3.legend(loc='best')\n",
    "ax3.grid()\n",
    "\n",
    "\n",
    "# Energy Balance plot\n",
    "net_rad = ebm_budyko.net_radiation\n",
    "transport = ebm_budyko.subprocess['budyko_transport'].heating_rate['Ts']\n",
    "\n",
    "ax4 = fig.add_subplot(224, sharex = ax1)\n",
    "ax4.plot(ebm_budyko.lat, net_rad, label='net radiation', \n",
    "                                             color='red')\n",
    "ax4.plot(ebm_budyko.lat, transport, label='heat transport', \n",
    "                                             color='blue')\n",
    "ax4.plot(ebm_budyko.lat, net_rad+transport, label='balance',\n",
    "                                             color='black')\n",
    "\n",
    "ax4.set_title('Energy', fontsize=14)\n",
    "ax4.set_xlabel('latitude', fontsize=10)\n",
    "ax4.set_ylabel('(W/m$^2$)', fontsize=12)\n",
    "ax4.legend(loc='best')\n",
    "ax4.grid()\n",
    "\n",
    "\n",
    "plt.show()"
   ]
  },
  {
   "cell_type": "markdown",
   "metadata": {},
   "source": [
    "Now we can see that the latitudinal energy balance is statisfied. Each latitude gains as much heat (net radiation) as is transported out of it (diffusion transport). There is a net radiation surplus in the equator region, so more shortwave radiation is absorbed there than is emitted through longwave radiation. At the poles there is a net radiation deficit. That imbalance is compensated by the diffusive energy transport term."
   ]
  },
  {
   "cell_type": "markdown",
   "metadata": {},
   "source": [
    "### Global mean temperature\n",
    "We use climlab to compute the global mean temperature and print the ice edge latitude:"
   ]
  },
  {
   "cell_type": "code",
   "execution_count": null,
   "metadata": {},
   "outputs": [],
   "source": [
    "print('The global mean temperature is %.2f deg C.' %climlab.global_mean(ebm_budyko.Ts))\n",
    "print('The modeled ice edge is at %.2f deg latitude.' %np.max(ebm_budyko.icelat))"
   ]
  },
  {
   "cell_type": "markdown",
   "metadata": {},
   "source": [
    "The temperature is a bit too cold for current climate as model parameters are not tuned. Sensitive parameters are ``a0, a2, ai`` and ``Tf`` (albedo), ``A`` and ``B`` (OLR), ``b`` (transport) and ``num_lat`` (grid resolution)."
   ]
  },
  {
   "cell_type": "code",
   "execution_count": null,
   "metadata": {},
   "outputs": [],
   "source": []
  }
 ],
 "metadata": {
  "jupytext": {
   "formats": "ipynb,md:myst,py:percent"
  },
  "kernelspec": {
   "display_name": "Python 3",
   "language": "python",
   "name": "python3"
  }
 },
 "nbformat": 4,
 "nbformat_minor": 4
}
