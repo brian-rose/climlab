{
 "cells": [
  {
   "cell_type": "markdown",
   "metadata": {},
   "source": [
    "# Distribution of insolation"
   ]
  },
  {
   "cell_type": "markdown",
   "metadata": {},
   "source": [
    "**Note this should be updated to take advantage of the new xarray capabilities of the `daily_insolation` code.**"
   ]
  },
  {
   "cell_type": "markdown",
   "metadata": {},
   "source": [
    "Here are some examples calculating daily average insolation at different locations and times.\n",
    "\n",
    "These all use a function called `daily_insolation` in the module `insolation.py` to do the calculation. The code calculates daily average insolation anywhere on Earth at any time of year for a given set of orbital parameters.\n",
    "\n",
    "To look at past orbital variations and their effects on insolation, we use the module `orbital.py` which accesses tables of values for the past 5 million years. We can easily lookup parameters for any point in the past and pass these to `daily_insolation`."
   ]
  },
  {
   "cell_type": "code",
   "execution_count": null,
   "metadata": {},
   "outputs": [],
   "source": [
    "from __future__ import division, print_function\n",
    "%matplotlib inline\n",
    "import numpy as np\n",
    "import matplotlib.pyplot as plt\n",
    "from climlab import constants as const\n",
    "from climlab.solar.insolation import daily_insolation"
   ]
  },
  {
   "cell_type": "markdown",
   "metadata": {},
   "source": [
    "## Present-day orbital parameters"
   ]
  },
  {
   "cell_type": "markdown",
   "metadata": {},
   "source": [
    "Calculate an array of insolation over the year and all latitudes (for present-day orbital parameters)."
   ]
  },
  {
   "cell_type": "code",
   "execution_count": null,
   "metadata": {},
   "outputs": [],
   "source": [
    "lat = np.linspace( -90., 90., 500)\n",
    "days = np.linspace(0, const.days_per_year, 365)\n",
    "Q = daily_insolation( lat, days )"
   ]
  },
  {
   "cell_type": "markdown",
   "metadata": {},
   "source": [
    "And make a contour plot of Q as function of latitude and time of year."
   ]
  },
  {
   "cell_type": "code",
   "execution_count": null,
   "metadata": {},
   "outputs": [],
   "source": [
    "ax = plt.figure( figsize=(10,8) ).add_subplot(111)\n",
    "CS = ax.contour( days, lat, Q , levels = np.arange(0., 600., 50.) )\n",
    "ax.clabel(CS, CS.levels, inline=True, fmt='%r', fontsize=10)\n",
    "ax.set_xlabel('Days since January 1', fontsize=16 )\n",
    "ax.set_ylabel('Latitude', fontsize=16 )\n",
    "ax.set_title('Daily average insolation', fontsize=24 )\n",
    "ax.contourf ( days, lat, Q, levels=[-500., 0.] )\n",
    "plt.show()"
   ]
  },
  {
   "cell_type": "markdown",
   "metadata": {},
   "source": [
    "Take the area-weighted global, annual average of Q..."
   ]
  },
  {
   "cell_type": "code",
   "execution_count": null,
   "metadata": {},
   "outputs": [],
   "source": [
    "print(np.sum( np.mean( Q, axis=1 ) * np.cos( np.deg2rad(lat) ) ) / np.sum( np.cos( np.deg2rad( lat ) ) ))"
   ]
  },
  {
   "cell_type": "markdown",
   "metadata": {},
   "source": [
    "Also plot the zonally averaged insolation at a few different times of the year:"
   ]
  },
  {
   "cell_type": "code",
   "execution_count": null,
   "metadata": {},
   "outputs": [],
   "source": [
    "summer_solstice = 170\n",
    "winter_solstice = 353\n",
    "ax = plt.figure( figsize=(10,8) ).add_subplot(111)\n",
    "ax.plot( lat, Q[:,(summer_solstice, winter_solstice)] );\n",
    "ax.plot( lat, np.mean(Q, axis=1), linewidth=2 )\n",
    "ax.set_xbound(-90, 90)\n",
    "ax.set_xticks( range(-90,100,30) )\n",
    "ax.set_xlabel('Latitude', fontsize=16 );\n",
    "ax.set_ylabel('Insolation (W m$^{-2}$)', fontsize=16 );\n",
    "ax.grid()\n",
    "plt.show()"
   ]
  },
  {
   "cell_type": "markdown",
   "metadata": {},
   "source": [
    "## Past orbital parameters"
   ]
  },
  {
   "cell_type": "markdown",
   "metadata": {},
   "source": [
    "The `orbital.py` code allows us to look up the orbital parameters for Earth over the last 5 million years."
   ]
  },
  {
   "cell_type": "markdown",
   "metadata": {},
   "source": [
    "Make reference plots of the variation in the three orbital parameter over the last 1 million years"
   ]
  },
  {
   "cell_type": "code",
   "execution_count": null,
   "metadata": {},
   "outputs": [],
   "source": [
    "from climlab.solar.orbital import OrbitalTable\n",
    "\n",
    "kyears = np.arange( -1000., 1.)\n",
    "#table = OrbitalTable()\n",
    "orb = OrbitalTable.interp(kyear=kyears )\n",
    "orb"
   ]
  },
  {
   "cell_type": "markdown",
   "metadata": {},
   "source": [
    "The `xarray` object `orb` now holds 1 million years worth of orbital data, total of 1001 data points for each element: eccentricity `ecc`, obliquity angle `obliquity`, and solar longitude of perihelion `long_peri`."
   ]
  },
  {
   "cell_type": "code",
   "execution_count": null,
   "metadata": {},
   "outputs": [],
   "source": [
    "fig = plt.figure( figsize = (10,10) )\n",
    "ax1 = fig.add_subplot(3,1,1)\n",
    "ax1.plot( kyears, orb['ecc'] )\n",
    "ax1.set_title('Eccentricity $e$', fontsize=18 )\n",
    "ax2 = fig.add_subplot(3,1,2)\n",
    "ax2.plot( kyears, orb['ecc'] * np.sin( np.deg2rad( orb['long_peri'] ) ) )\n",
    "ax2.set_title('Precessional parameter $e \\sin(\\Lambda)$', fontsize=18 )\n",
    "ax3 = fig.add_subplot(3,1,3)\n",
    "ax3.plot( kyears, orb['obliquity'] )\n",
    "ax3.set_title('Obliquity (axial tilt) $\\Phi$', fontsize=18 )\n",
    "ax3.set_xlabel( 'Thousands of years before present', fontsize=14 )\n",
    "plt.show()"
   ]
  },
  {
   "cell_type": "markdown",
   "metadata": {},
   "source": [
    "### Annual mean insolation"
   ]
  },
  {
   "cell_type": "markdown",
   "metadata": {},
   "source": [
    "Create a large array of insolation over the whole globe, whole year, and for every set of orbital parameters."
   ]
  },
  {
   "cell_type": "code",
   "execution_count": null,
   "metadata": {},
   "outputs": [],
   "source": [
    "lat = np.linspace(-90, 90, 181)\n",
    "days = np.linspace(1.,50.)/50 * const.days_per_year\n",
    "Q = daily_insolation(lat, days, orb)\n",
    "print(Q.shape)"
   ]
  },
  {
   "cell_type": "code",
   "execution_count": null,
   "metadata": {},
   "outputs": [],
   "source": [
    "Qann = np.mean(Q, axis=1)  # time average over the year\n",
    "print(Qann.shape)\n",
    "Qglobal = np.empty_like( kyears )\n",
    "for n in range( kyears.size ):   # global area-weighted average\n",
    "    Qglobal[n] = np.sum( Qann[:,n] * np.cos( np.deg2rad(lat) ) ) / np.sum( np.cos( np.deg2rad(lat) ) )\n",
    "print(Qglobal.shape)"
   ]
  },
  {
   "cell_type": "markdown",
   "metadata": {},
   "source": [
    "We are going to create a figure showing past time variations in three quantities:\n",
    "\n",
    "1. Global, annual mean insolation\n",
    "2. Annual mean insolation at high northern latitudes\n",
    "3. Summer solstice insolation at high northern latitudes"
   ]
  },
  {
   "cell_type": "code",
   "execution_count": null,
   "metadata": {},
   "outputs": [],
   "source": [
    "fig = plt.figure( figsize = (10,14) )\n",
    "\n",
    "ax1 = fig.add_subplot(3,1,1)\n",
    "ax1.plot( kyears, Qglobal )\n",
    "ax1.set_title('Global, annual mean insolation', fontsize=18 )\n",
    "ax1.ticklabel_format( useOffset=False )\n",
    "\n",
    "ax2 = fig.add_subplot(3,1,2)\n",
    "ax2.plot( kyears, Qann[160,:] )\n",
    "ax2.set_title('Annual mean insolation at 70N', fontsize=18 )\n",
    "\n",
    "ax3 = fig.add_subplot(3,1,3)\n",
    "ax3.plot( kyears, Q[160,23,:] )\n",
    "ax3.set_title('Summer solstice insolation at 70N', fontsize=18 )\n",
    "\n",
    "plt.show()"
   ]
  },
  {
   "cell_type": "markdown",
   "metadata": {},
   "source": [
    "And comparing with the plots of orbital variations above, we see that\n",
    "\n",
    "1. Global annual mean insolation variations on with eccentricity (slow), and the variations are very small!\n",
    "2. Annual mean insolation varies with obliquity (medium). Annual mean insolation does NOT depend on precession!\n",
    "3. Summer solstice insolation at high northern latitudes is affected by both precession and obliquity. The variations are large."
   ]
  },
  {
   "cell_type": "markdown",
   "metadata": {},
   "source": [
    "### Insolation changes between the Last Glacial Maximum and the end of the last ice age"
   ]
  },
  {
   "cell_type": "markdown",
   "metadata": {},
   "source": [
    "Last Glacial Maximum or \"LGM\" occurred around 23,000 years before present, when the ice sheets were at their greatest extent. By 10,000 years ago, the ice sheets were mostly gone and the last ice age was over. Let's plot the changes in the seasonal distribution of insolation from 23 kyrs to 10 kyrs."
   ]
  },
  {
   "cell_type": "code",
   "execution_count": null,
   "metadata": {},
   "outputs": [],
   "source": [
    "orb_0 = OrbitalTable.interp(kyear=0)  # present-day orbital parameters\n",
    "orb_10 = OrbitalTable.interp(kyear=-10)  # orbital parameters for 10 kyrs before present\n",
    "orb_23 = OrbitalTable.interp(kyear=-23)   # 23 kyrs before present\n",
    "Q_0 = daily_insolation( lat, days, orb_0 )    \n",
    "Q_10 = daily_insolation( lat, days, orb_10 )   # insolation arrays for each of the three sets of orbital parameters\n",
    "Q_23 = daily_insolation( lat, days, orb_23 )"
   ]
  },
  {
   "cell_type": "code",
   "execution_count": null,
   "metadata": {},
   "outputs": [],
   "source": [
    "fig = plt.figure( figsize=(20,8) )\n",
    "\n",
    "ax1 = fig.add_subplot(1,2,1)\n",
    "Qdiff = Q_10 - Q_23\n",
    "CS1 = ax1.contour( days, lat, Qdiff, levels = np.arange(-100., 100., 10.) )\n",
    "ax1.clabel(CS1, CS1.levels, inline=True, fmt='%r', fontsize=10)\n",
    "ax1.contour( days, lat, Qdiff, levels = [0.], colors = 'k' )\n",
    "ax1.set_xlabel('Days since January 1', fontsize=16 )\n",
    "ax1.set_ylabel('Latitude', fontsize=16 )\n",
    "ax1.set_title('Insolation differences: 10 kyrs - 23 kyrs', fontsize=24 )\n",
    "\n",
    "ax2 = fig.add_subplot(1,2,2)\n",
    "ax2.plot( np.mean( Qdiff, axis=1 ), lat )\n",
    "ax2.set_xlabel('W m$^{-2}$', fontsize=16 )\n",
    "ax2.set_ylabel( 'Latitude', fontsize=16 )\n",
    "ax2.set_title(' Annual mean differences', fontsize=24 )\n",
    "ax2.set_ylim((-90,90))\n",
    "ax2.grid()\n",
    "\n",
    "plt.show()"
   ]
  },
  {
   "cell_type": "markdown",
   "metadata": {},
   "source": [
    "The annual mean plot shows a classic obliquity signal: at 10 kyrs, the axis close to its maximum tilt, around 24.2º. At 23 kyrs, the tilt was much weaker, only about 22.7º. In the annual mean, a stronger tilt means more sunlight to the poles and less to the equator. This is very helpful if you are trying to melt an ice sheet.\n",
    "\n",
    "Finally, take the area-weighted global average of the difference:"
   ]
  },
  {
   "cell_type": "code",
   "execution_count": null,
   "metadata": {},
   "outputs": [],
   "source": [
    "print(np.average(np.mean(Qdiff,axis=1), weights=np.cos(np.deg2rad(lat))))"
   ]
  },
  {
   "cell_type": "markdown",
   "metadata": {},
   "source": [
    "This confirms that the difference is tiny (and due to very small changes in the eccentricity). **Ice ages are driven by seasonal and latitudinal redistributions of solar energy**, NOT by changes in the total global amount of solar energy!"
   ]
  }
 ],
 "metadata": {
  "jupytext": {
   "encoding": "# -*- coding: utf-8 -*-",
   "formats": "ipynb,md:myst,py:percent"
  },
  "kernelspec": {
   "display_name": "Python 3",
   "language": "python",
   "name": "python3"
  }
 },
 "nbformat": 4,
 "nbformat_minor": 4
}
