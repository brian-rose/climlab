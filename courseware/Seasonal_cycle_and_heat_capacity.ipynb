{
 "cells": [
  {
   "cell_type": "markdown",
   "metadata": {},
   "source": [
    "# The seasonal cycle of surface temperature"
   ]
  },
  {
   "cell_type": "markdown",
   "metadata": {},
   "source": [
    "Look at the observed seasonal cycle in the NCEP reanalysis data.\n",
    "\n",
    "Read in the necessary data from the online server.\n",
    "\n",
    "The catalog is here: <http://www.esrl.noaa.gov/psd/thredds/dodsC/Datasets/ncep.reanalysis.derived/catalog.html>"
   ]
  },
  {
   "cell_type": "code",
   "execution_count": null,
   "metadata": {},
   "outputs": [],
   "source": [
    "from __future__ import division, print_function\n",
    "%matplotlib inline\n",
    "import numpy as np\n",
    "import matplotlib.pyplot as plt\n",
    "import netCDF4 as nc\n",
    "import climlab\n",
    "from climlab.solar.insolation import daily_insolation\n",
    "from climlab import constants as const\n",
    "\n",
    "datapath = \"http://ramadda.atmos.albany.edu:8080/repository/opendap/latest/Top/Users/BrianRose/CESM_runs/\"\n",
    "endstr = \"/entry.das\""
   ]
  },
  {
   "cell_type": "code",
   "execution_count": null,
   "metadata": {},
   "outputs": [],
   "source": [
    "ncep_url = \"http://www.esrl.noaa.gov/psd/thredds/dodsC/Datasets/ncep.reanalysis.derived/\"\n",
    "ncep_air = nc.Dataset( ncep_url + \"pressure/air.mon.1981-2010.ltm.nc\" )\n",
    "ncep_Ts = nc.Dataset( ncep_url + \"surface_gauss/skt.sfc.mon.1981-2010.ltm.nc\" )\n",
    "lat_ncep = ncep_Ts.variables['lat'][:]; lon_ncep = ncep_Ts.variables['lon'][:]\n",
    "Ts_ncep = ncep_Ts.variables['skt'][:]\n",
    "print(Ts_ncep.shape)"
   ]
  },
  {
   "cell_type": "markdown",
   "metadata": {},
   "source": [
    "Load the topography file from CESM, just so we can plot the continents."
   ]
  },
  {
   "cell_type": "code",
   "execution_count": null,
   "metadata": {},
   "outputs": [],
   "source": [
    "topo = nc.Dataset( datapath + 'som_input/USGS-gtopo30_1.9x2.5_remap_c050602.nc' + endstr )\n",
    "lat_cesm = topo.variables['lat'][:]\n",
    "lon_cesm = topo.variables['lon'][:]"
   ]
  },
  {
   "cell_type": "markdown",
   "metadata": {},
   "source": [
    "Make two maps: one of annual mean surface temperature, another of the seasonal range (max minus min)."
   ]
  },
  {
   "cell_type": "code",
   "execution_count": null,
   "metadata": {},
   "outputs": [],
   "source": [
    "maxTs = np.max(Ts_ncep,axis=0)\n",
    "minTs = np.min(Ts_ncep,axis=0)"
   ]
  },
  {
   "cell_type": "code",
   "execution_count": null,
   "metadata": {},
   "outputs": [],
   "source": [
    "fig = plt.figure( figsize=(16,6) )\n",
    "\n",
    "ax1 = fig.add_subplot(1,2,1)\n",
    "cax1 = ax1.pcolormesh( lon_ncep, lat_ncep, np.mean(Ts_ncep, axis=0), cmap=plt.cm.seismic )\n",
    "cbar1 = plt.colorbar(cax1)\n",
    "ax1.set_title('Annual mean surface temperature (degC)', fontsize=14 )\n",
    "\n",
    "ax2 = fig.add_subplot(1,2,2)\n",
    "cax2 = ax2.pcolormesh( lon_ncep, lat_ncep, maxTs - minTs )\n",
    "cbar2 = plt.colorbar(cax2)\n",
    "ax2.set_title('Seasonal temperature range (degC)', fontsize=14)\n",
    "\n",
    "for ax in [ax1,ax2]:\n",
    "    ax.contour( lon_cesm, lat_cesm, topo.variables['LANDFRAC'][:], levels=[0.5], colors='k');\n",
    "    ax.axis([0, 360, -90, 90])\n",
    "    ax.set_xlabel('Longitude', fontsize=14 ); ax.set_ylabel('Latitude', fontsize=14 )"
   ]
  },
  {
   "cell_type": "markdown",
   "metadata": {},
   "source": [
    "Make a contour plot of the zonal mean temperature as a function of time of year"
   ]
  },
  {
   "cell_type": "code",
   "execution_count": null,
   "metadata": {},
   "outputs": [],
   "source": [
    "[-65,-55,-45,-35,-25,-15,-5,5,15,25,35,45,55,65]"
   ]
  },
  {
   "cell_type": "code",
   "execution_count": null,
   "metadata": {},
   "outputs": [],
   "source": [
    "np.arange(-65,75,10)"
   ]
  },
  {
   "cell_type": "code",
   "execution_count": null,
   "metadata": {},
   "outputs": [],
   "source": [
    "Tmax = 65; Tmin = -Tmax; delT = 10\n",
    "clevels = np.arange(Tmin,Tmax+delT,delT)\n",
    "\n",
    "fig_zonobs = plt.figure( figsize=(10,6) )\n",
    "ax = fig_zonobs.add_subplot(111)\n",
    "cax = ax.contourf( np.arange(12)+0.5, lat_ncep, np.transpose(np.mean( Ts_ncep, axis=2 )), levels=clevels, \n",
    "               cmap=plt.cm.seismic, vmin=Tmin, vmax=Tmax )\n",
    "ax.set_xlabel('Month', fontsize=16)\n",
    "ax.set_ylabel('Latitude', fontsize=16 )\n",
    "cbar = plt.colorbar(cax)\n",
    "ax.set_title('Zonal mean surface temperature (degC)', fontsize=20)\n",
    "plt.show()"
   ]
  },
  {
   "cell_type": "markdown",
   "metadata": {},
   "source": [
    "## Exploring the amplitude of the seasonal cycle with an EBM"
   ]
  },
  {
   "cell_type": "markdown",
   "metadata": {},
   "source": [
    "We are looking at the 1D (zonally averaged) energy balance model with diffusive heat transport. The equation is"
   ]
  },
  {
   "cell_type": "markdown",
   "metadata": {},
   "source": [
    "$C \\frac{\\partial T(\\phi,t)}{\\partial t} = \\big(1-\\alpha\\big) Q(\\phi,t) - \\Big(A+B T(\\phi,t) \\Big) + \n",
    "\\frac{K}{\\cos\\phi} \\frac{\\partial}{\\partial \\phi} \\bigg( \\cos\\phi \\frac{\\partial T}{\\partial \\phi} \\bigg)$"
   ]
  },
  {
   "cell_type": "markdown",
   "metadata": {},
   "source": [
    "and the code in `climlab.EBM` solves this equation numerically."
   ]
  },
  {
   "cell_type": "markdown",
   "metadata": {},
   "source": [
    "One handy feature of `climlab` process code: the function `integrate_years()` automatically calculates the time averaged temperature. So if we run it for exactly one year, we get the annual mean temperature saved in the field `T_timeave`."
   ]
  },
  {
   "cell_type": "markdown",
   "metadata": {},
   "source": [
    "We will look at the seasonal cycle of temperature in three different models with different heat capacities (which we express through an equivalent depth of water in meters):"
   ]
  },
  {
   "cell_type": "code",
   "execution_count": null,
   "metadata": {},
   "outputs": [],
   "source": [
    "model1 = climlab.EBM_seasonal()\n",
    "model1.integrate_years(1, verbose=True)\n",
    "\n",
    "water_depths = np.array([2., 10., 50.])\n",
    "\n",
    "num_depths = water_depths.size\n",
    "Tann = np.empty( [model1.lat.size, num_depths] )\n",
    "models = []\n",
    "\n",
    "for n in range(num_depths):\n",
    "    models.append(climlab.EBM_seasonal(water_depth=water_depths[n]))\n",
    "    models[n].integrate_years(20., verbose=False )\n",
    "    models[n].integrate_years(1., verbose=False)\n",
    "    Tann[:,n] = np.squeeze(models[n].timeave['Ts'])"
   ]
  },
  {
   "cell_type": "markdown",
   "metadata": {},
   "source": [
    "All models should have the same annual mean temperature:"
   ]
  },
  {
   "cell_type": "code",
   "execution_count": null,
   "metadata": {},
   "outputs": [],
   "source": [
    "lat = model1.lat\n",
    "\n",
    "plt.plot(lat, Tann)\n",
    "plt.xlim(-90,90)\n",
    "plt.xlabel('Latitude')\n",
    "plt.ylabel('Temperature (degC)')\n",
    "plt.title('Annual mean temperature in the EBM')\n",
    "plt.legend( water_depths.astype(str) )\n",
    "plt.show()"
   ]
  },
  {
   "cell_type": "markdown",
   "metadata": {},
   "source": [
    "There is no automatic function in `climlab.EBM` to keep track of minimum and maximum temperatures (though we might add that in the future!)\n",
    "\n",
    "Instead we'll step through one year \"by hand\" and save all the temperatures."
   ]
  },
  {
   "cell_type": "code",
   "execution_count": null,
   "metadata": {},
   "outputs": [],
   "source": [
    "num_steps_per_year = int(model1.time['num_steps_per_year'])\n",
    "Tyear = np.empty((lat.size, num_steps_per_year, num_depths))\n",
    "for n in range(num_depths):\n",
    "    for m in range(num_steps_per_year):\n",
    "        models[n].step_forward()\n",
    "        Tyear[:,m,n] = np.squeeze(models[n].Ts)"
   ]
  },
  {
   "cell_type": "markdown",
   "metadata": {},
   "source": [
    "Make a figure to compare the observed zonal mean seasonal temperature cycle to what we get from the EBM with different heat capacities:"
   ]
  },
  {
   "cell_type": "code",
   "execution_count": null,
   "metadata": {},
   "outputs": [],
   "source": [
    "fig = plt.figure( figsize=(20,10) )\n",
    "\n",
    "ax = fig.add_subplot(2,num_depths,2)\n",
    "cax = ax.contourf( np.arange(12)+0.5, lat_ncep, np.transpose(np.mean( Ts_ncep, axis=2 )), levels=clevels, \n",
    "               cmap=plt.cm.seismic, vmin=Tmin, vmax=Tmax )\n",
    "ax.set_xlabel('Month')\n",
    "ax.set_ylabel('Latitude')\n",
    "cbar = plt.colorbar(cax)\n",
    "ax.set_title('Zonal mean surface temperature - observed (degC)', fontsize=20)\n",
    "\n",
    "for n in range(num_depths):\n",
    "    ax = fig.add_subplot(2,num_depths,num_depths+n+1)\n",
    "    cax = ax.contourf( 4*np.arange(num_steps_per_year), lat, Tyear[:,:,n], levels=clevels, \n",
    "               cmap=plt.cm.seismic, vmin=Tmin, vmax=Tmax )\n",
    "    cbar1 = plt.colorbar(cax)\n",
    "    ax.set_title('water_depth = ' + str(models[n].param['water_depth']) + ' meters', fontsize=20 )\n",
    "    ax.set_xlabel('Days of year', fontsize=14 )\n",
    "    ax.set_ylabel('Latitude', fontsize=14 )\n",
    "\n",
    "#fig.set_title('Temperature in seasonal EBM with various water depths', fontsize=14)\n",
    "plt.show()"
   ]
  },
  {
   "cell_type": "markdown",
   "metadata": {},
   "source": [
    "Which one looks more realistic? Depends a bit on where you look. But overall, the observed seasonal cycle matches the 10 meter case best. The effective heat capacity governing the seasonal cycle of the zonal mean temperature is closer to 10 meters of water than to either 2 or 50 meters."
   ]
  },
  {
   "cell_type": "markdown",
   "metadata": {},
   "source": [
    "### Making an animation of the EBM solutions"
   ]
  },
  {
   "cell_type": "code",
   "execution_count": null,
   "metadata": {},
   "outputs": [],
   "source": [
    "fpath = '/Users/Brian/Dropbox/PythonStuff/ebm_seasonal_frames/'\n",
    "\n",
    "fig = plt.figure( figsize=(20,5) )\n",
    "#for m in range(model2.time['num_steps_per_year']):\n",
    "for m in range(1):\n",
    "    thisday = m * models[0].param['timestep'] / const.seconds_per_day\n",
    "    Q = daily_insolation( lat, thisday )\n",
    "    for n in range(num_depths):\n",
    "        c1 = 'b'\n",
    "        ax = fig.add_subplot(1,num_depths,n+1)\n",
    "        ax.plot( lat, Tyear[:,m,n], c1 )\n",
    "        ax.set_title('water_depth = ' + str(models[n].param['water_depth']) + ' meters', fontsize=20 )\n",
    "        ax.set_xlabel('Latitude', fontsize=14 )\n",
    "        if n is 0:\n",
    "            ax.set_ylabel('Temperature', fontsize=14, color=c1 )\n",
    "        ax.set_xlim([-90,90])\n",
    "        ax.set_ylim([-60,60])\n",
    "        for tl in ax.get_yticklabels():\n",
    "            tl.set_color(c1)\n",
    "        ax.grid()\n",
    "        \n",
    "        c2 = 'r'\n",
    "        ax2 = ax.twinx()\n",
    "        ax2.plot( lat, Q, c2)\n",
    "        if n is 2:\n",
    "            ax2.set_ylabel('Insolation (W m$^{-2}$)', color=c2, fontsize=14)\n",
    "        for tl in ax2.get_yticklabels():\n",
    "            tl.set_color(c2)\n",
    "        ax2.set_xlim([-90,90])\n",
    "        ax2.set_ylim([0,600])\n",
    "    \n",
    "    filename = fpath + 'ebm_seasonal' + str(m).zfill(4) + '.png'\n",
    "    #fig.savefig(filename)\n",
    "    #fig.clear()\n",
    "    plt.show()"
   ]
  },
  {
   "cell_type": "markdown",
   "metadata": {},
   "source": [
    "## The seasonal cycle for a planet with 90º obliquity"
   ]
  },
  {
   "cell_type": "markdown",
   "metadata": {},
   "source": [
    "The EBM code uses our familiar `insolation.py` code to calculate insolation, and therefore it's easy to set up a model with different orbital parameters. Here is an example with **very** different orbital parameters: 90º obliquity. We looked at the distribution of insolation by latitude and season for this type of planet in the last homework."
   ]
  },
  {
   "cell_type": "code",
   "execution_count": null,
   "metadata": {},
   "outputs": [],
   "source": [
    "orb_highobl = {'ecc':0., 'obliquity':90., 'long_peri':0.}\n",
    "print(orb_highobl)\n",
    "model_highobl = climlab.EBM_seasonal(orb=orb_highobl)\n",
    "print(model_highobl.param['orb'])"
   ]
  },
  {
   "cell_type": "markdown",
   "metadata": {},
   "source": [
    "Repeat the same procedure to calculate and store temperature throughout one year, after letting the models run out to equilibrium."
   ]
  },
  {
   "cell_type": "code",
   "execution_count": null,
   "metadata": {},
   "outputs": [],
   "source": [
    "Tann_highobl = np.empty( [lat.size, num_depths] )\n",
    "models_highobl = []\n",
    "\n",
    "for n in range(num_depths):\n",
    "    models_highobl.append(climlab.EBM_seasonal(water_depth=water_depths[n], orb=orb_highobl))\n",
    "    models_highobl[n].integrate_years(40., verbose=False )\n",
    "    models_highobl[n].integrate_years(1.)\n",
    "    Tann_highobl[:,n] = np.squeeze(models_highobl[n].timeave['Ts'])\n",
    "\n",
    "Tyear_highobl = np.empty([lat.size, num_steps_per_year, num_depths])\n",
    "for n in range(num_depths):\n",
    "    for m in range(num_steps_per_year):\n",
    "        models_highobl[n].step_forward()\n",
    "        Tyear_highobl[:,m,n] = np.squeeze(models_highobl[n].Ts)"
   ]
  },
  {
   "cell_type": "markdown",
   "metadata": {},
   "source": [
    "And plot the seasonal temperature cycle same as we did above:"
   ]
  },
  {
   "cell_type": "code",
   "execution_count": null,
   "metadata": {},
   "outputs": [],
   "source": [
    "fig = plt.figure( figsize=(20,5) )\n",
    "Tmax_highobl = 125; Tmin_highobl = -Tmax_highobl; delT_highobl = 10\n",
    "clevels_highobl = np.arange(Tmin_highobl, Tmax_highobl+delT_highobl, delT_highobl)\n",
    "\n",
    "for n in range(num_depths):\n",
    "    ax = fig.add_subplot(1,num_depths,n+1)\n",
    "    cax = ax.contourf( 4*np.arange(num_steps_per_year), lat, Tyear_highobl[:,:,n], \n",
    "        levels=clevels_highobl, cmap=plt.cm.seismic, vmin=Tmin_highobl, vmax=Tmax_highobl )\n",
    "    cbar1 = plt.colorbar(cax)\n",
    "    ax.set_title('water_depth = ' + str(models_highobl[n].param['water_depth']) + ' meters', fontsize=20 )\n",
    "    ax.set_xlabel('Days of year', fontsize=14 )\n",
    "    ax.set_ylabel('Latitude', fontsize=14 )\n",
    "\n",
    "plt.show()"
   ]
  },
  {
   "cell_type": "markdown",
   "metadata": {},
   "source": [
    "Note that the temperature range is much larger than for the Earth-like case above (but same contour interval, 10 degC)."
   ]
  },
  {
   "cell_type": "markdown",
   "metadata": {},
   "source": [
    "Why is the temperature so uniform in the north-south direction with 50 meters of water?\n",
    "\n",
    "To see the reason, let's plot the annual mean insolation at 90º obliquity, alongside the present-day annual mean insolation:"
   ]
  },
  {
   "cell_type": "code",
   "execution_count": null,
   "metadata": {},
   "outputs": [],
   "source": [
    "lat2 = np.linspace(-90, 90, 181)\n",
    "days = np.linspace(1.,50.)/50 * const.days_per_year\n",
    "Q_present = daily_insolation( lat2, days )\n",
    "Q_highobl = daily_insolation( lat2, days, orb_highobl )\n",
    "Q_present_ann = np.mean( Q_present, axis=1 )\n",
    "Q_highobl_ann = np.mean( Q_highobl, axis=1 )"
   ]
  },
  {
   "cell_type": "code",
   "execution_count": null,
   "metadata": {},
   "outputs": [],
   "source": [
    "plt.plot( lat2, Q_present_ann, label='Earth' )\n",
    "plt.plot( lat2, Q_highobl_ann, label='90deg obliquity' )\n",
    "plt.grid()\n",
    "plt.legend(loc='lower center')\n",
    "plt.xlabel('Latitude', fontsize=14 )\n",
    "plt.ylabel('W m$^{-2}$', fontsize=14 )\n",
    "plt.title('Annual mean insolation for two different obliquities', fontsize=16)\n",
    "plt.show()"
   ]
  },
  {
   "cell_type": "markdown",
   "metadata": {},
   "source": [
    "Though this is a bit misleading, because our model prescribes an increase in albedo from the equator to the pole. So the absorbed shortwave gradients look even more different."
   ]
  },
  {
   "cell_type": "code",
   "execution_count": null,
   "metadata": {},
   "outputs": [],
   "source": []
  }
 ],
 "metadata": {
  "jupytext": {
   "encoding": "# -*- coding: utf-8 -*-",
   "formats": "ipynb,md:myst,py:percent"
  },
  "kernelspec": {
   "display_name": "Python 3",
   "language": "python",
   "name": "python3"
  }
 },
 "nbformat": 4,
 "nbformat_minor": 4
}
