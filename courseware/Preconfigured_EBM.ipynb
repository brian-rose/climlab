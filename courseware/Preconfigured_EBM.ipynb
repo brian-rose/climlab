{
 "cells": [
  {
   "cell_type": "markdown",
   "metadata": {},
   "source": [
    "# Preconfigured Energy Balance Models"
   ]
  },
  {
   "cell_type": "markdown",
   "metadata": {},
   "source": [
    "In this document the basic use of climlab's preconfigured EBM class is shown. \n",
    "\n",
    "Contents are how to\n",
    "\n",
    "  * setup an EBM model\n",
    "  * show and access subprocesses\n",
    "  * integrate the model\n",
    "  * access and plot various model variables\n",
    "  * calculate the global mean of the temperature"
   ]
  },
  {
   "cell_type": "code",
   "execution_count": null,
   "metadata": {},
   "outputs": [],
   "source": [
    "from __future__ import division, print_function\n",
    "%matplotlib inline\n",
    "import numpy as np\n",
    "import matplotlib.pyplot as plt\n",
    "import climlab\n",
    "from climlab import constants as const"
   ]
  },
  {
   "cell_type": "markdown",
   "metadata": {},
   "source": [
    "### Model Creation"
   ]
  },
  {
   "cell_type": "markdown",
   "metadata": {},
   "source": [
    "The regular path for the EBM class is ``climlab.model.ebm.EBM`` but it can also be accessed through ``climlab.EBM``\n",
    "\n",
    "An EBM model instance is created through"
   ]
  },
  {
   "cell_type": "code",
   "execution_count": null,
   "metadata": {},
   "outputs": [],
   "source": [
    "# model creation\n",
    "ebm_model = climlab.EBM()"
   ]
  },
  {
   "cell_type": "markdown",
   "metadata": {},
   "source": [
    "By default many parameters are set during initialization:\n",
    "\n",
    "``num_lat=90, S0=const.S0, A=210., B=2., D=0.55, water_depth=10., Tf=-10, a0=0.3, a2=0.078, ai=0.62, timestep=const.seconds_per_year/90., T0=12., T2=-40``\n",
    "\n",
    "For further details see the climlab documentation.\n",
    "\n",
    "Many of the input parameters are stored in the following dictionary:"
   ]
  },
  {
   "cell_type": "code",
   "execution_count": null,
   "metadata": {},
   "outputs": [],
   "source": [
    "# print model parameters\n",
    "ebm_model.param"
   ]
  },
  {
   "cell_type": "markdown",
   "metadata": {},
   "source": [
    "The model consists of one state variable (surface temperature) and a couple of defined subprocesses."
   ]
  },
  {
   "cell_type": "code",
   "execution_count": null,
   "metadata": {},
   "outputs": [],
   "source": [
    "# print model states and suprocesses\n",
    "print(ebm_model)"
   ]
  },
  {
   "cell_type": "markdown",
   "metadata": {},
   "source": [
    "### Model subprocesses"
   ]
  },
  {
   "cell_type": "markdown",
   "metadata": {},
   "source": [
    "The subprocesses are stored in a dictionary and can be accessed through"
   ]
  },
  {
   "cell_type": "code",
   "execution_count": null,
   "metadata": {},
   "outputs": [],
   "source": [
    "# access model subprocesses\n",
    "ebm_model.subprocess.keys()"
   ]
  },
  {
   "cell_type": "markdown",
   "metadata": {},
   "source": [
    "So to access the time type of the Longwave Radiation subprocess for example, type:"
   ]
  },
  {
   "cell_type": "code",
   "execution_count": null,
   "metadata": {},
   "outputs": [],
   "source": [
    "# access specific subprocess through dictionary\n",
    "ebm_model.subprocess['LW'].time_type"
   ]
  },
  {
   "cell_type": "code",
   "execution_count": null,
   "metadata": {},
   "outputs": [],
   "source": [
    "#  For interactive convenience, you can also use attribute access for the same thing:\n",
    "ebm_model.subprocess.LW.time_type"
   ]
  },
  {
   "cell_type": "markdown",
   "metadata": {},
   "source": [
    "### Model integration"
   ]
  },
  {
   "cell_type": "markdown",
   "metadata": {},
   "source": [
    "The model time dictionary shows information about all the time related content and quantities."
   ]
  },
  {
   "cell_type": "code",
   "execution_count": null,
   "metadata": {},
   "outputs": [],
   "source": [
    "# accessing the model time dictionary\n",
    "ebm_model.time"
   ]
  },
  {
   "cell_type": "markdown",
   "metadata": {},
   "source": [
    "To integrate the model forward in time different methods are availible:"
   ]
  },
  {
   "cell_type": "code",
   "execution_count": null,
   "metadata": {},
   "outputs": [],
   "source": [
    "# integrate model for a single timestep\n",
    "ebm_model.step_forward()"
   ]
  },
  {
   "cell_type": "markdown",
   "metadata": {},
   "source": [
    "The model time step has increased from 0 to 1:"
   ]
  },
  {
   "cell_type": "code",
   "execution_count": null,
   "metadata": {},
   "outputs": [],
   "source": [
    "ebm_model.time['steps']"
   ]
  },
  {
   "cell_type": "code",
   "execution_count": null,
   "metadata": {},
   "outputs": [],
   "source": [
    "# integrate model for a 50 days\n",
    "ebm_model.integrate_days(50.)"
   ]
  },
  {
   "cell_type": "code",
   "execution_count": null,
   "metadata": {},
   "outputs": [],
   "source": [
    "# integrate model for two years\n",
    "ebm_model.integrate_years(1.)"
   ]
  },
  {
   "cell_type": "code",
   "execution_count": null,
   "metadata": {},
   "outputs": [],
   "source": [
    "# integrate model until solution converges\n",
    "ebm_model.integrate_converge()"
   ]
  },
  {
   "cell_type": "markdown",
   "metadata": {},
   "source": [
    "## Plotting model variables"
   ]
  },
  {
   "cell_type": "markdown",
   "metadata": {},
   "source": [
    "A couple of interesting model variables are stored in a dictionary named ``diagnostics``. It has following entries:"
   ]
  },
  {
   "cell_type": "code",
   "execution_count": null,
   "metadata": {},
   "outputs": [],
   "source": [
    "ebm_model.diagnostics.keys()"
   ]
  },
  {
   "cell_type": "markdown",
   "metadata": {},
   "source": [
    "They can be accessed in two ways:\n",
    "\n",
    "- Through dictionary methods like ``ebm_model.diagnostics['ASR']``\n",
    "- As process attributes like ``ebm_model.ASR``"
   ]
  },
  {
   "cell_type": "code",
   "execution_count": null,
   "metadata": {},
   "outputs": [],
   "source": [
    "ebm_model.icelat"
   ]
  },
  {
   "cell_type": "markdown",
   "metadata": {},
   "source": [
    "The following code does the plotting for some model variables."
   ]
  },
  {
   "cell_type": "code",
   "execution_count": null,
   "metadata": {},
   "outputs": [],
   "source": [
    "# creating plot figure\n",
    "fig = plt.figure(figsize=(15,10))\n",
    "\n",
    "# Temperature plot\n",
    "ax1 = fig.add_subplot(221)\n",
    "ax1.plot(ebm_model.lat,ebm_model.Ts)\n",
    "\n",
    "ax1.set_xticks([-90,-60,-30,0,30,60,90])\n",
    "ax1.set_xlim([-90,90])\n",
    "ax1.set_title('Surface Temperature', fontsize=14)\n",
    "ax1.set_ylabel('(degC)', fontsize=12)\n",
    "ax1.grid()\n",
    "\n",
    "# Albedo plot\n",
    "ax2 = fig.add_subplot(223, sharex = ax1)\n",
    "ax2.plot(ebm_model.lat,ebm_model.albedo)\n",
    "\n",
    "ax2.set_title('Albedo', fontsize=14)\n",
    "ax2.set_xlabel('latitude', fontsize=10)\n",
    "ax2.set_ylim([0,1])\n",
    "ax2.grid()\n",
    "\n",
    "# Net Radiation plot\n",
    "ax3 = fig.add_subplot(222, sharex = ax1)\n",
    "ax3.plot(ebm_model.lat, ebm_model.OLR, label='OLR',\n",
    "                                       color='cyan')\n",
    "ax3.plot(ebm_model.lat, ebm_model.ASR, label='ASR',\n",
    "                                       color='magenta')\n",
    "ax3.plot(ebm_model.lat, ebm_model.ASR-ebm_model.OLR, \n",
    "                                       label='net radiation',\n",
    "                                       color='red')\n",
    "\n",
    "ax3.set_title('Net Radiation', fontsize=14)\n",
    "ax3.set_ylabel('(W/m$^2$)', fontsize=12)\n",
    "ax3.legend(loc='best')\n",
    "ax3.grid()\n",
    "\n",
    "# Energy Balance plot\n",
    "net_rad = np.squeeze(ebm_model.net_radiation)\n",
    "transport = ebm_model.heat_transport_convergence()\n",
    "\n",
    "ax4 = fig.add_subplot(224, sharex = ax1)\n",
    "ax4.plot(ebm_model.lat, net_rad, label='net radiation', \n",
    "                                              color='red')\n",
    "ax4.plot(ebm_model.lat, transport, label='heat transport', \n",
    "                                              color='blue')\n",
    "ax4.plot(ebm_model.lat, net_rad+transport, label='balance',\n",
    "                                             color='black')\n",
    "\n",
    "ax4.set_title('Energy', fontsize=14)\n",
    "ax4.set_xlabel('latitude', fontsize=10)\n",
    "ax4.set_ylabel('(W/m$^2$)', fontsize=12)\n",
    "ax4.legend(loc='best')\n",
    "ax4.grid()\n",
    "\n",
    "\n",
    "plt.show()"
   ]
  },
  {
   "cell_type": "markdown",
   "metadata": {},
   "source": [
    "The energy balance is zero at every latitude. That means the model is in equilibrium. Perfect!"
   ]
  },
  {
   "cell_type": "markdown",
   "metadata": {},
   "source": [
    "### Global mean temperature"
   ]
  },
  {
   "cell_type": "markdown",
   "metadata": {},
   "source": [
    "The model's state dictionary has following entries:"
   ]
  },
  {
   "cell_type": "code",
   "execution_count": null,
   "metadata": {},
   "outputs": [],
   "source": [
    "ebm_model.state.keys()"
   ]
  },
  {
   "cell_type": "markdown",
   "metadata": {},
   "source": [
    "Like diagnostics, state variables can be accessed in two ways:\n",
    "\n",
    "- With dictionary methods, ``ebm_model.state['Ts']`` \n",
    "- As process attributes, ``ebm_model.Ts``\n",
    "\n",
    "These are entirely equivalent:"
   ]
  },
  {
   "cell_type": "code",
   "execution_count": null,
   "metadata": {},
   "outputs": [],
   "source": [
    "ebm_model.Ts is ebm_model.state['Ts']"
   ]
  },
  {
   "cell_type": "markdown",
   "metadata": {},
   "source": [
    "The global mean of the model's surface temperature can be calculated through"
   ]
  },
  {
   "cell_type": "code",
   "execution_count": null,
   "metadata": {},
   "outputs": [],
   "source": [
    "print('The global mean temperature is %.2f deg C.' %climlab.global_mean(ebm_model.Ts))\n",
    "print('The modeled ice edge is at %.2f deg latitude.' %np.max(ebm_model.icelat))"
   ]
  },
  {
   "cell_type": "code",
   "execution_count": null,
   "metadata": {},
   "outputs": [],
   "source": []
  }
 ],
 "metadata": {
  "jupytext": {
   "formats": "ipynb,md:myst,py:percent"
  },
  "kernelspec": {
   "display_name": "Python 3",
   "language": "python",
   "name": "python3"
  }
 },
 "nbformat": 4,
 "nbformat_minor": 4
}
